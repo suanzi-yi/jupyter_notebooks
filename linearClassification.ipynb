{
 "cells": [
  {
   "cell_type": "markdown",
   "metadata": {},
   "source": [
    "# 导入所需要的包"
   ]
  },
  {
   "cell_type": "code",
   "execution_count": 1,
   "metadata": {
    "execution": {
     "iopub.execute_input": "2021-10-06T05:35:11.308933Z",
     "iopub.status.busy": "2021-10-06T05:35:11.307936Z",
     "iopub.status.idle": "2021-10-06T05:35:11.473901Z",
     "shell.execute_reply": "2021-10-06T05:35:11.472900Z",
     "shell.execute_reply.started": "2021-10-06T05:35:11.308933Z"
    }
   },
   "outputs": [],
   "source": [
    "import numpy as np\n",
    "import pandas as pd\n",
    "import matplotlib.pyplot as plt"
   ]
  },
  {
   "cell_type": "markdown",
   "metadata": {},
   "source": [
    "# 读取和预处理所需要的的数据"
   ]
  },
  {
   "cell_type": "code",
   "execution_count": 2,
   "metadata": {
    "execution": {
     "iopub.execute_input": "2021-10-06T05:35:11.474898Z",
     "iopub.status.busy": "2021-10-06T05:35:11.474898Z",
     "iopub.status.idle": "2021-10-06T05:35:11.488611Z",
     "shell.execute_reply": "2021-10-06T05:35:11.488611Z",
     "shell.execute_reply.started": "2021-10-06T05:35:11.474898Z"
    }
   },
   "outputs": [],
   "source": [
    "df=pd.read_csv(\"watermelon.csv\")\n",
    "m,n=df.shape"
   ]
  },
  {
   "cell_type": "code",
   "execution_count": 3,
   "metadata": {
    "execution": {
     "iopub.execute_input": "2021-10-06T05:35:11.490606Z",
     "iopub.status.busy": "2021-10-06T05:35:11.489608Z",
     "iopub.status.idle": "2021-10-06T05:35:11.520161Z",
     "shell.execute_reply": "2021-10-06T05:35:11.520161Z",
     "shell.execute_reply.started": "2021-10-06T05:35:11.489608Z"
    }
   },
   "outputs": [
    {
     "data": {
      "text/html": [
       "<div>\n",
       "<style scoped>\n",
       "    .dataframe tbody tr th:only-of-type {\n",
       "        vertical-align: middle;\n",
       "    }\n",
       "\n",
       "    .dataframe tbody tr th {\n",
       "        vertical-align: top;\n",
       "    }\n",
       "\n",
       "    .dataframe thead th {\n",
       "        text-align: right;\n",
       "    }\n",
       "</style>\n",
       "<table border=\"1\" class=\"dataframe\">\n",
       "  <thead>\n",
       "    <tr style=\"text-align: right;\">\n",
       "      <th></th>\n",
       "      <th>NO</th>\n",
       "      <th>色泽</th>\n",
       "      <th>根蒂</th>\n",
       "      <th>敲声</th>\n",
       "      <th>纹理</th>\n",
       "      <th>脐部</th>\n",
       "      <th>触感</th>\n",
       "      <th>midu</th>\n",
       "      <th>tang</th>\n",
       "      <th>nice</th>\n",
       "    </tr>\n",
       "  </thead>\n",
       "  <tbody>\n",
       "    <tr>\n",
       "      <th>0</th>\n",
       "      <td>1</td>\n",
       "      <td>青绿</td>\n",
       "      <td>蜷缩</td>\n",
       "      <td>浊响</td>\n",
       "      <td>清晰</td>\n",
       "      <td>凹陷</td>\n",
       "      <td>硬滑</td>\n",
       "      <td>0.697</td>\n",
       "      <td>0.460</td>\n",
       "      <td>1</td>\n",
       "    </tr>\n",
       "    <tr>\n",
       "      <th>1</th>\n",
       "      <td>2</td>\n",
       "      <td>乌黑</td>\n",
       "      <td>蜷缩</td>\n",
       "      <td>沉闷</td>\n",
       "      <td>清晰</td>\n",
       "      <td>凹陷</td>\n",
       "      <td>硬滑</td>\n",
       "      <td>0.774</td>\n",
       "      <td>0.376</td>\n",
       "      <td>1</td>\n",
       "    </tr>\n",
       "    <tr>\n",
       "      <th>2</th>\n",
       "      <td>3</td>\n",
       "      <td>乌黑</td>\n",
       "      <td>蜷缩</td>\n",
       "      <td>浊响</td>\n",
       "      <td>清晰</td>\n",
       "      <td>凹陷</td>\n",
       "      <td>硬滑</td>\n",
       "      <td>0.634</td>\n",
       "      <td>0.264</td>\n",
       "      <td>1</td>\n",
       "    </tr>\n",
       "    <tr>\n",
       "      <th>3</th>\n",
       "      <td>4</td>\n",
       "      <td>青绿</td>\n",
       "      <td>蜷缩</td>\n",
       "      <td>沉闷</td>\n",
       "      <td>清晰</td>\n",
       "      <td>凹陷</td>\n",
       "      <td>硬滑</td>\n",
       "      <td>0.608</td>\n",
       "      <td>0.318</td>\n",
       "      <td>1</td>\n",
       "    </tr>\n",
       "    <tr>\n",
       "      <th>4</th>\n",
       "      <td>5</td>\n",
       "      <td>浅白</td>\n",
       "      <td>蜷缩</td>\n",
       "      <td>浊响</td>\n",
       "      <td>清晰</td>\n",
       "      <td>凹陷</td>\n",
       "      <td>硬滑</td>\n",
       "      <td>0.556</td>\n",
       "      <td>0.215</td>\n",
       "      <td>1</td>\n",
       "    </tr>\n",
       "    <tr>\n",
       "      <th>5</th>\n",
       "      <td>6</td>\n",
       "      <td>青绿</td>\n",
       "      <td>稍蜷</td>\n",
       "      <td>浊响</td>\n",
       "      <td>清晰</td>\n",
       "      <td>稍凹</td>\n",
       "      <td>软粘</td>\n",
       "      <td>0.403</td>\n",
       "      <td>0.237</td>\n",
       "      <td>1</td>\n",
       "    </tr>\n",
       "    <tr>\n",
       "      <th>6</th>\n",
       "      <td>7</td>\n",
       "      <td>乌黑</td>\n",
       "      <td>稍蜷</td>\n",
       "      <td>浊响</td>\n",
       "      <td>稍糊</td>\n",
       "      <td>稍凹</td>\n",
       "      <td>软粘</td>\n",
       "      <td>0.481</td>\n",
       "      <td>0.149</td>\n",
       "      <td>1</td>\n",
       "    </tr>\n",
       "    <tr>\n",
       "      <th>7</th>\n",
       "      <td>8</td>\n",
       "      <td>乌黑</td>\n",
       "      <td>稍蜷</td>\n",
       "      <td>浊响</td>\n",
       "      <td>清晰</td>\n",
       "      <td>稍凹</td>\n",
       "      <td>硬滑</td>\n",
       "      <td>0.437</td>\n",
       "      <td>0.211</td>\n",
       "      <td>1</td>\n",
       "    </tr>\n",
       "    <tr>\n",
       "      <th>8</th>\n",
       "      <td>9</td>\n",
       "      <td>乌黑</td>\n",
       "      <td>稍蜷</td>\n",
       "      <td>沉闷</td>\n",
       "      <td>稍糊</td>\n",
       "      <td>稍凹</td>\n",
       "      <td>硬滑</td>\n",
       "      <td>0.666</td>\n",
       "      <td>0.091</td>\n",
       "      <td>0</td>\n",
       "    </tr>\n",
       "    <tr>\n",
       "      <th>9</th>\n",
       "      <td>10</td>\n",
       "      <td>青绿</td>\n",
       "      <td>硬挺</td>\n",
       "      <td>清脆</td>\n",
       "      <td>清晰</td>\n",
       "      <td>平坦</td>\n",
       "      <td>软粘</td>\n",
       "      <td>0.243</td>\n",
       "      <td>0.267</td>\n",
       "      <td>0</td>\n",
       "    </tr>\n",
       "    <tr>\n",
       "      <th>10</th>\n",
       "      <td>11</td>\n",
       "      <td>浅白</td>\n",
       "      <td>硬挺</td>\n",
       "      <td>清脆</td>\n",
       "      <td>模糊</td>\n",
       "      <td>平坦</td>\n",
       "      <td>硬滑</td>\n",
       "      <td>0.245</td>\n",
       "      <td>0.057</td>\n",
       "      <td>0</td>\n",
       "    </tr>\n",
       "    <tr>\n",
       "      <th>11</th>\n",
       "      <td>12</td>\n",
       "      <td>浅白</td>\n",
       "      <td>蜷缩</td>\n",
       "      <td>浊响</td>\n",
       "      <td>模糊</td>\n",
       "      <td>平坦</td>\n",
       "      <td>软粘</td>\n",
       "      <td>0.343</td>\n",
       "      <td>0.099</td>\n",
       "      <td>0</td>\n",
       "    </tr>\n",
       "    <tr>\n",
       "      <th>12</th>\n",
       "      <td>13</td>\n",
       "      <td>青绿</td>\n",
       "      <td>稍蜷</td>\n",
       "      <td>浊响</td>\n",
       "      <td>稍糊</td>\n",
       "      <td>凹陷</td>\n",
       "      <td>硬滑</td>\n",
       "      <td>0.639</td>\n",
       "      <td>0.161</td>\n",
       "      <td>0</td>\n",
       "    </tr>\n",
       "    <tr>\n",
       "      <th>13</th>\n",
       "      <td>14</td>\n",
       "      <td>浅白</td>\n",
       "      <td>稍蜷</td>\n",
       "      <td>沉闷</td>\n",
       "      <td>稍糊</td>\n",
       "      <td>凹陷</td>\n",
       "      <td>硬滑</td>\n",
       "      <td>0.657</td>\n",
       "      <td>0.198</td>\n",
       "      <td>0</td>\n",
       "    </tr>\n",
       "    <tr>\n",
       "      <th>14</th>\n",
       "      <td>15</td>\n",
       "      <td>乌黑</td>\n",
       "      <td>稍蜷</td>\n",
       "      <td>浊响</td>\n",
       "      <td>清晰</td>\n",
       "      <td>稍凹</td>\n",
       "      <td>软粘</td>\n",
       "      <td>0.360</td>\n",
       "      <td>0.370</td>\n",
       "      <td>0</td>\n",
       "    </tr>\n",
       "    <tr>\n",
       "      <th>15</th>\n",
       "      <td>16</td>\n",
       "      <td>浅白</td>\n",
       "      <td>蜷缩</td>\n",
       "      <td>浊响</td>\n",
       "      <td>模糊</td>\n",
       "      <td>平坦</td>\n",
       "      <td>硬滑</td>\n",
       "      <td>0.593</td>\n",
       "      <td>0.042</td>\n",
       "      <td>0</td>\n",
       "    </tr>\n",
       "    <tr>\n",
       "      <th>16</th>\n",
       "      <td>17</td>\n",
       "      <td>青绿</td>\n",
       "      <td>蜷缩</td>\n",
       "      <td>沉闷</td>\n",
       "      <td>稍糊</td>\n",
       "      <td>稍凹</td>\n",
       "      <td>硬滑</td>\n",
       "      <td>0.719</td>\n",
       "      <td>0.103</td>\n",
       "      <td>0</td>\n",
       "    </tr>\n",
       "  </tbody>\n",
       "</table>\n",
       "</div>"
      ],
      "text/plain": [
       "    NO  色泽  根蒂  敲声  纹理  脐部  触感   midu   tang  nice\n",
       "0    1  青绿  蜷缩  浊响  清晰  凹陷  硬滑  0.697  0.460     1\n",
       "1    2  乌黑  蜷缩  沉闷  清晰  凹陷  硬滑  0.774  0.376     1\n",
       "2    3  乌黑  蜷缩  浊响  清晰  凹陷  硬滑  0.634  0.264     1\n",
       "3    4  青绿  蜷缩  沉闷  清晰  凹陷  硬滑  0.608  0.318     1\n",
       "4    5  浅白  蜷缩  浊响  清晰  凹陷  硬滑  0.556  0.215     1\n",
       "5    6  青绿  稍蜷  浊响  清晰  稍凹  软粘  0.403  0.237     1\n",
       "6    7  乌黑  稍蜷  浊响  稍糊  稍凹  软粘  0.481  0.149     1\n",
       "7    8  乌黑  稍蜷  浊响  清晰  稍凹  硬滑  0.437  0.211     1\n",
       "8    9  乌黑  稍蜷  沉闷  稍糊  稍凹  硬滑  0.666  0.091     0\n",
       "9   10  青绿  硬挺  清脆  清晰  平坦  软粘  0.243  0.267     0\n",
       "10  11  浅白  硬挺  清脆  模糊  平坦  硬滑  0.245  0.057     0\n",
       "11  12  浅白  蜷缩  浊响  模糊  平坦  软粘  0.343  0.099     0\n",
       "12  13  青绿  稍蜷  浊响  稍糊  凹陷  硬滑  0.639  0.161     0\n",
       "13  14  浅白  稍蜷  沉闷  稍糊  凹陷  硬滑  0.657  0.198     0\n",
       "14  15  乌黑  稍蜷  浊响  清晰  稍凹  软粘  0.360  0.370     0\n",
       "15  16  浅白  蜷缩  浊响  模糊  平坦  硬滑  0.593  0.042     0\n",
       "16  17  青绿  蜷缩  沉闷  稍糊  稍凹  硬滑  0.719  0.103     0"
      ]
     },
     "execution_count": 3,
     "metadata": {},
     "output_type": "execute_result"
    }
   ],
   "source": [
    "df#查看读取的数据"
   ]
  },
  {
   "cell_type": "code",
   "execution_count": 4,
   "metadata": {
    "execution": {
     "iopub.execute_input": "2021-10-06T05:35:11.521158Z",
     "iopub.status.busy": "2021-10-06T05:35:11.521158Z",
     "iopub.status.idle": "2021-10-06T05:35:11.536119Z",
     "shell.execute_reply": "2021-10-06T05:35:11.536119Z",
     "shell.execute_reply.started": "2021-10-06T05:35:11.521158Z"
    }
   },
   "outputs": [
    {
     "data": {
      "text/plain": [
       "(17, 10)"
      ]
     },
     "execution_count": 4,
     "metadata": {},
     "output_type": "execute_result"
    }
   ],
   "source": [
    "m,n#数据的形状为17*10"
   ]
  },
  {
   "cell_type": "code",
   "execution_count": 5,
   "metadata": {
    "execution": {
     "iopub.execute_input": "2021-10-06T05:35:11.537116Z",
     "iopub.status.busy": "2021-10-06T05:35:11.537116Z",
     "iopub.status.idle": "2021-10-06T05:35:11.552076Z",
     "shell.execute_reply": "2021-10-06T05:35:11.551078Z",
     "shell.execute_reply.started": "2021-10-06T05:35:11.537116Z"
    }
   },
   "outputs": [
    {
     "data": {
      "text/plain": [
       "array([[0.697, 0.46 ],\n",
       "       [0.774, 0.376],\n",
       "       [0.634, 0.264],\n",
       "       [0.608, 0.318],\n",
       "       [0.556, 0.215],\n",
       "       [0.403, 0.237],\n",
       "       [0.481, 0.149],\n",
       "       [0.437, 0.211],\n",
       "       [0.666, 0.091],\n",
       "       [0.243, 0.267],\n",
       "       [0.245, 0.057],\n",
       "       [0.343, 0.099],\n",
       "       [0.639, 0.161],\n",
       "       [0.657, 0.198],\n",
       "       [0.36 , 0.37 ],\n",
       "       [0.593, 0.042],\n",
       "       [0.719, 0.103]])"
      ]
     },
     "execution_count": 5,
     "metadata": {},
     "output_type": "execute_result"
    }
   ],
   "source": [
    "#将数据转化为矩阵形式\n",
    "dataMat=np.array(df[['NO','midu','tang']].values[:,1:])\n",
    "dataMat"
   ]
  },
  {
   "cell_type": "code",
   "execution_count": 6,
   "metadata": {
    "execution": {
     "iopub.execute_input": "2021-10-06T05:35:11.553073Z",
     "iopub.status.busy": "2021-10-06T05:35:11.552076Z",
     "iopub.status.idle": "2021-10-06T05:35:11.567063Z",
     "shell.execute_reply": "2021-10-06T05:35:11.567063Z",
     "shell.execute_reply.started": "2021-10-06T05:35:11.553073Z"
    }
   },
   "outputs": [
    {
     "data": {
      "text/plain": [
       "matrix([[1],\n",
       "        [1],\n",
       "        [1],\n",
       "        [1],\n",
       "        [1],\n",
       "        [1],\n",
       "        [1],\n",
       "        [1],\n",
       "        [0],\n",
       "        [0],\n",
       "        [0],\n",
       "        [0],\n",
       "        [0],\n",
       "        [0],\n",
       "        [0],\n",
       "        [0],\n",
       "        [0]], dtype=int64)"
      ]
     },
     "execution_count": 6,
     "metadata": {},
     "output_type": "execute_result"
    }
   ],
   "source": [
    "# 将nice列转化为矩阵，并将其转置成为列矩阵\n",
    "labelMat=np.mat(df['nice'].values[:]).transpose() \n",
    "labelMat"
   ]
  },
  {
   "cell_type": "code",
   "execution_count": 7,
   "metadata": {
    "execution": {
     "iopub.execute_input": "2021-10-06T05:35:11.569032Z",
     "iopub.status.busy": "2021-10-06T05:35:11.569032Z",
     "iopub.status.idle": "2021-10-06T05:35:11.583992Z",
     "shell.execute_reply": "2021-10-06T05:35:11.582993Z",
     "shell.execute_reply.started": "2021-10-06T05:35:11.569032Z"
    }
   },
   "outputs": [
    {
     "data": {
      "text/plain": [
       "array([[1.],\n",
       "       [1.]])"
      ]
     },
     "execution_count": 7,
     "metadata": {},
     "output_type": "execute_result"
    }
   ],
   "source": [
    "# 创建个w矩阵和同阶\n",
    "w=np.array(np.ones(shape=(len(dataMat[1]),1))) # 各个属性的系数矩阵\n",
    "w"
   ]
  },
  {
   "cell_type": "markdown",
   "metadata": {},
   "source": [
    "# 迭代运算"
   ]
  },
  {
   "cell_type": "code",
   "execution_count": 8,
   "metadata": {
    "execution": {
     "iopub.execute_input": "2021-10-06T05:35:11.585988Z",
     "iopub.status.busy": "2021-10-06T05:35:11.585988Z",
     "iopub.status.idle": "2021-10-06T05:35:11.631023Z",
     "shell.execute_reply": "2021-10-06T05:35:11.630294Z",
     "shell.execute_reply.started": "2021-10-06T05:35:11.585988Z"
    }
   },
   "outputs": [
    {
     "data": {
      "text/plain": [
       "array([[-1.13488892],\n",
       "       [ 3.01574572]])"
      ]
     },
     "execution_count": 8,
     "metadata": {},
     "output_type": "execute_result"
    }
   ],
   "source": [
    "#对w的修正\n",
    "def sigmoid(x):\n",
    "    return 1.0/(1.0+np.exp(-x))\n",
    "#\n",
    "b = 0\n",
    "stu_rate=0.1\n",
    "max_count=100\n",
    "#进行迭代运算\n",
    "for k in range(max_count):\n",
    "    for i in range(m):\n",
    "        x=np.dot(dataMat[i],w)+b\n",
    "        y=sigmoid(x)\n",
    "        lost = labelMat[i]-y\n",
    "        w=w+stu_rate*lost[0,0]*(dataMat[i].reshape(2,1))\n",
    "w"
   ]
  },
  {
   "cell_type": "markdown",
   "metadata": {},
   "source": [
    "# 数据可视化"
   ]
  },
  {
   "cell_type": "code",
   "execution_count": 9,
   "metadata": {
    "execution": {
     "iopub.execute_input": "2021-10-06T05:35:11.632018Z",
     "iopub.status.busy": "2021-10-06T05:35:11.632018Z",
     "iopub.status.idle": "2021-10-06T05:35:11.646211Z",
     "shell.execute_reply": "2021-10-06T05:35:11.646211Z",
     "shell.execute_reply.started": "2021-10-06T05:35:11.632018Z"
    }
   },
   "outputs": [
    {
     "data": {
      "text/plain": [
       "17"
      ]
     },
     "execution_count": 9,
     "metadata": {},
     "output_type": "execute_result"
    }
   ],
   "source": [
    "m=np.shape(dataMat)[0] #获得总共有多少数据点\n",
    "m"
   ]
  },
  {
   "cell_type": "code",
   "execution_count": 10,
   "metadata": {
    "execution": {
     "iopub.execute_input": "2021-10-06T05:35:11.647209Z",
     "iopub.status.busy": "2021-10-06T05:35:11.647209Z",
     "iopub.status.idle": "2021-10-06T05:35:11.662169Z",
     "shell.execute_reply": "2021-10-06T05:35:11.662169Z",
     "shell.execute_reply.started": "2021-10-06T05:35:11.647209Z"
    }
   },
   "outputs": [],
   "source": [
    "#cord1 记录nice 标签的点\n",
    "xcord1=[]\n",
    "ycord1=[]\n",
    "#cord2 记录不nice 标签的点\n",
    "xcord2=[]\n",
    "ycord2=[]"
   ]
  },
  {
   "cell_type": "code",
   "execution_count": 11,
   "metadata": {
    "execution": {
     "iopub.execute_input": "2021-10-06T05:35:11.663167Z",
     "iopub.status.busy": "2021-10-06T05:35:11.663167Z",
     "iopub.status.idle": "2021-10-06T05:35:11.678152Z",
     "shell.execute_reply": "2021-10-06T05:35:11.678152Z",
     "shell.execute_reply.started": "2021-10-06T05:35:11.663167Z"
    }
   },
   "outputs": [],
   "source": [
    "#将nice的点和不nice的点分别写入到记录坐标的列表里面去\n",
    "for i in range(m):\n",
    "    if labelMat[i]==1:\n",
    "        xcord1.append(dataMat[i,0])\n",
    "        ycord1.append(dataMat[i,1])\n",
    "    else:\n",
    "        xcord2.append(dataMat[i,0])\n",
    "        ycord2.append(dataMat[i,1])"
   ]
  },
  {
   "cell_type": "code",
   "execution_count": 12,
   "metadata": {
    "execution": {
     "iopub.execute_input": "2021-10-06T05:35:11.679123Z",
     "iopub.status.busy": "2021-10-06T05:35:11.679123Z",
     "iopub.status.idle": "2021-10-06T05:35:11.789143Z",
     "shell.execute_reply": "2021-10-06T05:35:11.788560Z",
     "shell.execute_reply.started": "2021-10-06T05:35:11.679123Z"
    }
   },
   "outputs": [
    {
     "data": {
      "image/png": "[encoded data removed]",
      "text/plain": [
       "<Figure size 432x288 with 1 Axes>"
      ]
     },
     "metadata": {
      "needs_background": "light"
     },
     "output_type": "display_data"
    }
   ],
   "source": [
    "#建立画布和坐标系\n",
    "plt.figure(1)\n",
    "ax=plt.subplot(111)"
   ]
  },
  {
   "cell_type": "code",
   "execution_count": 13,
   "metadata": {
    "execution": {
     "iopub.execute_input": "2021-10-06T05:35:11.789143Z",
     "iopub.status.busy": "2021-10-06T05:35:11.789143Z",
     "iopub.status.idle": "2021-10-06T05:35:11.804172Z",
     "shell.execute_reply": "2021-10-06T05:35:11.804172Z",
     "shell.execute_reply.started": "2021-10-06T05:35:11.789143Z"
    }
   },
   "outputs": [
    {
     "data": {
      "text/plain": [
       "<matplotlib.collections.PathCollection at 0x25736c3b9d0>"
      ]
     },
     "execution_count": 13,
     "metadata": {},
     "output_type": "execute_result"
    }
   ],
   "source": [
    "# scatter 保存散点\n",
    "ax.scatter(xcord1,ycord1,s=30,c='red',marker='s')\n",
    "ax.scatter(xcord2,ycord2,s=30,c='green',marker='o')"
   ]
  },
  {
   "cell_type": "code",
   "execution_count": 14,
   "metadata": {
    "execution": {
     "iopub.execute_input": "2021-10-06T05:35:11.805171Z",
     "iopub.status.busy": "2021-10-06T05:35:11.805171Z",
     "iopub.status.idle": "2021-10-06T05:35:11.820184Z",
     "shell.execute_reply": "2021-10-06T05:35:11.820184Z",
     "shell.execute_reply.started": "2021-10-06T05:35:11.805171Z"
    }
   },
   "outputs": [],
   "source": [
    "#保存x，y坐标\n",
    "x=np.arange(0.0,1.0,0.1)\n",
    "y=np.array((-w[0]*x)/w[1])#为什么要这么设计？"
   ]
  },
  {
   "cell_type": "code",
   "execution_count": 15,
   "metadata": {
    "execution": {
     "iopub.execute_input": "2021-10-06T05:35:11.821183Z",
     "iopub.status.busy": "2021-10-06T05:35:11.821183Z",
     "iopub.status.idle": "2021-10-06T05:35:11.914821Z",
     "shell.execute_reply": "2021-10-06T05:35:11.914821Z",
     "shell.execute_reply.started": "2021-10-06T05:35:11.821183Z"
    }
   },
   "outputs": [
    {
     "data": {
      "text/plain": [
       "Text(3.200000000000003, 0.5, 'tang')"
      ]
     },
     "execution_count": 15,
     "metadata": {},
     "output_type": "execute_result"
    },
    {
     "data": {
      "image/png": "[encoded data removed]",
      "text/plain": [
       "<Figure size 432x288 with 1 Axes>"
      ]
     },
     "metadata": {
      "needs_background": "light"
     },
     "output_type": "display_data"
    }
   ],
   "source": [
    "plt.sca(ax)\n",
    "plt.plot(x,y)      \n",
    "plt.xlabel('midu')\n",
    "plt.ylabel('tang')"
   ]
  }
 ],
 "metadata": {
  "kernelspec": {
   "display_name": "Python 3",
   "language": "python",
   "name": "python3"
  },
  "language_info": {
   "codemirror_mode": {
    "name": "ipython",
    "version": 3
   },
   "file_extension": ".py",
   "mimetype": "text/x-python",
   "name": "python",
   "nbconvert_exporter": "python",
   "pygments_lexer": "ipython3",
   "version": "3.8.5"
  },
  "toc-autonumbering": true
 },
 "nbformat": 4,
 "nbformat_minor": 4
}
