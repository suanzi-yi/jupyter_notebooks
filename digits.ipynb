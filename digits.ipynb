{
 "cells": [
  {
   "cell_type": "markdown",
   "metadata": {
    "toc": true
   },
   "source": [
    "<h1>Table of Contents<span class=\"tocSkip\"></span></h1>\n",
    "<div class=\"toc\"><ul class=\"toc-item\"><li><span><a href=\"#问题引入\" data-toc-modified-id=\"问题引入-1\"><span class=\"toc-item-num\">1&nbsp;&nbsp;</span>问题引入</a></span><ul class=\"toc-item\"><li><span><a href=\"#实现原理\" data-toc-modified-id=\"实现原理-1.1\"><span class=\"toc-item-num\">1.1&nbsp;&nbsp;</span>实现原理</a></span></li></ul></li><li><span><a href=\"#数据导入\" data-toc-modified-id=\"数据导入-2\"><span class=\"toc-item-num\">2&nbsp;&nbsp;</span>数据导入</a></span><ul class=\"toc-item\"><li><span><a href=\"#数据预处理\" data-toc-modified-id=\"数据预处理-2.1\"><span class=\"toc-item-num\">2.1&nbsp;&nbsp;</span>数据预处理</a></span></li><li><span><a href=\"#划分训练集和测试集\" data-toc-modified-id=\"划分训练集和测试集-2.2\"><span class=\"toc-item-num\">2.2&nbsp;&nbsp;</span>划分训练集和测试集</a></span></li><li><span><a href=\"#数据预览\" data-toc-modified-id=\"数据预览-2.3\"><span class=\"toc-item-num\">2.3&nbsp;&nbsp;</span>数据预览</a></span></li></ul></li><li><span><a href=\"#建立分类器\" data-toc-modified-id=\"建立分类器-3\"><span class=\"toc-item-num\">3&nbsp;&nbsp;</span>建立分类器</a></span><ul class=\"toc-item\"><li><span><a href=\"#OneVsOneClassifier-一对一分类器\" data-toc-modified-id=\"OneVsOneClassifier-一对一分类器-3.1\"><span class=\"toc-item-num\">3.1&nbsp;&nbsp;</span>OneVsOneClassifier 一对一分类器</a></span><ul class=\"toc-item\"><li><span><a href=\"#建立元估计器\" data-toc-modified-id=\"建立元估计器-3.1.1\"><span class=\"toc-item-num\">3.1.1&nbsp;&nbsp;</span>建立元估计器</a></span></li><li><span><a href=\"#对分类器进行测试，对测试集进行预测\" data-toc-modified-id=\"对分类器进行测试，对测试集进行预测-3.1.2\"><span class=\"toc-item-num\">3.1.2&nbsp;&nbsp;</span>对分类器进行测试，对测试集进行预测</a></span></li></ul></li><li><span><a href=\"#OneVsRestClassifier-一对多分类器\" data-toc-modified-id=\"OneVsRestClassifier-一对多分类器-3.2\"><span class=\"toc-item-num\">3.2&nbsp;&nbsp;</span>OneVsRestClassifier 一对多分类器</a></span><ul class=\"toc-item\"><li><span><a href=\"#建立元估计器\" data-toc-modified-id=\"建立元估计器-3.2.1\"><span class=\"toc-item-num\">3.2.1&nbsp;&nbsp;</span>建立元估计器</a></span></li><li><span><a href=\"#对分类器进行测试，对测试集进行预测\" data-toc-modified-id=\"对分类器进行测试，对测试集进行预测-3.2.2\"><span class=\"toc-item-num\">3.2.2&nbsp;&nbsp;</span>对分类器进行测试，对测试集进行预测</a></span></li></ul></li></ul></li></ul></div>"
   ]
  },
  {
   "cell_type": "markdown",
   "metadata": {},
   "source": [
    "# 问题引入"
   ]
  },
  {
   "cell_type": "markdown",
   "metadata": {},
   "source": [
    "手写数字识别是一个多分类的问题\n",
    "\n",
    "对于多类别分类问题\n",
    " \n",
    "手写数字有 0-9 十类，但手头上只有两分类估计器 (比如像支撑向量机) 怎么用呢？我们可以采取下面两种种常见策略：\n",
    "\n",
    "一对一 (One vs One, OvO)：一个分类器用来处理数字 0 和数字 1，一个用来处理数字 0 和数字 2，一个用来处理数字 1 和 2，以此类推。N 个类需要 N(N-1)/2 个分类器。\n",
    "\n",
    "一对其他 (One vs All, OvA)：训练 10 个二分类器，每一个对应一个数字，第一个分类 1 和「非1」，第二个分类 2 和「非2」，以此类推。N 个类需要 N 个分类器。"
   ]
  },
  {
   "cell_type": "markdown",
   "metadata": {},
   "source": [
    "## 实现原理"
   ]
  },
  {
   "cell_type": "markdown",
   "metadata": {},
   "source": [
    "##### OneVsOneClassifier\n",
    "\n",
    " \n",
    "\n",
    "考虑一个具体天气多分类问题，天气可以是晴天、阴天和雨天，在 OvO 中，三个分类器为 f1 , f2 和 f3 。\n",
    "\n",
    " \n",
    "\n",
    "f1 负责分类三角形和正方形\n",
    "\n",
    "f2 负责分类三角形和圆形\n",
    "\n",
    "f3 负责分类圆形和正方形\n",
    "\n",
    " \n",
    "\n",
    "结果如下\n",
    "\n",
    " \n",
    "\n",
    "f1 预测 ▲\n",
    "\n",
    "f2 预测 ▲ \n",
    "\n",
    "f3 预测 ●\n",
    "\n",
    " \n",
    "\n",
    "根据多数原则得到的结合预测为 ●，如下图所示。"
   ]
  },
  {
   "cell_type": "code",
   "execution_count": 1,
   "metadata": {
    "ExecuteTime": {
     "end_time": "2021-10-15T07:50:28.517715Z",
     "start_time": "2021-10-15T07:50:28.500736Z"
    }
   },
   "outputs": [
    {
     "data": {
      "text/html": [
       "<img src=\"https://img-blog.csdnimg.cn/img_convert/027f29d41fbc97a9a8fd381bfb9f7fec.png\"/>"
      ],
      "text/plain": [
       "<IPython.core.display.Image object>"
      ]
     },
     "execution_count": 1,
     "metadata": {},
     "output_type": "execute_result"
    }
   ],
   "source": [
    "from IPython.display import Image\n",
    "Image(url='https://img-blog.csdnimg.cn/img_convert/027f29d41fbc97a9a8fd381bfb9f7fec.png')"
   ]
  },
  {
   "cell_type": "markdown",
   "metadata": {},
   "source": [
    "一对一的分类器的思想是，对于随机的每两种类别组合，分别有一个分类器对其进行分类，对于0-9的手写数字识别问题，在10种标签中选取两种进行一次分类，然后综合所有的分类器的结果进行选取"
   ]
  },
  {
   "cell_type": "markdown",
   "metadata": {},
   "source": [
    "##### OneVsRestClassifier\n",
    "\n",
    " \n",
    "\n",
    "在 OvA 中，把数据分成“某个”和“其他”\n",
    "\n",
    " \n",
    "\n",
    "图一，某个 = 三角形，其他 = 正方形和圆形\n",
    "\n",
    "图二，某个 = 正方形，其他 = 三角形和圆形\n",
    "\n",
    "图三，某个 = 圆形，其他 = 三角形和正方形\n",
    "\n",
    " \n",
    "\n",
    "三分类分解成三个二分类，对应的分类器为 f1 , f2 和 f3 。\n",
    "\n",
    " \n",
    "\n",
    "f1 预测负类，即预测 ● 和 ◼\n",
    "\n",
    "f2 预测负类，即预测 ▲ 和 ●\n",
    "\n",
    "f3 预测正类，即预测 ●\n",
    "\n",
    " \n",
    "\n",
    "三个分类器都预测了 ●，根据多数原则得到的预测是 ●。"
   ]
  },
  {
   "cell_type": "code",
   "execution_count": 2,
   "metadata": {
    "ExecuteTime": {
     "end_time": "2021-10-15T07:54:52.603883Z",
     "start_time": "2021-10-15T07:54:52.597932Z"
    }
   },
   "outputs": [
    {
     "data": {
      "text/html": [
       "<img src=\"https://img-blog.csdnimg.cn/img_convert/48ced3261bbd1e2cf0f6486579a37ca3.png\"/>"
      ],
      "text/plain": [
       "<IPython.core.display.Image object>"
      ]
     },
     "execution_count": 2,
     "metadata": {},
     "output_type": "execute_result"
    }
   ],
   "source": [
    "Image(url='https://img-blog.csdnimg.cn/img_convert/48ced3261bbd1e2cf0f6486579a37ca3.png')"
   ]
  },
  {
   "cell_type": "markdown",
   "metadata": {},
   "source": [
    "而对于一对多分类问题，可以采取的办法是，对于每一种类别，分别和其余类别进行分类，从而完整整个分类问题"
   ]
  },
  {
   "cell_type": "markdown",
   "metadata": {},
   "source": [
    "# 数据导入"
   ]
  },
  {
   "cell_type": "code",
   "execution_count": 8,
   "metadata": {
    "ExecuteTime": {
     "end_time": "2021-10-15T07:58:59.076035Z",
     "start_time": "2021-10-15T07:58:59.000207Z"
    }
   },
   "outputs": [
    {
     "data": {
      "text/plain": [
       "dict_keys(['data', 'target', 'frame', 'feature_names', 'target_names', 'images', 'DESCR'])"
      ]
     },
     "execution_count": 8,
     "metadata": {},
     "output_type": "execute_result"
    }
   ],
   "source": [
    "from sklearn.datasets import load_digits\n",
    "digits = load_digits()\n",
    "digits.keys()#查看数据集的所有的keys"
   ]
  },
  {
   "cell_type": "code",
   "execution_count": 6,
   "metadata": {
    "ExecuteTime": {
     "end_time": "2021-10-15T07:58:34.714331Z",
     "start_time": "2021-10-15T07:58:34.701332Z"
    },
    "scrolled": true
   },
   "outputs": [
    {
     "data": {
      "text/plain": [
       "array([[ 0.,  0.,  5., ...,  0.,  0.,  0.],\n",
       "       [ 0.,  0.,  0., ..., 10.,  0.,  0.],\n",
       "       [ 0.,  0.,  0., ..., 16.,  9.,  0.],\n",
       "       ...,\n",
       "       [ 0.,  0.,  1., ...,  6.,  0.,  0.],\n",
       "       [ 0.,  0.,  2., ..., 12.,  0.,  0.],\n",
       "       [ 0.,  0., 10., ..., 12.,  1.,  0.]])"
      ]
     },
     "execution_count": 6,
     "metadata": {},
     "output_type": "execute_result"
    }
   ],
   "source": [
    "digits['data']#查看像素的值"
   ]
  },
  {
   "cell_type": "code",
   "execution_count": 28,
   "metadata": {
    "ExecuteTime": {
     "end_time": "2021-10-15T08:27:54.493038Z",
     "start_time": "2021-10-15T08:27:54.483101Z"
    }
   },
   "outputs": [
    {
     "data": {
      "text/plain": [
       "(1797, 64)"
      ]
     },
     "execution_count": 28,
     "metadata": {},
     "output_type": "execute_result"
    }
   ],
   "source": [
    "digits['data'].shape#每一张图片是1*64像素的图片"
   ]
  },
  {
   "cell_type": "code",
   "execution_count": 7,
   "metadata": {
    "ExecuteTime": {
     "end_time": "2021-10-15T07:58:41.744812Z",
     "start_time": "2021-10-15T07:58:41.734839Z"
    }
   },
   "outputs": [
    {
     "data": {
      "text/plain": [
       "array([0, 1, 2, ..., 8, 9, 8])"
      ]
     },
     "execution_count": 7,
     "metadata": {},
     "output_type": "execute_result"
    }
   ],
   "source": [
    "digits['target']#查看标签的值"
   ]
  },
  {
   "cell_type": "markdown",
   "metadata": {},
   "source": [
    "## 数据预处理"
   ]
  },
  {
   "cell_type": "code",
   "execution_count": 12,
   "metadata": {
    "ExecuteTime": {
     "end_time": "2021-10-15T08:02:13.580858Z",
     "start_time": "2021-10-15T08:02:13.575841Z"
    }
   },
   "outputs": [
    {
     "data": {
      "text/plain": [
       "array([False, False, False, ..., False, False, False])"
      ]
     },
     "execution_count": 12,
     "metadata": {},
     "output_type": "execute_result"
    }
   ],
   "source": [
    "import numpy as np\n",
    "np.isnan(digits['target'])#查看是否有缺失值"
   ]
  },
  {
   "cell_type": "markdown",
   "metadata": {},
   "source": [
    "## 划分训练集和测试集"
   ]
  },
  {
   "cell_type": "code",
   "execution_count": 13,
   "metadata": {
    "ExecuteTime": {
     "end_time": "2021-10-15T08:04:50.291433Z",
     "start_time": "2021-10-15T08:04:50.282464Z"
    }
   },
   "outputs": [
    {
     "name": "stdout",
     "output_type": "stream",
     "text": [
      "The size of X_train is  (1437, 64)\n",
      "The size of y_train is  (1437,)\n",
      "The size of X_test is  (360, 64)\n",
      "The size of y_test is  (360,)\n"
     ]
    }
   ],
   "source": [
    "from sklearn.model_selection import train_test_split\n",
    "#划分训练集与测试集的比例为8:2\n",
    "X_train, X_test, y_train, y_test = train_test_split( digits['data'],digits['target'],test_size=0.2 )\n",
    "print( 'The size of X_train is ', X_train.shape )\n",
    "print( 'The size of y_train is ', y_train.shape )\n",
    "print( 'The size of X_test is ', X_test.shape )\n",
    "print( 'The size of y_test is ', y_test.shape )"
   ]
  },
  {
   "cell_type": "markdown",
   "metadata": {},
   "source": [
    "## 数据预览"
   ]
  },
  {
   "cell_type": "markdown",
   "metadata": {},
   "source": [
    "训练集和测试集分别有 1437 和 360 张图像。每张照片是包含 8×8 的像素，将其打平 (flatten) 把 2 维的 8×8 重塑成 1 维的 64。\n",
    "\n",
    "看看训练集中前 100 张图片和对应的标签 (左下角蓝色小字)"
   ]
  },
  {
   "cell_type": "code",
   "execution_count": 14,
   "metadata": {
    "ExecuteTime": {
     "end_time": "2021-10-15T08:05:52.369373Z",
     "start_time": "2021-10-15T08:05:49.517785Z"
    }
   },
   "outputs": [
    {
     "data": {
      "image/png": "[encoded data removed]",
      "text/plain": [
       "<Figure size 576x576 with 100 Axes>"
      ]
     },
     "metadata": {},
     "output_type": "display_data"
    }
   ],
   "source": [
    "import matplotlib.pyplot as plt\n",
    "fig,axes=plt.subplots(10,10,figsize=(8,8))\n",
    "fig.subplots_adjust(hspace=0.1,wspace=0.1)\n",
    "\n",
    "for i,ax in enumerate(axes.flat):\n",
    "    ax.imshow(X_train[i,:].reshape(8,8),cmap='binary',interpolation='nearest')\n",
    "    ax.text(0.05,0.05,str(y_train[i]),\n",
    "            transform=ax.transAxes,color='blue')\n",
    "    ax.set_xticks([])\n",
    "    ax.set_yticks([])  "
   ]
  },
  {
   "cell_type": "markdown",
   "metadata": {},
   "source": [
    "# 建立分类器"
   ]
  },
  {
   "cell_type": "markdown",
   "metadata": {},
   "source": [
    "## OneVsOneClassifier 一对一分类器"
   ]
  },
  {
   "cell_type": "markdown",
   "metadata": {},
   "source": [
    "### 建立元估计器"
   ]
  },
  {
   "cell_type": "code",
   "execution_count": 18,
   "metadata": {
    "ExecuteTime": {
     "end_time": "2021-10-15T08:13:04.460072Z",
     "start_time": "2021-10-15T08:13:03.518885Z"
    }
   },
   "outputs": [
    {
     "data": {
      "text/plain": [
       "OneVsOneClassifier(estimator=LogisticRegression(max_iter=500))"
      ]
     },
     "execution_count": 18,
     "metadata": {},
     "output_type": "execute_result"
    }
   ],
   "source": [
    "from sklearn.multiclass import OneVsOneClassifier\n",
    "from sklearn.linear_model import LogisticRegression\n",
    "\n",
    "ovo_lr=OneVsOneClassifier(LogisticRegression(solver='lbfgs',max_iter=500))#建立一个元估计器，其中的base估计器是。。。\n",
    "ovo_lr.fit(X_train,y_train)#对这个估计器进行拟合"
   ]
  },
  {
   "cell_type": "markdown",
   "metadata": {},
   "source": [
    "##### 查看base估计器的个数,共45个分类器，即10*9/2=45"
   ]
  },
  {
   "cell_type": "code",
   "execution_count": 17,
   "metadata": {
    "ExecuteTime": {
     "end_time": "2021-10-15T08:11:00.297542Z",
     "start_time": "2021-10-15T08:11:00.276574Z"
    },
    "scrolled": true
   },
   "outputs": [
    {
     "name": "stdout",
     "output_type": "stream",
     "text": [
      "45\n"
     ]
    },
    {
     "data": {
      "text/plain": [
       "(LogisticRegression(max_iter=500),\n",
       " LogisticRegression(max_iter=500),\n",
       " LogisticRegression(max_iter=500),\n",
       " LogisticRegression(max_iter=500),\n",
       " LogisticRegression(max_iter=500),\n",
       " LogisticRegression(max_iter=500),\n",
       " LogisticRegression(max_iter=500),\n",
       " LogisticRegression(max_iter=500),\n",
       " LogisticRegression(max_iter=500),\n",
       " LogisticRegression(max_iter=500),\n",
       " LogisticRegression(max_iter=500),\n",
       " LogisticRegression(max_iter=500),\n",
       " LogisticRegression(max_iter=500),\n",
       " LogisticRegression(max_iter=500),\n",
       " LogisticRegression(max_iter=500),\n",
       " LogisticRegression(max_iter=500),\n",
       " LogisticRegression(max_iter=500),\n",
       " LogisticRegression(max_iter=500),\n",
       " LogisticRegression(max_iter=500),\n",
       " LogisticRegression(max_iter=500),\n",
       " LogisticRegression(max_iter=500),\n",
       " LogisticRegression(max_iter=500),\n",
       " LogisticRegression(max_iter=500),\n",
       " LogisticRegression(max_iter=500),\n",
       " LogisticRegression(max_iter=500),\n",
       " LogisticRegression(max_iter=500),\n",
       " LogisticRegression(max_iter=500),\n",
       " LogisticRegression(max_iter=500),\n",
       " LogisticRegression(max_iter=500),\n",
       " LogisticRegression(max_iter=500),\n",
       " LogisticRegression(max_iter=500),\n",
       " LogisticRegression(max_iter=500),\n",
       " LogisticRegression(max_iter=500),\n",
       " LogisticRegression(max_iter=500),\n",
       " LogisticRegression(max_iter=500),\n",
       " LogisticRegression(max_iter=500),\n",
       " LogisticRegression(max_iter=500),\n",
       " LogisticRegression(max_iter=500),\n",
       " LogisticRegression(max_iter=500),\n",
       " LogisticRegression(max_iter=500),\n",
       " LogisticRegression(max_iter=500),\n",
       " LogisticRegression(max_iter=500),\n",
       " LogisticRegression(max_iter=500),\n",
       " LogisticRegression(max_iter=500),\n",
       " LogisticRegression(max_iter=500))"
      ]
     },
     "execution_count": 17,
     "metadata": {},
     "output_type": "execute_result"
    }
   ],
   "source": [
    "print(len(ovo_lr.estimators_))\n",
    "ovo_lr.estimators_"
   ]
  },
  {
   "cell_type": "markdown",
   "metadata": {},
   "source": [
    "### 对分类器进行测试，对测试集进行预测"
   ]
  },
  {
   "cell_type": "code",
   "execution_count": 20,
   "metadata": {
    "ExecuteTime": {
     "end_time": "2021-10-15T08:16:04.123118Z",
     "start_time": "2021-10-15T08:16:04.083225Z"
    }
   },
   "outputs": [
    {
     "name": "stdout",
     "output_type": "stream",
     "text": [
      "OvO LR - Accuracy (Train):  1\n",
      "OvO LR - Accuracy (Test):  0.975\n"
     ]
    }
   ],
   "source": [
    "from sklearn import metrics\n",
    "print ( \"OvO LR - Accuracy (Train):  %.4g\" %metrics.accuracy_score(y_train, ovo_lr.predict(X_train)) )#对训练集进行预测的得分\n",
    "print ( \"OvO LR - Accuracy (Test):  %.4g\" %metrics.accuracy_score(y_test, ovo_lr.predict(X_test)) )#对测试集进行预测的得分"
   ]
  },
  {
   "cell_type": "code",
   "execution_count": 21,
   "metadata": {
    "ExecuteTime": {
     "end_time": "2021-10-15T08:17:55.483128Z",
     "start_time": "2021-10-15T08:17:55.461219Z"
    }
   },
   "outputs": [
    {
     "name": "stdout",
     "output_type": "stream",
     "text": [
      "              precision    recall  f1-score   support\n",
      "\n",
      "           0       1.00      1.00      1.00        29\n",
      "           1       0.94      0.97      0.96        33\n",
      "           2       0.97      1.00      0.99        36\n",
      "           3       1.00      1.00      1.00        29\n",
      "           4       1.00      1.00      1.00        32\n",
      "           5       0.98      0.96      0.97        47\n",
      "           6       0.98      0.98      0.98        42\n",
      "           7       1.00      1.00      1.00        36\n",
      "           8       0.95      0.92      0.93        38\n",
      "           9       0.95      0.95      0.95        38\n",
      "\n",
      "    accuracy                           0.97       360\n",
      "   macro avg       0.98      0.98      0.98       360\n",
      "weighted avg       0.98      0.97      0.97       360\n",
      "\n"
     ]
    }
   ],
   "source": [
    "print(metrics.classification_report(y_test,y_pred=ovo_lr.predict(X_test)))#查看y_test与y_pred之间关系报告"
   ]
  },
  {
   "cell_type": "markdown",
   "metadata": {},
   "source": [
    "## OneVsRestClassifier 一对多分类器"
   ]
  },
  {
   "cell_type": "markdown",
   "metadata": {},
   "source": [
    "### 建立元估计器"
   ]
  },
  {
   "cell_type": "code",
   "execution_count": 24,
   "metadata": {
    "ExecuteTime": {
     "end_time": "2021-10-15T08:21:48.347818Z",
     "start_time": "2021-10-15T08:21:47.236527Z"
    }
   },
   "outputs": [
    {
     "data": {
      "text/plain": [
       "OneVsRestClassifier(estimator=LogisticRegression(max_iter=1000))"
      ]
     },
     "execution_count": 24,
     "metadata": {},
     "output_type": "execute_result"
    }
   ],
   "source": [
    "from sklearn.multiclass import OneVsRestClassifier\n",
    "\n",
    "ova_lr=OneVsRestClassifier(LogisticRegression(solver='lbfgs',max_iter=1000))#建立一个元估计器，其中的base估计器是\n",
    "ova_lr.fit(X_train,y_train)#对数据进行拟合"
   ]
  },
  {
   "cell_type": "markdown",
   "metadata": {},
   "source": [
    "##### 查看base估计器的个数，0-9共10类即10种"
   ]
  },
  {
   "cell_type": "code",
   "execution_count": 23,
   "metadata": {
    "ExecuteTime": {
     "end_time": "2021-10-15T08:19:57.906929Z",
     "start_time": "2021-10-15T08:19:57.899949Z"
    }
   },
   "outputs": [
    {
     "name": "stdout",
     "output_type": "stream",
     "text": [
      "10\n"
     ]
    },
    {
     "data": {
      "text/plain": [
       "[LogisticRegression(max_iter=1000),\n",
       " LogisticRegression(max_iter=1000),\n",
       " LogisticRegression(max_iter=1000),\n",
       " LogisticRegression(max_iter=1000),\n",
       " LogisticRegression(max_iter=1000),\n",
       " LogisticRegression(max_iter=1000),\n",
       " LogisticRegression(max_iter=1000),\n",
       " LogisticRegression(max_iter=1000),\n",
       " LogisticRegression(max_iter=1000),\n",
       " LogisticRegression(max_iter=1000)]"
      ]
     },
     "execution_count": 23,
     "metadata": {},
     "output_type": "execute_result"
    }
   ],
   "source": [
    "print(len(ova_lr.estimators_))\n",
    "ova_lr.estimators_"
   ]
  },
  {
   "cell_type": "markdown",
   "metadata": {},
   "source": [
    "### 对分类器进行测试，对测试集进行预测"
   ]
  },
  {
   "cell_type": "code",
   "execution_count": 25,
   "metadata": {
    "ExecuteTime": {
     "end_time": "2021-10-15T08:23:20.352454Z",
     "start_time": "2021-10-15T08:23:20.330513Z"
    }
   },
   "outputs": [
    {
     "name": "stdout",
     "output_type": "stream",
     "text": [
      "OvA LR - Accuracy (Train):  0.9972\n",
      "OvA LR - Accuracy (Test):  0.9528\n"
     ]
    }
   ],
   "source": [
    "print ( \"OvA LR - Accuracy (Train):  %.4g\" %metrics.accuracy_score(y_train, ova_lr.predict(X_train)) )#对训练集进行预测的得分\n",
    "print ( \"OvA LR - Accuracy (Test):  %.4g\" %metrics.accuracy_score(y_test, ova_lr.predict(X_test)) )#对测试集进行预测的得分"
   ]
  },
  {
   "cell_type": "code",
   "execution_count": 26,
   "metadata": {
    "ExecuteTime": {
     "end_time": "2021-10-15T08:23:44.569069Z",
     "start_time": "2021-10-15T08:23:44.554078Z"
    }
   },
   "outputs": [
    {
     "name": "stdout",
     "output_type": "stream",
     "text": [
      "              precision    recall  f1-score   support\n",
      "\n",
      "           0       1.00      1.00      1.00        29\n",
      "           1       0.86      0.94      0.90        33\n",
      "           2       0.97      1.00      0.99        36\n",
      "           3       0.97      0.97      0.97        29\n",
      "           4       1.00      1.00      1.00        32\n",
      "           5       1.00      0.94      0.97        47\n",
      "           6       0.98      0.98      0.98        42\n",
      "           7       0.97      1.00      0.99        36\n",
      "           8       0.85      0.87      0.86        38\n",
      "           9       0.94      0.87      0.90        38\n",
      "\n",
      "    accuracy                           0.95       360\n",
      "   macro avg       0.95      0.96      0.95       360\n",
      "weighted avg       0.95      0.95      0.95       360\n",
      "\n"
     ]
    }
   ],
   "source": [
    "print(metrics.classification_report(y_test,y_pred=ova_lr.predict(X_test)))#查看y_test与y_pred之间关系报告"
   ]
  }
 ],
 "metadata": {
  "kernelspec": {
   "display_name": "Python 3",
   "language": "python",
   "name": "python3"
  },
  "language_info": {
   "codemirror_mode": {
    "name": "ipython",
    "version": 3
   },
   "file_extension": ".py",
   "mimetype": "text/x-python",
   "name": "python",
   "nbconvert_exporter": "python",
   "pygments_lexer": "ipython3",
   "version": "3.8.5"
  },
  "toc": {
   "base_numbering": 1,
   "nav_menu": {},
   "number_sections": true,
   "sideBar": true,
   "skip_h1_title": false,
   "title_cell": "Table of Contents",
   "title_sidebar": "Contents",
   "toc_cell": true,
   "toc_position": {
    "height": "calc(100% - 180px)",
    "left": "10px",
    "top": "150px",
    "width": "307.2px"
   },
   "toc_section_display": true,
   "toc_window_display": true
  },
  "varInspector": {
   "cols": {
    "lenName": 16,
    "lenType": 16,
    "lenVar": 40
   },
   "kernels_config": {
    "python": {
     "delete_cmd_postfix": "",
     "delete_cmd_prefix": "del ",
     "library": "var_list.py",
     "varRefreshCmd": "print(var_dic_list())"
    },
    "r": {
     "delete_cmd_postfix": ") ",
     "delete_cmd_prefix": "rm(",
     "library": "var_list.r",
     "varRefreshCmd": "cat(var_dic_list()) "
    }
   },
   "types_to_exclude": [
    "module",
    "function",
    "builtin_function_or_method",
    "instance",
    "_Feature"
   ],
   "window_display": false
  }
 },
 "nbformat": 4,
 "nbformat_minor": 4
}
