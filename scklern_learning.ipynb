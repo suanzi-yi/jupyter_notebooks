{
 "cells": [
  {
   "cell_type": "markdown",
   "metadata": {
    "toc": true
   },
   "source": [
    "<h1>Table of Contents<span class=\"tocSkip\"></span></h1>\n",
    "<div class=\"toc\"><ul class=\"toc-item\"><li><span><a href=\"#附录\" data-toc-modified-id=\"附录-1\"><span class=\"toc-item-num\">1&nbsp;&nbsp;</span>附录</a></span><ul class=\"toc-item\"><li><ul class=\"toc-item\"><li><span><a href=\"#分类(Classification)\" data-toc-modified-id=\"分类(Classification)-1.0.1\"><span class=\"toc-item-num\">1.0.1&nbsp;&nbsp;</span>分类(Classification)</a></span></li><li><span><a href=\"#回归-(Regression)\" data-toc-modified-id=\"回归-(Regression)-1.0.2\"><span class=\"toc-item-num\">1.0.2&nbsp;&nbsp;</span>回归 (Regression)</a></span></li></ul></li><li><span><a href=\"#聚类-(Clustering)\" data-toc-modified-id=\"聚类-(Clustering)-1.1\"><span class=\"toc-item-num\">1.1&nbsp;&nbsp;</span>聚类 (Clustering)</a></span></li><li><span><a href=\"#降维-(Dimensionality-Reduction)\" data-toc-modified-id=\"降维-(Dimensionality-Reduction)-1.2\"><span class=\"toc-item-num\">1.2&nbsp;&nbsp;</span>降维 (Dimensionality Reduction)</a></span></li><li><span><a href=\"#模型选择-(Model-Selection)\" data-toc-modified-id=\"模型选择-(Model-Selection)-1.3\"><span class=\"toc-item-num\">1.3&nbsp;&nbsp;</span>模型选择 (Model Selection)</a></span></li><li><span><a href=\"#预处理-(Preprocessing)\" data-toc-modified-id=\"预处理-(Preprocessing)-1.4\"><span class=\"toc-item-num\">1.4&nbsp;&nbsp;</span>预处理 (Preprocessing)</a></span></li><li><span><a href=\"#数据集-(Dataset)\" data-toc-modified-id=\"数据集-(Dataset)-1.5\"><span class=\"toc-item-num\">1.5&nbsp;&nbsp;</span>数据集 (Dataset)</a></span></li></ul></li><li><span><a href=\"#内容\" data-toc-modified-id=\"内容-2\"><span class=\"toc-item-num\">2&nbsp;&nbsp;</span>内容</a></span><ul class=\"toc-item\"><li><span><a href=\"#机器学习简介\" data-toc-modified-id=\"机器学习简介-2.1\"><span class=\"toc-item-num\">2.1&nbsp;&nbsp;</span>机器学习简介</a></span><ul class=\"toc-item\"><li><span><a href=\"#定义和组成元素\" data-toc-modified-id=\"定义和组成元素-2.1.1\"><span class=\"toc-item-num\">2.1.1&nbsp;&nbsp;</span>定义和组成元素</a></span></li><li><span><a href=\"#数据\" data-toc-modified-id=\"数据-2.1.2\"><span class=\"toc-item-num\">2.1.2&nbsp;&nbsp;</span>数据</a></span><ul class=\"toc-item\"><li><span><a href=\"#结构化和非结构化数据\" data-toc-modified-id=\"结构化和非结构化数据-2.1.2.1\"><span class=\"toc-item-num\">2.1.2.1&nbsp;&nbsp;</span>结构化和非结构化数据</a></span></li><li><span><a href=\"#原始数据和加工数据\" data-toc-modified-id=\"原始数据和加工数据-2.1.2.2\"><span class=\"toc-item-num\">2.1.2.2&nbsp;&nbsp;</span>原始数据和加工数据</a></span></li><li><span><a href=\"#样本内和样本外数据\" data-toc-modified-id=\"样本内和样本外数据-2.1.2.3\"><span class=\"toc-item-num\">2.1.2.3&nbsp;&nbsp;</span>样本内和样本外数据</a></span></li></ul></li><li><span><a href=\"#任务\" data-toc-modified-id=\"任务-2.1.3\"><span class=\"toc-item-num\">2.1.3&nbsp;&nbsp;</span>任务</a></span></li><li><span><a href=\"#性能度量\" data-toc-modified-id=\"性能度量-2.1.4\"><span class=\"toc-item-num\">2.1.4&nbsp;&nbsp;</span>性能度量</a></span></li><li><span><a href=\"#模型\" data-toc-modified-id=\"模型-2.1.5\"><span class=\"toc-item-num\">2.1.5&nbsp;&nbsp;</span>模型</a></span></li></ul></li><li><span><a href=\"#Sklearn数据\" data-toc-modified-id=\"Sklearn数据-2.2\"><span class=\"toc-item-num\">2.2&nbsp;&nbsp;</span>Sklearn数据</a></span><ul class=\"toc-item\"><li><span><a href=\"#数据格式\" data-toc-modified-id=\"数据格式-2.2.1\"><span class=\"toc-item-num\">2.2.1&nbsp;&nbsp;</span>数据格式</a></span></li><li><span><a href=\"#自带数据集\" data-toc-modified-id=\"自带数据集-2.2.2\"><span class=\"toc-item-num\">2.2.2&nbsp;&nbsp;</span>自带数据集</a></span></li></ul></li><li><span><a href=\"#核心API\" data-toc-modified-id=\"核心API-2.3\"><span class=\"toc-item-num\">2.3&nbsp;&nbsp;</span>核心API</a></span><ul class=\"toc-item\"><li><span><a href=\"#估计器\" data-toc-modified-id=\"估计器-2.3.1\"><span class=\"toc-item-num\">2.3.1&nbsp;&nbsp;</span>估计器</a></span></li><li><span><a href=\"#预测器\" data-toc-modified-id=\"预测器-2.3.2\"><span class=\"toc-item-num\">2.3.2&nbsp;&nbsp;</span>预测器</a></span></li><li><span><a href=\"#转换器\" data-toc-modified-id=\"转换器-2.3.3\"><span class=\"toc-item-num\">2.3.3&nbsp;&nbsp;</span>转换器</a></span></li><li><span><a href=\"#高级API\" data-toc-modified-id=\"高级API-2.3.4\"><span class=\"toc-item-num\">2.3.4&nbsp;&nbsp;</span>高级API</a></span><ul class=\"toc-item\"><li><span><a href=\"#Ensemble-估计器\" data-toc-modified-id=\"Ensemble-估计器-2.3.4.1\"><span class=\"toc-item-num\">2.3.4.1&nbsp;&nbsp;</span>Ensemble 估计器</a></span></li><li><span><a href=\"#Multiclass-估计器\" data-toc-modified-id=\"Multiclass-估计器-2.3.4.2\"><span class=\"toc-item-num\">2.3.4.2&nbsp;&nbsp;</span>Multiclass 估计器</a></span></li><li><span><a href=\"#Multioutput-估计器\" data-toc-modified-id=\"Multioutput-估计器-2.3.4.3\"><span class=\"toc-item-num\">2.3.4.3&nbsp;&nbsp;</span>Multioutput 估计器</a></span></li><li><span><a href=\"#Model-Selection-估计器\" data-toc-modified-id=\"Model-Selection-估计器-2.3.4.4\"><span class=\"toc-item-num\">2.3.4.4&nbsp;&nbsp;</span>Model Selection 估计器</a></span></li><li><span><a href=\"#Pipeline-估计器\" data-toc-modified-id=\"Pipeline-估计器-2.3.4.5\"><span class=\"toc-item-num\">2.3.4.5&nbsp;&nbsp;</span>Pipeline 估计器</a></span></li></ul></li></ul></li><li><span><a href=\"#总结\" data-toc-modified-id=\"总结-2.4\"><span class=\"toc-item-num\">2.4&nbsp;&nbsp;</span>总结</a></span></li></ul></li></ul></div>"
   ]
  },
  {
   "cell_type": "markdown",
   "metadata": {},
   "source": [
    "# 附录"
   ]
  },
  {
   "cell_type": "markdown",
   "metadata": {},
   "source": [
    "### 分类(Classification)"
   ]
  },
  {
   "cell_type": "markdown",
   "metadata": {},
   "source": [
    "from sklearn import SomeClassifier      \n",
    "from sklearn.linear_model import SomeClassifier     \n",
    "from sklearn.ensemble import SomeClassifier"
   ]
  },
  {
   "cell_type": "markdown",
   "metadata": {},
   "source": [
    "### 回归 (Regression)"
   ]
  },
  {
   "cell_type": "markdown",
   "metadata": {},
   "source": [
    "from sklearn import SomeRegressor\t\n",
    "from sklearn.linear_model import SomeRegressor\t\n",
    "from sklearn.ensemble import SomeRegressor"
   ]
  },
  {
   "cell_type": "markdown",
   "metadata": {},
   "source": [
    "## 聚类 (Clustering)"
   ]
  },
  {
   "cell_type": "markdown",
   "metadata": {},
   "source": [
    "from sklearn.cluster import SomeModel"
   ]
  },
  {
   "cell_type": "markdown",
   "metadata": {},
   "source": [
    "## 降维 (Dimensionality Reduction)"
   ]
  },
  {
   "cell_type": "markdown",
   "metadata": {},
   "source": [
    "from sklearn.decomposition import SomeModel"
   ]
  },
  {
   "cell_type": "markdown",
   "metadata": {},
   "source": [
    "## 模型选择 (Model Selection)"
   ]
  },
  {
   "cell_type": "markdown",
   "metadata": {},
   "source": [
    "from sklearn.model_selection import SomeModel"
   ]
  },
  {
   "cell_type": "markdown",
   "metadata": {},
   "source": [
    "## 预处理 (Preprocessing)"
   ]
  },
  {
   "cell_type": "markdown",
   "metadata": {},
   "source": [
    "from sklearn.preprocessing import SomeModel"
   ]
  },
  {
   "cell_type": "markdown",
   "metadata": {},
   "source": [
    "## 数据集 (Dataset)"
   ]
  },
  {
   "cell_type": "markdown",
   "metadata": {},
   "source": [
    "from sklearn.datasets import SomeData"
   ]
  },
  {
   "cell_type": "markdown",
   "metadata": {},
   "source": [
    "# 内容"
   ]
  },
  {
   "cell_type": "markdown",
   "metadata": {},
   "source": [
    "## 机器学习简介"
   ]
  },
  {
   "cell_type": "markdown",
   "metadata": {},
   "source": [
    "### 定义和组成元素"
   ]
  },
  {
   "cell_type": "markdown",
   "metadata": {},
   "source": [
    "数据 (Data)\n",
    "\n",
    "任务 (Task)\n",
    "\n",
    "性能度量 (Quality Metric)\n",
    "\n",
    "模型 (Model)"
   ]
  },
  {
   "cell_type": "code",
   "execution_count": 264,
   "metadata": {
    "ExecuteTime": {
     "end_time": "2021-10-13T12:41:39.961060Z",
     "start_time": "2021-10-13T12:41:39.944106Z"
    }
   },
   "outputs": [
    {
     "data": {
      "text/html": [
       "<img src=\"https://img-blog.csdnimg.cn/img_convert/2e0c85fbb476a60dec8d18e5584dc635.png\"/>"
      ],
      "text/plain": [
       "<IPython.core.display.Image object>"
      ]
     },
     "execution_count": 264,
     "metadata": {},
     "output_type": "execute_result"
    }
   ],
   "source": [
    "import matplotlib.pyplot as plt\n",
    "import seaborn as sns\n",
    "import pandas as pd\n",
    "import numpy as np\n",
    "from IPython.display import Image\n",
    "Image(url='https://img-blog.csdnimg.cn/img_convert/2e0c85fbb476a60dec8d18e5584dc635.png')"
   ]
  },
  {
   "cell_type": "markdown",
   "metadata": {},
   "source": [
    "### 数据"
   ]
  },
  {
   "cell_type": "markdown",
   "metadata": {},
   "source": [
    "数据 (data) 是经验的另一种说法，也是信息的载体。数据可分为：\n",
    "\n",
    " \n",
    "\n",
    "1、结构化数据和非结构化数据 (按数据具体类型划分)\n",
    "\n",
    "2、原始数据和加工数据 (按数据表达形式划分)\n",
    "\n",
    "3、样本内数据和样本外数据 (按数据统计性质划分)\n",
    "\n",
    " \n",
    "\n",
    "结构化和非结构化：\n",
    " \n",
    "结构化数据 (structured data) 是由二维表结构来逻辑表达和实现的数据。非结构化数据是没有预定义的数据，不便用数据库二维表来表现的数据。"
   ]
  },
  {
   "cell_type": "markdown",
   "metadata": {},
   "source": [
    "#### 结构化和非结构化数据"
   ]
  },
  {
   "cell_type": "markdown",
   "metadata": {},
   "source": [
    "##### 非结构化数据"
   ]
  },
  {
   "cell_type": "code",
   "execution_count": 265,
   "metadata": {
    "ExecuteTime": {
     "end_time": "2021-10-13T12:41:39.977051Z",
     "start_time": "2021-10-13T12:41:39.962068Z"
    }
   },
   "outputs": [
    {
     "data": {
      "text/html": [
       "<img src=\"https://img-blog.csdnimg.cn/img_convert/4593d5a627b52210e0990521e1936638.png\"/>"
      ],
      "text/plain": [
       "<IPython.core.display.Image object>"
      ]
     },
     "execution_count": 265,
     "metadata": {},
     "output_type": "execute_result"
    }
   ],
   "source": [
    "#非结构化数据包括图片，文字，语音和视屏等如下图。\n",
    "Image(url='https://img-blog.csdnimg.cn/img_convert/4593d5a627b52210e0990521e1936638.png')"
   ]
  },
  {
   "cell_type": "markdown",
   "metadata": {},
   "source": [
    "对于以上的非结构数据，相关应用实例有\n",
    "\n",
    " \n",
    "\n",
    "深度学习的卷积神经网络 (convolutional neural network, CNN) 对图像数据做人脸识别或物体分类\n",
    "\n",
    " \n",
    "\n",
    "深度学习的循环神经网络 (recurrent neural network, RNN) 对语音数据做语音识别或机器对话，对文字数据做文本生成或阅读理解\n",
    "\n",
    " \n",
    "\n",
    "增强学习的阿尔法狗 (AlphaGo) 对棋谱数据学习无数遍最终打败了围棋世界冠军李世石和柯洁\n",
    "\n",
    " \n",
    "\n",
    "计算机追根到底还是只能最有效率的处理数值型的结构化数据，如何从原始数据加工成计算机可应用的数据会在后面讲明。"
   ]
  },
  {
   "cell_type": "markdown",
   "metadata": {},
   "source": [
    "##### 结构化数据"
   ]
  },
  {
   "cell_type": "markdown",
   "metadata": {},
   "source": [
    "机器学习模型主要使用的是结构化数据，即二维的数据表。非结构化数据可以转换成结构化数据，比如把\n",
    "\n",
    " \n",
    "\n",
    "图像类数据里像素张量重塑成一维数组\n",
    "\n",
    "文本类数据用独热编码转成二维数组\n",
    "对于结构化数据，我们用勒布朗詹姆斯 (Lebron James) 四场比赛的数据举例。"
   ]
  },
  {
   "cell_type": "code",
   "execution_count": 266,
   "metadata": {
    "ExecuteTime": {
     "end_time": "2021-10-13T12:41:39.992975Z",
     "start_time": "2021-10-13T12:41:39.981008Z"
    }
   },
   "outputs": [
    {
     "data": {
      "text/html": [
       "<img src=\"https://img-blog.csdnimg.cn/img_convert/8f643ce603b8ee76c9e943871a449c2f.png\"/>"
      ],
      "text/plain": [
       "<IPython.core.display.Image object>"
      ]
     },
     "execution_count": 266,
     "metadata": {},
     "output_type": "execute_result"
    }
   ],
   "source": [
    "Image(url='https://img-blog.csdnimg.cn/img_convert/8f643ce603b8ee76c9e943871a449c2f.png')"
   ]
  },
  {
   "cell_type": "markdown",
   "metadata": {},
   "source": [
    "下面术语大家在深入了解机器学习前一定要弄清楚：\n",
    "\n",
    " \n",
    "\n",
    "每行的记录 (这是一场比赛詹姆斯的个人统计) ，称为一个示例 (instance)\n",
    "\n",
    "反映对象在某方面的性质，例如得分，篮板，助攻，称为特征 (feature) 或输入(input)\n",
    "\n",
    "特征上的取值，例如「示例 1」对应的 27, 10, 12 称为特征值 (feature value)\n",
    "\n",
    "关于示例结果的信息，例如赢，称为标签 (label) 或输出 (output)\n",
    "\n",
    "包含标签信息的示例，则称为样例 (example)，即样例 = (特征, 标签)\n",
    "\n",
    "从数据中学得模型的过程称为学习 (learning) 或训练 (training)\n",
    "\n",
    "在训练数据中，每个样例称为训练样例 (training example)，整个集合称为训练集(training set)\n",
    "\n",
    "原始和加工\n",
    " \n",
    "计算机处理数值型的结构型数据最有效率，但是现实世界到处出是原始数据，分为两类\n",
    "\n",
    " \n",
    "\n",
    "非结构数据比如图片和文字型数据 (情况一)\n",
    "\n",
    "结构型数据的分类型变量 (情况二)\n",
    "\n"
   ]
  },
  {
   "cell_type": "markdown",
   "metadata": {},
   "source": [
    "#### 原始数据和加工数据"
   ]
  },
  {
   "cell_type": "markdown",
   "metadata": {},
   "source": [
    "##### 图像数据"
   ]
  },
  {
   "cell_type": "markdown",
   "metadata": {},
   "source": [
    "拿情况一的图片为例，通过特定函数 imread 将彩色图片用 RGB 像素表示出来，再按红绿蓝的顺序，将所有像素排成一个数值列向量 (column vector)，而计算机可以接受这样的输入。具体转换过程见下图。"
   ]
  },
  {
   "cell_type": "code",
   "execution_count": 267,
   "metadata": {
    "ExecuteTime": {
     "end_time": "2021-10-13T12:41:40.008804Z",
     "start_time": "2021-10-13T12:41:39.994013Z"
    }
   },
   "outputs": [
    {
     "data": {
      "text/html": [
       "<img src=\"https://img-blog.csdnimg.cn/img_convert/3e8457dd8efef5610a1889a90574721e.png\"/>"
      ],
      "text/plain": [
       "<IPython.core.display.Image object>"
      ]
     },
     "execution_count": 267,
     "metadata": {},
     "output_type": "execute_result"
    }
   ],
   "source": [
    "Image(url='https://img-blog.csdnimg.cn/img_convert/3e8457dd8efef5610a1889a90574721e.png')"
   ]
  },
  {
   "cell_type": "markdown",
   "metadata": {},
   "source": [
    "##### 文本型数据"
   ]
  },
  {
   "cell_type": "markdown",
   "metadata": {},
   "source": [
    "推特 (twitter) 的每条推文 (tweet) 规定只能发 280 个字符。在编码推文时，将 280 个字符的序列用独热编码 (one-hot encoding) 到包含 128 个字符的 ASCII 表，如下所示。"
   ]
  },
  {
   "cell_type": "code",
   "execution_count": 268,
   "metadata": {
    "ExecuteTime": {
     "end_time": "2021-10-13T12:41:40.024762Z",
     "start_time": "2021-10-13T12:41:40.009803Z"
    }
   },
   "outputs": [
    {
     "data": {
      "text/html": [
       "<img src=\"https://img-blog.csdnimg.cn/img_convert/e033cfb222f663b79ca8b2e48528c878.png\"/>"
      ],
      "text/plain": [
       "<IPython.core.display.Image object>"
      ]
     },
     "execution_count": 268,
     "metadata": {},
     "output_type": "execute_result"
    }
   ],
   "source": [
    "Image(url='https://img-blog.csdnimg.cn/img_convert/e033cfb222f663b79ca8b2e48528c878.png')"
   ]
  },
  {
   "cell_type": "markdown",
   "metadata": {},
   "source": [
    "这样，每条推文都可以编码为 2 维张量形状 (280, 128)，比如一条 tweet 是 “I love python :)”，这句话映射到 ASCII 表变成："
   ]
  },
  {
   "cell_type": "code",
   "execution_count": 269,
   "metadata": {
    "ExecuteTime": {
     "end_time": "2021-10-13T12:41:40.040719Z",
     "start_time": "2021-10-13T12:41:40.025759Z"
    }
   },
   "outputs": [
    {
     "data": {
      "text/html": [
       "<img src=\"https://img-blog.csdnimg.cn/img_convert/05056373eb5221e22fd2c389492981d6.png\"/>"
      ],
      "text/plain": [
       "<IPython.core.display.Image object>"
      ]
     },
     "execution_count": 269,
     "metadata": {},
     "output_type": "execute_result"
    }
   ],
   "source": [
    "Image(url='https://img-blog.csdnimg.cn/img_convert/05056373eb5221e22fd2c389492981d6.png')"
   ]
  },
  {
   "cell_type": "markdown",
   "metadata": {},
   "source": [
    "如果收集到 1 百万条推文，那么整个数据集的形状为 (1000000, 280, 128)。传统机器学习的对率回归可以来做情感分析。"
   ]
  },
  {
   "cell_type": "markdown",
   "metadata": {},
   "source": [
    "##### 分类型变量"
   ]
  },
  {
   "cell_type": "markdown",
   "metadata": {},
   "source": [
    "篮球比赛结果非输即赢，是一个二类 (binary class) 变量"
   ]
  },
  {
   "cell_type": "code",
   "execution_count": 270,
   "metadata": {
    "ExecuteTime": {
     "end_time": "2021-10-13T12:41:40.056676Z",
     "start_time": "2021-10-13T12:41:40.042714Z"
    }
   },
   "outputs": [
    {
     "data": {
      "text/html": [
       "<img src=\"https://img-blog.csdnimg.cn/img_convert/63240908d1fca720889ed9735e5801ea.png\"/>"
      ],
      "text/plain": [
       "<IPython.core.display.Image object>"
      ]
     },
     "execution_count": 270,
     "metadata": {},
     "output_type": "execute_result"
    }
   ],
   "source": [
    "Image(url='https://img-blog.csdnimg.cn/img_convert/63240908d1fca720889ed9735e5801ea.png')"
   ]
  },
  {
   "cell_type": "markdown",
   "metadata": {},
   "source": [
    "二类变量用「0-1编码」，比如比赛结果= {赢, 输} 表示成 y= [1 0 0 1]，1 代表赢，0 代表输。"
   ]
  },
  {
   "cell_type": "markdown",
   "metadata": {},
   "source": [
    "而足球比赛结果是有赢、平、输三种，是一个多类 (multi-class) 变量。"
   ]
  },
  {
   "cell_type": "code",
   "execution_count": 271,
   "metadata": {
    "ExecuteTime": {
     "end_time": "2021-10-13T12:41:40.072078Z",
     "start_time": "2021-10-13T12:41:40.057675Z"
    }
   },
   "outputs": [
    {
     "data": {
      "text/html": [
       "<img src=\"https://img-blog.csdnimg.cn/img_convert/c7b868695f50a7c4abb5962a685bdab4.png\"/>"
      ],
      "text/plain": [
       "<IPython.core.display.Image object>"
      ]
     },
     "execution_count": 271,
     "metadata": {},
     "output_type": "execute_result"
    }
   ],
   "source": [
    "Image(url='https://img-blog.csdnimg.cn/img_convert/c7b868695f50a7c4abb5962a685bdab4.png')"
   ]
  },
  {
   "cell_type": "markdown",
   "metadata": {},
   "source": [
    "多类变量分别用 0, 1, 2 来表示，那么 y = [0 1 0 2]。但更常见的是用独热编码 (one-hot encoding)，即"
   ]
  },
  {
   "cell_type": "code",
   "execution_count": 272,
   "metadata": {
    "ExecuteTime": {
     "end_time": "2021-10-13T12:41:40.088036Z",
     "start_time": "2021-10-13T12:41:40.073076Z"
    }
   },
   "outputs": [
    {
     "data": {
      "text/html": [
       "<img src=\"https://img-blog.csdnimg.cn/img_convert/1de0d3e28055539f9464d2f9612ecb10.png\"/>"
      ],
      "text/plain": [
       "<IPython.core.display.Image object>"
      ]
     },
     "execution_count": 272,
     "metadata": {},
     "output_type": "execute_result"
    }
   ],
   "source": [
    "Image(url='https://img-blog.csdnimg.cn/img_convert/1de0d3e28055539f9464d2f9612ecb10.png')"
   ]
  },
  {
   "cell_type": "markdown",
   "metadata": {},
   "source": [
    "#### 样本内和样本外数据"
   ]
  },
  {
   "cell_type": "markdown",
   "metadata": {},
   "source": [
    "在统计中，把研究对象的全体称为总体 (population)，而把组成总体的各个元素称为个体，把从总体中抽取的若干个体称为样本 (sample)。"
   ]
  },
  {
   "cell_type": "code",
   "execution_count": 273,
   "metadata": {
    "ExecuteTime": {
     "end_time": "2021-10-13T12:41:40.104037Z",
     "start_time": "2021-10-13T12:41:40.089033Z"
    }
   },
   "outputs": [
    {
     "data": {
      "text/html": [
       "<img src=\"https://img-blog.csdnimg.cn/img_convert/dffa93c54a8d62b07117096586edf6ed.png\"/>"
      ],
      "text/plain": [
       "<IPython.core.display.Image object>"
      ]
     },
     "execution_count": 273,
     "metadata": {},
     "output_type": "execute_result"
    }
   ],
   "source": [
    "Image(url='https://img-blog.csdnimg.cn/img_convert/dffa93c54a8d62b07117096586edf6ed.png')"
   ]
  },
  {
   "cell_type": "markdown",
   "metadata": {},
   "source": [
    "举个调查中国男性平均身高的例子：\n",
    "\n",
    " \n",
    "\n",
    "全国的男性就是总体\n",
    "\n",
    "每个男性是个体\n",
    "\n",
    " \n",
    "\n",
    "普查所有男性金钱花费和时间成本太高，通常会抽取若干男性作为样本，计算样本里的男性平均身高作为总体里的所有男性平均身高的推理 (inference)。\n",
    "\n",
    " \n",
    "\n",
    "统计学中做的事情就是用样本数据的统计 (statistics) 来推出总体数据的参数 (parameter)。样本数据也叫做样本内数据，除样本内数据之外的总体数据叫做样本外数据。\n",
    "\n",
    " \n",
    "\n",
    "在机器学习中，样本内和样本外数据的定义稍微有些不同，如下图："
   ]
  },
  {
   "cell_type": "code",
   "execution_count": 274,
   "metadata": {
    "ExecuteTime": {
     "end_time": "2021-10-13T12:41:40.119994Z",
     "start_time": "2021-10-13T12:41:40.105022Z"
    }
   },
   "outputs": [
    {
     "data": {
      "text/html": [
       "<img src=\"https://img-blog.csdnimg.cn/img_convert/bcf750653751b40f8720869d0a849304.png\"/>"
      ],
      "text/plain": [
       "<IPython.core.display.Image object>"
      ]
     },
     "execution_count": 274,
     "metadata": {},
     "output_type": "execute_result"
    }
   ],
   "source": [
    "Image(url='https://img-blog.csdnimg.cn/img_convert/bcf750653751b40f8720869d0a849304.png')"
   ]
  },
  {
   "cell_type": "markdown",
   "metadata": {},
   "source": [
    "样本内数据是用来训练模型的数据，也叫训练数据。它们是已知的，可计算统计的。\n",
    "\n",
    " \n",
    "\n",
    "样本外数据是未来的没见过的新数据。它们是未知的，不可计算统计的。\n",
    "\n",
    " \n",
    "\n",
    "机器学习在样本内数据训练模型用来预测：\n",
    "\n",
    " \n",
    "\n",
    "样本内预测：根据训练模型对样本内数据进行预测，可与已知标签比较来评估模型表现\n",
    "\n",
    "样本外预测：根据训练模型对样本外数据进行预测，不能与未知的标签比较"
   ]
  },
  {
   "cell_type": "markdown",
   "metadata": {},
   "source": [
    "### 任务"
   ]
  },
  {
   "cell_type": "markdown",
   "metadata": {},
   "source": [
    "根据学习的任务模式 (训练数据是否有标签)，机器学习可分为四大类：\n",
    "\n",
    " \n",
    "\n",
    "有监督学习 (有标签)\n",
    "\n",
    "无监督学习 (无标签)\n",
    "\n",
    "半监督学习 (有部分标签)\n",
    "\n",
    "增强学习 (有评级标签)\n",
    "\n",
    " \n",
    "\n",
    "深度学习只是一种方法，而不是任务模式，因此与上面四类不属于同一个维度，但是深度学习与它们可以叠加成：深度有监督学习、深度非监督学习、深度半监督学习和深度增强学习。迁移学习也是一种方法，也可以分类为有监督迁移学习、非监督迁移学习、半监督迁移学习和增强迁移学习。\n",
    "\n",
    " \n",
    "\n",
    "下图画出机器学习各类之间的关系。"
   ]
  },
  {
   "cell_type": "code",
   "execution_count": 275,
   "metadata": {
    "ExecuteTime": {
     "end_time": "2021-10-13T12:41:40.135677Z",
     "start_time": "2021-10-13T12:41:40.120948Z"
    }
   },
   "outputs": [
    {
     "data": {
      "text/html": [
       "<img src=\"https://img-blog.csdnimg.cn/img_convert/fb6ac40a10dab24bdaf7a0cd0627092a.png\"/>"
      ],
      "text/plain": [
       "<IPython.core.display.Image object>"
      ]
     },
     "execution_count": 275,
     "metadata": {},
     "output_type": "execute_result"
    }
   ],
   "source": [
    "Image(url='https://img-blog.csdnimg.cn/img_convert/fb6ac40a10dab24bdaf7a0cd0627092a.png')"
   ]
  },
  {
   "cell_type": "markdown",
   "metadata": {},
   "source": [
    "由于 Sklearn 里面模型主要处理「有监督学习」和「无监督学习」两类，我们接下来也只讨论这两类。\n",
    "\n",
    " \n",
    "\n",
    "有监督学习\n",
    " \n",
    "有监督学习 (supervised learning) 利用输入数据及其对应标签来训练模型。这种学习方法类似学生通过研究问题和参考答案来学习，在掌握问题和答案之间的对应关系后，学生可自己给出相似新问题的答案了。\n",
    "\n",
    " \n",
    "\n",
    "在有监督学习中，数据 = (特征，标签)，而其主要任务是分类和回归。以上述詹姆斯的个人统计为例。"
   ]
  },
  {
   "cell_type": "markdown",
   "metadata": {},
   "source": [
    "##### 分类"
   ]
  },
  {
   "cell_type": "markdown",
   "metadata": {},
   "source": [
    "如果预测的是离散值 (discrete value)，例如比赛结果赢或输，此类学习任务称为分类 (classification)。"
   ]
  },
  {
   "cell_type": "code",
   "execution_count": 276,
   "metadata": {
    "ExecuteTime": {
     "end_time": "2021-10-13T12:41:40.151634Z",
     "start_time": "2021-10-13T12:41:40.136674Z"
    }
   },
   "outputs": [
    {
     "data": {
      "text/html": [
       "<img src=\"https://img-blog.csdnimg.cn/img_convert/4bb9d4e8efa739af1a440435afe4a190.png\"/>"
      ],
      "text/plain": [
       "<IPython.core.display.Image object>"
      ]
     },
     "execution_count": 276,
     "metadata": {},
     "output_type": "execute_result"
    }
   ],
   "source": [
    "Image(url='https://img-blog.csdnimg.cn/img_convert/4bb9d4e8efa739af1a440435afe4a190.png')"
   ]
  },
  {
   "cell_type": "markdown",
   "metadata": {},
   "source": [
    "##### 回归"
   ]
  },
  {
   "cell_type": "markdown",
   "metadata": {},
   "source": [
    "如果预测的是连续值 (continuous value)，例如詹姆斯效率 65.1, 70.3 等等，此类学习任务称为回归 (regression)。"
   ]
  },
  {
   "cell_type": "code",
   "execution_count": 277,
   "metadata": {
    "ExecuteTime": {
     "end_time": "2021-10-13T12:41:40.167635Z",
     "start_time": "2021-10-13T12:41:40.152632Z"
    }
   },
   "outputs": [
    {
     "data": {
      "text/html": [
       "<img src=\"https://img-blog.csdnimg.cn/img_convert/146496a175716a8fc0639303b3024302.png\"/>"
      ],
      "text/plain": [
       "<IPython.core.display.Image object>"
      ]
     },
     "execution_count": 277,
     "metadata": {},
     "output_type": "execute_result"
    }
   ],
   "source": [
    "Image(url='https://img-blog.csdnimg.cn/img_convert/146496a175716a8fc0639303b3024302.png')"
   ]
  },
  {
   "cell_type": "markdown",
   "metadata": {},
   "source": [
    "无监督学习\n",
    " \n",
    "无监督学习 (unsupervised learning) 是找出输入数据的模式。比如，它可以根据电影的各种特征做聚类，用这种方法收集数据为电影推荐系统提供标签。此外无监督学习还可以降低数据的维度，它可以帮助我们更好的理解数据。\n",
    "\n",
    " \n",
    "\n",
    "在无监督学习中，数据 = (特征，)。"
   ]
  },
  {
   "cell_type": "markdown",
   "metadata": {},
   "source": [
    "##### 聚类"
   ]
  },
  {
   "cell_type": "markdown",
   "metadata": {},
   "source": [
    "除了根据詹姆斯个人统计来预测骑士队输赢或者个人效率值外，我们还可以对该数据做聚类 (clustering)，即将训练集中的数据分成若干组，每组成为一个簇 (cluster)。"
   ]
  },
  {
   "cell_type": "code",
   "execution_count": 278,
   "metadata": {
    "ExecuteTime": {
     "end_time": "2021-10-13T12:41:40.183574Z",
     "start_time": "2021-10-13T12:41:40.168590Z"
    }
   },
   "outputs": [
    {
     "data": {
      "text/html": [
       "<img src=\"https://img-blog.csdnimg.cn/img_convert/eecf0905b6c04d03146fac1e30b9144a.png\"/>"
      ],
      "text/plain": [
       "<IPython.core.display.Image object>"
      ]
     },
     "execution_count": 278,
     "metadata": {},
     "output_type": "execute_result"
    }
   ],
   "source": [
    "Image(url='https://img-blog.csdnimg.cn/img_convert/eecf0905b6c04d03146fac1e30b9144a.png')"
   ]
  },
  {
   "cell_type": "markdown",
   "metadata": {},
   "source": [
    "假设聚类方法将数据聚成二个簇 A 和 B，如下图"
   ]
  },
  {
   "cell_type": "code",
   "execution_count": 279,
   "metadata": {
    "ExecuteTime": {
     "end_time": "2021-10-13T12:41:40.199508Z",
     "start_time": "2021-10-13T12:41:40.184548Z"
    }
   },
   "outputs": [
    {
     "data": {
      "text/html": [
       "<img src=\"https://img-blog.csdnimg.cn/img_convert/e45981c18b3bfdf1a041018cf86b1ee2.png\"/>"
      ],
      "text/plain": [
       "<IPython.core.display.Image object>"
      ]
     },
     "execution_count": 279,
     "metadata": {},
     "output_type": "execute_result"
    }
   ],
   "source": [
    "Image(url='https://img-blog.csdnimg.cn/img_convert/e45981c18b3bfdf1a041018cf86b1ee2.png')"
   ]
  },
  {
   "cell_type": "markdown",
   "metadata": {},
   "source": [
    "后来发现簇 A 代表赢，簇 B 代表输。聚类的用处就是可以找到一个潜在的原因来解释为什么样例 1 和 3 可以赢球。难道真的是只要詹姆斯三双就可以赢球？"
   ]
  },
  {
   "cell_type": "markdown",
   "metadata": {},
   "source": [
    "##### 降维"
   ]
  },
  {
   "cell_type": "markdown",
   "metadata": {},
   "source": [
    "注：下面对降维的理解不是那么严谨，只为了让小白对降维大概有个概念。\n",
    "\n",
    " \n",
    "\n",
    "詹姆斯完整统计数据还有抢断、盖帽和犯规，但这些对预测比赛输赢、效率值都没什么用，因此可以通过降维的方法将其去除。"
   ]
  },
  {
   "cell_type": "code",
   "execution_count": 280,
   "metadata": {
    "ExecuteTime": {
     "end_time": "2021-10-13T12:41:40.215507Z",
     "start_time": "2021-10-13T12:41:40.200503Z"
    }
   },
   "outputs": [
    {
     "data": {
      "text/html": [
       "<img src=\"https://img-blog.csdnimg.cn/img_convert/369eb3e6628b2935fe693cafc4031730.png\"/>"
      ],
      "text/plain": [
       "<IPython.core.display.Image object>"
      ]
     },
     "execution_count": 280,
     "metadata": {},
     "output_type": "execute_result"
    }
   ],
   "source": [
    "Image(url='https://img-blog.csdnimg.cn/img_convert/369eb3e6628b2935fe693cafc4031730.png')"
   ]
  },
  {
   "cell_type": "markdown",
   "metadata": {},
   "source": [
    "### 性能度量"
   ]
  },
  {
   "cell_type": "markdown",
   "metadata": {},
   "source": [
    "回归和分类任务中最常见的误差函数以及一些有用的性能度量如下。"
   ]
  },
  {
   "cell_type": "code",
   "execution_count": 281,
   "metadata": {
    "ExecuteTime": {
     "end_time": "2021-10-13T12:41:40.231420Z",
     "start_time": "2021-10-13T12:41:40.218456Z"
    }
   },
   "outputs": [
    {
     "data": {
      "text/html": [
       "<img src=\"https://img-blog.csdnimg.cn/img_convert/6ff368ac6a82e0051590b12a02b11da7.png\"/>"
      ],
      "text/plain": [
       "<IPython.core.display.Image object>"
      ]
     },
     "execution_count": 281,
     "metadata": {},
     "output_type": "execute_result"
    }
   ],
   "source": [
    "Image(url='https://img-blog.csdnimg.cn/img_convert/6ff368ac6a82e0051590b12a02b11da7.png')"
   ]
  },
  {
   "cell_type": "markdown",
   "metadata": {},
   "source": [
    "回归任务的误差函数估量在数据集 D 上模型的连续型预测值 h(x) 与连续型真实值 y 的距离，h(x) 和 y 可以取任意实数。误差函数是一个非负实值函数，通常使用 ED[h] 来表示。图表展示如下。"
   ]
  },
  {
   "cell_type": "code",
   "execution_count": 282,
   "metadata": {
    "ExecuteTime": {
     "end_time": "2021-10-13T12:41:40.247378Z",
     "start_time": "2021-10-13T12:41:40.233420Z"
    }
   },
   "outputs": [
    {
     "data": {
      "text/html": [
       "<img src=\"https://img-blog.csdnimg.cn/img_convert/33575c2c9f5b244eb5d41bac1b3941e5.png\"/>"
      ],
      "text/plain": [
       "<IPython.core.display.Image object>"
      ]
     },
     "execution_count": 282,
     "metadata": {},
     "output_type": "execute_result"
    }
   ],
   "source": [
    "Image(url='https://img-blog.csdnimg.cn/img_convert/33575c2c9f5b244eb5d41bac1b3941e5.png')"
   ]
  },
  {
   "cell_type": "code",
   "execution_count": 283,
   "metadata": {
    "ExecuteTime": {
     "end_time": "2021-10-13T12:41:40.263379Z",
     "start_time": "2021-10-13T12:41:40.248377Z"
    }
   },
   "outputs": [
    {
     "data": {
      "text/html": [
       "<img src=\"https://img-blog.csdnimg.cn/img_convert/7fa2af7193b13364805710a7d3a529e6.png\"/>"
      ],
      "text/plain": [
       "<IPython.core.display.Image object>"
      ]
     },
     "execution_count": 283,
     "metadata": {},
     "output_type": "execute_result"
    }
   ],
   "source": [
    "Image(url='https://img-blog.csdnimg.cn/img_convert/7fa2af7193b13364805710a7d3a529e6.png')"
   ]
  },
  {
   "cell_type": "markdown",
   "metadata": {},
   "source": [
    "分类任务的误差函数估量在数据集 D 上模型的离散型预测值 h(x) 与离散型真实值 y 的不一致程度，惯例是 y 和 h(x) 取±1，比如正类取 1 负类取 -1。图表展示如下。"
   ]
  },
  {
   "cell_type": "code",
   "execution_count": 284,
   "metadata": {
    "ExecuteTime": {
     "end_time": "2021-10-13T12:41:40.278296Z",
     "start_time": "2021-10-13T12:41:40.264334Z"
    }
   },
   "outputs": [
    {
     "data": {
      "text/html": [
       "<img src=\"https://img-blog.csdnimg.cn/img_convert/d217aa7957b47235ffab861edd488c43.png\"/>"
      ],
      "text/plain": [
       "<IPython.core.display.Image object>"
      ]
     },
     "execution_count": 284,
     "metadata": {},
     "output_type": "execute_result"
    }
   ],
   "source": [
    "Image(url='https://img-blog.csdnimg.cn/img_convert/d217aa7957b47235ffab861edd488c43.png')"
   ]
  },
  {
   "cell_type": "code",
   "execution_count": 285,
   "metadata": {
    "ExecuteTime": {
     "end_time": "2021-10-13T12:41:40.294253Z",
     "start_time": "2021-10-13T12:41:40.279293Z"
    }
   },
   "outputs": [
    {
     "data": {
      "text/html": [
       "<img src=\"https://img-blog.csdnimg.cn/img_convert/fd129386d4859210772bf7124a6e2dae.png\"/>"
      ],
      "text/plain": [
       "<IPython.core.display.Image object>"
      ]
     },
     "execution_count": 285,
     "metadata": {},
     "output_type": "execute_result"
    }
   ],
   "source": [
    "Image(url='https://img-blog.csdnimg.cn/img_convert/fd129386d4859210772bf7124a6e2dae.png')"
   ]
  },
  {
   "cell_type": "markdown",
   "metadata": {},
   "source": [
    "除上述损失函数之外，分类任务还有很多其他有用的性能度量。\n",
    "\n",
    " \n",
    "\n",
    "错误率：分类错误的样本数占样本总数的比例称为错误率 (error rate)，相应的分类正确的样本数占样本总数的比例称为精度 (accuracy)。在 10 个样本中有 2 个样本分类错误，则错误率为 20%，而精度为 80%。\n",
    "\n",
    " \n",
    "\n",
    "查准率和查全率：错误率和精度虽然常用，但是不能满足所有任务需求。假定用训练好的模型预测骑士赢球，显然，错误率衡量了多少比赛实际是赢球但预测成输球。但是若我们关心的是“预测出的比赛中有多少是赢球”，或“赢球的比赛中有多少被预测出了”，那么错误率这个单一指标显然就不够用了，这时需要引进更为细分的性能度量，即查准率 (precision) 和查全率 (recall)。\n",
    "\n",
    " \n",
    "\n",
    "其他概念比如混淆矩阵、ROC、AUC 我们再下帖的实例用到时再细讲。"
   ]
  },
  {
   "cell_type": "markdown",
   "metadata": {},
   "source": [
    "### 模型"
   ]
  },
  {
   "cell_type": "markdown",
   "metadata": {},
   "source": [
    "有监督模型如下图所示："
   ]
  },
  {
   "cell_type": "code",
   "execution_count": 286,
   "metadata": {
    "ExecuteTime": {
     "end_time": "2021-10-13T12:41:40.310337Z",
     "start_time": "2021-10-13T12:41:40.295376Z"
    }
   },
   "outputs": [
    {
     "data": {
      "text/html": [
       "<img src=\"https://img-blog.csdnimg.cn/img_convert/9fb6b08131ccdaf97a2615f8e97e9ccf.png\"/>"
      ],
      "text/plain": [
       "<IPython.core.display.Image object>"
      ]
     },
     "execution_count": 286,
     "metadata": {},
     "output_type": "execute_result"
    }
   ],
   "source": [
    "Image(url='https://img-blog.csdnimg.cn/img_convert/9fb6b08131ccdaf97a2615f8e97e9ccf.png')"
   ]
  },
  {
   "cell_type": "markdown",
   "metadata": {},
   "source": [
    "无监督模型包括各种聚类分析 (KMeans, DBSCAN)、主成分分析 (PCA)、独立成分分析 (ICA)、隐含狄利克雷分配 (LDA) 等等。"
   ]
  },
  {
   "cell_type": "markdown",
   "metadata": {},
   "source": [
    "## Sklearn数据"
   ]
  },
  {
   "cell_type": "markdown",
   "metadata": {},
   "source": [
    "Sklearn 和之前讨论的 NumPy, SciPy, Pandas, Matplotlib 相似，就是一个处理特殊任务的包，Sklearn 就是处理机器学习 (有监督学习和无监督学习) 的包，更精确的说，它里面有六个任务模块和一个数据引入模块：\n",
    "\n",
    " \n",
    "\n",
    "有监督学习的分类任务\n",
    "\n",
    "有监督学习的回归任务\n",
    "\n",
    "无监督学习的聚类任务\n",
    "\n",
    "无监督学习的降维任务\n",
    "\n",
    "数据预处理任务\n",
    "\n",
    "模型选择任务\n",
    "\n",
    "数据引入\n",
    "\n",
    " \n",
    "\n",
    "本节就来看看 Sklearn 里数据格式和自带数据集。"
   ]
  },
  {
   "cell_type": "markdown",
   "metadata": {},
   "source": [
    "### 数据格式"
   ]
  },
  {
   "cell_type": "markdown",
   "metadata": {},
   "source": [
    "在 Sklean 里，模型能即用的数据有两种形式：\n",
    "\n",
    " \n",
    "\n",
    "1、Numpy 二维数组 (ndarray) 的稠密数据 (dense data)，通常都是这种格式。\n",
    "\n",
    " \n",
    "\n",
    "2、SciPy 矩阵 (scipy.sparse.matrix) 的稀疏数据 (sparse data)，比如文本分析每个单词 (字典有 100000 个词) 做独热编码得到矩阵有很多 0，这时用 ndarray 就不合适了，太耗内存。\n",
    "\n",
    " \n",
    "\n",
    "上述数据在机器学习中通常用符号 X 表示，是模型自变量。它的大小 = [样本数, 特征数]，图下图所示。该房屋数据有 21000 条包括平方英尺，卧室数，楼层，日期，翻新年份等等 21 栏。该数据形状为 [21000, 21]"
   ]
  },
  {
   "cell_type": "code",
   "execution_count": 287,
   "metadata": {
    "ExecuteTime": {
     "end_time": "2021-10-13T12:41:40.326293Z",
     "start_time": "2021-10-13T12:41:40.311333Z"
    }
   },
   "outputs": [
    {
     "data": {
      "text/html": [
       "<img src=\"https://img-blog.csdnimg.cn/img_convert/ffaf82ac01d7e490285834286b043d3d.png\"/>"
      ],
      "text/plain": [
       "<IPython.core.display.Image object>"
      ]
     },
     "execution_count": 287,
     "metadata": {},
     "output_type": "execute_result"
    }
   ],
   "source": [
    "Image(url='https://img-blog.csdnimg.cn/img_convert/ffaf82ac01d7e490285834286b043d3d.png')"
   ]
  },
  {
   "cell_type": "markdown",
   "metadata": {},
   "source": [
    "有监督学习除了需要特征 X 还需要标签 y，而 y 通常就是 Numpy 一维数组，无监督学习没有 y。"
   ]
  },
  {
   "cell_type": "markdown",
   "metadata": {},
   "source": [
    "### 自带数据集"
   ]
  },
  {
   "cell_type": "markdown",
   "metadata": {},
   "source": [
    "Sklearn 里面有很多自带数据集供用户使用。\n",
    "\n",
    "特例描述"
   ]
  },
  {
   "cell_type": "code",
   "execution_count": 288,
   "metadata": {
    "ExecuteTime": {
     "end_time": "2021-10-13T12:41:40.342286Z",
     "start_time": "2021-10-13T12:41:40.327290Z"
    }
   },
   "outputs": [
    {
     "data": {
      "text/html": [
       "<img src=\"https://img-blog.csdnimg.cn/img_convert/5dfae17e6de6cc5fdf137d1fc9b679c5.png\"/>"
      ],
      "text/plain": [
       "<IPython.core.display.Image object>"
      ]
     },
     "execution_count": 288,
     "metadata": {},
     "output_type": "execute_result"
    }
   ],
   "source": [
    "Image(url='https://img-blog.csdnimg.cn/img_convert/5dfae17e6de6cc5fdf137d1fc9b679c5.png')"
   ]
  },
  {
   "cell_type": "markdown",
   "metadata": {},
   "source": [
    "数据集包括 150 条鸢尾花的四个特征 (萼片长/宽和花瓣长/宽) 和三个类别。在盘 Seaborn 时是从 csv 文件读取的，本帖从 Sklearn 里面的 datasets 模块中引入，代码如下："
   ]
  },
  {
   "cell_type": "code",
   "execution_count": 289,
   "metadata": {
    "ExecuteTime": {
     "end_time": "2021-10-13T12:41:40.358248Z",
     "start_time": "2021-10-13T12:41:40.343280Z"
    }
   },
   "outputs": [],
   "source": [
    "from sklearn.datasets import load_iris\n",
    "iris = load_iris()"
   ]
  },
  {
   "cell_type": "markdown",
   "metadata": {},
   "source": [
    "数据是以「字典」格式存储的，看看 iris 的键有哪些。"
   ]
  },
  {
   "cell_type": "code",
   "execution_count": 290,
   "metadata": {
    "ExecuteTime": {
     "end_time": "2021-10-13T12:41:40.374165Z",
     "start_time": "2021-10-13T12:41:40.359205Z"
    }
   },
   "outputs": [
    {
     "data": {
      "text/plain": [
       "dict_keys(['data', 'target', 'frame', 'target_names', 'DESCR', 'feature_names', 'filename'])"
      ]
     },
     "execution_count": 290,
     "metadata": {},
     "output_type": "execute_result"
    }
   ],
   "source": [
    "iris.keys()"
   ]
  },
  {
   "cell_type": "markdown",
   "metadata": {},
   "source": [
    "键里面的名称解释如下：\n",
    "\n",
    " \n",
    "\n",
    "data：特征值 (数组)\n",
    "\n",
    "target：标签值 (数组)\n",
    "\n",
    "target_names：标签 (列表)\n",
    "\n",
    "DESCR：数据集描述\n",
    "\n",
    "feature_names：特征 (列表)\n",
    "\n",
    "filename：iris.csv 文件路径\n",
    "\n",
    " \n",
    "\n",
    "具体感受一下 iris 数据中特征的大小、名称和前五个示例。"
   ]
  },
  {
   "cell_type": "code",
   "execution_count": 291,
   "metadata": {
    "ExecuteTime": {
     "end_time": "2021-10-13T12:41:40.390163Z",
     "start_time": "2021-10-13T12:41:40.375163Z"
    }
   },
   "outputs": [
    {
     "name": "stdout",
     "output_type": "stream",
     "text": [
      "(150, 4)\n",
      "['sepal length (cm)', 'sepal width (cm)', 'petal length (cm)', 'petal width (cm)']\n"
     ]
    },
    {
     "data": {
      "text/plain": [
       "array([[5.1, 3.5, 1.4, 0.2],\n",
       "       [4.9, 3. , 1.4, 0.2],\n",
       "       [4.7, 3.2, 1.3, 0.2],\n",
       "       [4.6, 3.1, 1.5, 0.2],\n",
       "       [5. , 3.6, 1.4, 0.2]])"
      ]
     },
     "execution_count": 291,
     "metadata": {},
     "output_type": "execute_result"
    }
   ],
   "source": [
    "n_samples, n_features = iris.data.shape\t\n",
    "print((n_samples, n_features))\t\n",
    "print(iris.feature_names)\t\n",
    "iris.data[0:5]"
   ]
  },
  {
   "cell_type": "markdown",
   "metadata": {},
   "source": [
    "150 个样本，4 个特征，没毛病！再感受一下标签的大小、名称和全部示例。"
   ]
  },
  {
   "cell_type": "code",
   "execution_count": 292,
   "metadata": {
    "ExecuteTime": {
     "end_time": "2021-10-13T12:41:40.406081Z",
     "start_time": "2021-10-13T12:41:40.391121Z"
    }
   },
   "outputs": [
    {
     "name": "stdout",
     "output_type": "stream",
     "text": [
      "(150,)\n",
      "['setosa' 'versicolor' 'virginica']\n"
     ]
    },
    {
     "data": {
      "text/plain": [
       "array([0, 0, 0, 0, 0, 0, 0, 0, 0, 0, 0, 0, 0, 0, 0, 0, 0, 0, 0, 0, 0, 0,\n",
       "       0, 0, 0, 0, 0, 0, 0, 0, 0, 0, 0, 0, 0, 0, 0, 0, 0, 0, 0, 0, 0, 0,\n",
       "       0, 0, 0, 0, 0, 0, 1, 1, 1, 1, 1, 1, 1, 1, 1, 1, 1, 1, 1, 1, 1, 1,\n",
       "       1, 1, 1, 1, 1, 1, 1, 1, 1, 1, 1, 1, 1, 1, 1, 1, 1, 1, 1, 1, 1, 1,\n",
       "       1, 1, 1, 1, 1, 1, 1, 1, 1, 1, 1, 1, 2, 2, 2, 2, 2, 2, 2, 2, 2, 2,\n",
       "       2, 2, 2, 2, 2, 2, 2, 2, 2, 2, 2, 2, 2, 2, 2, 2, 2, 2, 2, 2, 2, 2,\n",
       "       2, 2, 2, 2, 2, 2, 2, 2, 2, 2, 2, 2, 2, 2, 2, 2, 2, 2])"
      ]
     },
     "execution_count": 292,
     "metadata": {},
     "output_type": "execute_result"
    }
   ],
   "source": [
    "print(iris.target.shape)\n",
    "print(iris.target_names)\n",
    "iris.target"
   ]
  },
  {
   "cell_type": "markdown",
   "metadata": {},
   "source": [
    "150 个标签，3 类别 (分别用 0, 1, 2 数值来代表 setosa, versicolor, virginica)。\n",
    "\n",
    " \n",
    "\n",
    "用 Pandas 的 DataFrame (将 X 和 y 合并) 和 Seaborn 的 pairplot (看每个特征之间的关系) 来用表格和图来展示一下数据集的内容。"
   ]
  },
  {
   "cell_type": "markdown",
   "metadata": {},
   "source": [
    "##### Pandas DataFrame"
   ]
  },
  {
   "cell_type": "code",
   "execution_count": 293,
   "metadata": {
    "ExecuteTime": {
     "end_time": "2021-10-13T12:41:40.422068Z",
     "start_time": "2021-10-13T12:41:40.407077Z"
    }
   },
   "outputs": [
    {
     "data": {
      "text/html": [
       "<div>\n",
       "<style scoped>\n",
       "    .dataframe tbody tr th:only-of-type {\n",
       "        vertical-align: middle;\n",
       "    }\n",
       "\n",
       "    .dataframe tbody tr th {\n",
       "        vertical-align: top;\n",
       "    }\n",
       "\n",
       "    .dataframe thead th {\n",
       "        text-align: right;\n",
       "    }\n",
       "</style>\n",
       "<table border=\"1\" class=\"dataframe\">\n",
       "  <thead>\n",
       "    <tr style=\"text-align: right;\">\n",
       "      <th></th>\n",
       "      <th>sepal length (cm)</th>\n",
       "      <th>sepal width (cm)</th>\n",
       "      <th>petal length (cm)</th>\n",
       "      <th>petal width (cm)</th>\n",
       "      <th>species</th>\n",
       "    </tr>\n",
       "  </thead>\n",
       "  <tbody>\n",
       "    <tr>\n",
       "      <th>0</th>\n",
       "      <td>5.1</td>\n",
       "      <td>3.5</td>\n",
       "      <td>1.4</td>\n",
       "      <td>0.2</td>\n",
       "      <td>setosa</td>\n",
       "    </tr>\n",
       "    <tr>\n",
       "      <th>1</th>\n",
       "      <td>4.9</td>\n",
       "      <td>3.0</td>\n",
       "      <td>1.4</td>\n",
       "      <td>0.2</td>\n",
       "      <td>setosa</td>\n",
       "    </tr>\n",
       "    <tr>\n",
       "      <th>2</th>\n",
       "      <td>4.7</td>\n",
       "      <td>3.2</td>\n",
       "      <td>1.3</td>\n",
       "      <td>0.2</td>\n",
       "      <td>setosa</td>\n",
       "    </tr>\n",
       "    <tr>\n",
       "      <th>147</th>\n",
       "      <td>6.5</td>\n",
       "      <td>3.0</td>\n",
       "      <td>5.2</td>\n",
       "      <td>2.0</td>\n",
       "      <td>virginica</td>\n",
       "    </tr>\n",
       "    <tr>\n",
       "      <th>148</th>\n",
       "      <td>6.2</td>\n",
       "      <td>3.4</td>\n",
       "      <td>5.4</td>\n",
       "      <td>2.3</td>\n",
       "      <td>virginica</td>\n",
       "    </tr>\n",
       "    <tr>\n",
       "      <th>149</th>\n",
       "      <td>5.9</td>\n",
       "      <td>3.0</td>\n",
       "      <td>5.1</td>\n",
       "      <td>1.8</td>\n",
       "      <td>virginica</td>\n",
       "    </tr>\n",
       "  </tbody>\n",
       "</table>\n",
       "</div>"
      ],
      "text/plain": [
       "     sepal length (cm)  sepal width (cm)  petal length (cm)  petal width (cm)  \\\n",
       "0                  5.1               3.5                1.4               0.2   \n",
       "1                  4.9               3.0                1.4               0.2   \n",
       "2                  4.7               3.2                1.3               0.2   \n",
       "147                6.5               3.0                5.2               2.0   \n",
       "148                6.2               3.4                5.4               2.3   \n",
       "149                5.9               3.0                5.1               1.8   \n",
       "\n",
       "       species  \n",
       "0       setosa  \n",
       "1       setosa  \n",
       "2       setosa  \n",
       "147  virginica  \n",
       "148  virginica  \n",
       "149  virginica  "
      ]
     },
     "execution_count": 293,
     "metadata": {},
     "output_type": "execute_result"
    }
   ],
   "source": [
    "iris_data = pd.DataFrame( iris.data, \t\n",
    "                          columns=iris.feature_names )\t\n",
    "iris_data['species'] = iris.target_names[iris.target]\t\n",
    "iris_data.head(3).append(iris_data.tail(3))"
   ]
  },
  {
   "cell_type": "markdown",
   "metadata": {},
   "source": [
    "##### Seaborn Pairplot"
   ]
  },
  {
   "cell_type": "code",
   "execution_count": 294,
   "metadata": {
    "ExecuteTime": {
     "end_time": "2021-10-13T12:41:43.410572Z",
     "start_time": "2021-10-13T12:41:40.423069Z"
    }
   },
   "outputs": [
    {
     "data": {
      "image/png": "[encoded data removed]",
      "text/plain": [
       "<Figure size 804.75x720 with 20 Axes>"
      ]
     },
     "metadata": {
      "needs_background": "light"
     },
     "output_type": "display_data"
    }
   ],
   "source": [
    "sns.pairplot( iris_data, hue='species', palette='husl' );"
   ]
  },
  {
   "cell_type": "markdown",
   "metadata": {},
   "source": [
    "正规引入\n",
    " \n",
    "看完鸢尾花的 iris 数据展示后，现在来看看 Sklearn 三种引入数据形式。\n",
    "\n",
    " \n",
    "\n",
    "打包好的数据：对于小数据集，用 sklearn.datasets.load_*\n",
    "\n",
    "分流下载数据：对于大数据集，用 sklearn.datasets.fetch_*\n",
    "\n",
    "随机创建数据：为了快速展示，用 sklearn.datasets.make_*\n",
    "\n",
    "上面这个星号 * 是什么意思，指的是具体文件名，敲完\n",
    "\n",
    " \n",
    "\n",
    "datasets.load_<TAB>\n",
    "\n",
    "datasets.fetch_<TAB>\n",
    "\n",
    "datasets.make_<TAB>\n",
    "\n",
    " \n",
    "\n",
    "点击键盘上的 <TAB> 键就可以看到很多完整的文件名，看下面动图就明白了。"
   ]
  },
  {
   "cell_type": "code",
   "execution_count": 295,
   "metadata": {
    "ExecuteTime": {
     "end_time": "2021-10-13T12:41:43.426486Z",
     "start_time": "2021-10-13T12:41:43.411526Z"
    }
   },
   "outputs": [
    {
     "data": {
      "text/html": [
       "<img src=\"https://img-blog.csdnimg.cn/img_convert/eda32b0c1b82cc2f09e5a45b05c20b97.gif\"/>"
      ],
      "text/plain": [
       "<IPython.core.display.Image object>"
      ]
     },
     "execution_count": 295,
     "metadata": {},
     "output_type": "execute_result"
    }
   ],
   "source": [
    "Image(url='https://img-blog.csdnimg.cn/img_convert/eda32b0c1b82cc2f09e5a45b05c20b97.gif')"
   ]
  },
  {
   "cell_type": "markdown",
   "metadata": {},
   "source": [
    "Load 一个数字小数据集 digits?"
   ]
  },
  {
   "cell_type": "code",
   "execution_count": 296,
   "metadata": {
    "ExecuteTime": {
     "end_time": "2021-10-13T12:41:43.506311Z",
     "start_time": "2021-10-13T12:41:43.427483Z"
    }
   },
   "outputs": [
    {
     "data": {
      "text/plain": [
       "dict_keys(['data', 'target', 'frame', 'feature_names', 'target_names', 'images', 'DESCR'])"
      ]
     },
     "execution_count": 296,
     "metadata": {},
     "output_type": "execute_result"
    }
   ],
   "source": [
    "from sklearn import datasets\n",
    "digits = datasets.load_digits()\n",
    "digits.keys()"
   ]
  },
  {
   "cell_type": "markdown",
   "metadata": {},
   "source": [
    "Fetch 一个加州房屋大数据集 california_housing?"
   ]
  },
  {
   "cell_type": "code",
   "execution_count": 297,
   "metadata": {
    "ExecuteTime": {
     "end_time": "2021-10-13T12:41:43.522268Z",
     "start_time": "2021-10-13T12:41:43.507269Z"
    }
   },
   "outputs": [
    {
     "data": {
      "text/plain": [
       "dict_keys(['data', 'target', 'frame', 'target_names', 'feature_names', 'DESCR'])"
      ]
     },
     "execution_count": 297,
     "metadata": {},
     "output_type": "execute_result"
    }
   ],
   "source": [
    "california_housing = datasets.fetch_california_housing()\n",
    "california_housing.keys()"
   ]
  },
  {
   "cell_type": "markdown",
   "metadata": {},
   "source": [
    "Make 一个高斯分位数数据集 gaussian_quantile？"
   ]
  },
  {
   "cell_type": "code",
   "execution_count": 298,
   "metadata": {
    "ExecuteTime": {
     "end_time": "2021-10-13T12:41:43.538230Z",
     "start_time": "2021-10-13T12:41:43.523258Z"
    }
   },
   "outputs": [
    {
     "data": {
      "text/plain": [
       "(tuple, 2)"
      ]
     },
     "execution_count": 298,
     "metadata": {},
     "output_type": "execute_result"
    }
   ],
   "source": [
    "gaussian_quantiles = datasets.make_gaussian_quantiles()\n",
    "type(gaussian_quantiles), len(gaussian_quantiles)"
   ]
  },
  {
   "cell_type": "markdown",
   "metadata": {},
   "source": [
    "## 核心API"
   ]
  },
  {
   "cell_type": "markdown",
   "metadata": {},
   "source": [
    "Sklearn 里万物皆估计器。估计器是个非常抽象的叫法，可把它不严谨的当成一个模型 (用来回归、分类、聚类、降维)，或当成一套流程 (预处理、网格最终)。\n",
    "\n",
    " \n",
    "\n",
    "本节三大 API 其实都是估计器：\n",
    "\n",
    " \n",
    "\n",
    "估计器 (estimator) 当然是估计器\n",
    "\n",
    "预测器 (predictor) 是具有预测功能的估计器\n",
    "\n",
    "转换器 (transformer) 是具有转换功能的估计器\n",
    "\n",
    " \n",
    "\n",
    "这三句看似废话，其实蕴藏了很多内容。其实我对第 1 点这个估计器的起名不太满意，我觉得应该叫拟合器 (fitter) - 具有拟合功能的估计器。看完这一节你就会明白「拟合器」这种叫法更合理。"
   ]
  },
  {
   "cell_type": "markdown",
   "metadata": {},
   "source": [
    "### 估计器"
   ]
  },
  {
   "cell_type": "markdown",
   "metadata": {},
   "source": [
    "定义：任何可以基于数据集对一些参数进行估计的对象都被称为估计器。\n",
    "\n",
    " \n",
    "\n",
    "两个核心点：1. 需要输入数据，2. 可以估计参数。估计器首先被创建，然后被拟合。\n",
    "\n",
    " \n",
    "\n",
    "创建估计器：需要设置一组超参数，比如\n",
    "\n",
    " \n",
    "\n",
    "线性回归里超参数 normalize=True\n",
    "\n",
    "K 均值里超参数 n_clusters=3\n",
    "\n",
    " \n",
    "\n",
    "在创建好的估计器 model 可以直接访问这些超参数，用 . 符号。\n",
    "\n",
    " \n",
    "\n",
    "model.normalize\n",
    "\n",
    "model.n_clusters\n",
    "\n",
    " \n",
    "\n",
    "但 model 中有很多超参数，你不可能一开始都知道要设置什么值，没设置的用 Sklearn 会给个合理的默认值，因此新手不用担心。\n",
    "\n",
    "拟合估计器：需要训练集。在有监督学习中的代码范式为\n",
    "\n",
    " \n",
    "\n",
    "    model.fit( X_train, y_train )\n",
    "\n",
    " \n",
    "\n",
    "在无监督学习中的代码范式为\n",
    "\n",
    " \n",
    "\n",
    "    model.fit( X_train )\n",
    "\n",
    " \n",
    "\n",
    "拟合之后可以访问 model 里学到的参数，比如线性回归里的特征前的系数 coef_，或 K 均值里聚类标签 labels_。\n",
    "\n",
    " \n",
    "\n",
    "model.coef_\n",
    "\n",
    "model.labels_\n",
    "\n",
    " \n",
    "\n",
    "说了这么多抽象的东西，现在展示有监督学习的「线性回归」和无监督学习的「K 均值」的具体例子。\n",
    "\n",
    "线性回归\n",
    " \n",
    "首先从 sklearn 下的 linear_model 中引入 LinearRegression，再创建估计器起名 model，设置超参数 normalize 为 True，指的在每个特征值上做标准化，这样会加速数值运算。"
   ]
  },
  {
   "cell_type": "code",
   "execution_count": 299,
   "metadata": {
    "ExecuteTime": {
     "end_time": "2021-10-13T12:41:43.554179Z",
     "start_time": "2021-10-13T12:41:43.539183Z"
    }
   },
   "outputs": [
    {
     "data": {
      "text/plain": [
       "LinearRegression(normalize=True)"
      ]
     },
     "execution_count": 299,
     "metadata": {},
     "output_type": "execute_result"
    }
   ],
   "source": [
    "from sklearn.linear_model import LinearRegression\n",
    "model = LinearRegression(normalize=True)\n",
    "model"
   ]
  },
  {
   "cell_type": "markdown",
   "metadata": {},
   "source": [
    "创建完后的估计器会显示所有的超参数，比如我们设置好的 normalize=True，其他没设置的都是去默认值，比如 n_jobs=None 是只用一个核，你可以将其设为 2 就是两核并行，甚至设为 -1 就是电脑里所有核并行。\n",
    "\n",
    " \n",
    "\n",
    "自己创建一个简单数据集 (没有噪声完全线性) 只为了讲解估计器里面的特征。"
   ]
  },
  {
   "cell_type": "code",
   "execution_count": 300,
   "metadata": {
    "ExecuteTime": {
     "end_time": "2021-10-13T12:41:43.665876Z",
     "start_time": "2021-10-13T12:41:43.555141Z"
    }
   },
   "outputs": [
    {
     "data": {
      "image/png": "[encoded data removed]",
      "text/plain": [
       "<Figure size 432x288 with 1 Axes>"
      ]
     },
     "metadata": {
      "needs_background": "light"
     },
     "output_type": "display_data"
    }
   ],
   "source": [
    "x = np.arange(10)\n",
    "y = 2 * x + 1\n",
    "plt.plot( x, y, 'o' );"
   ]
  },
  {
   "cell_type": "markdown",
   "metadata": {},
   "source": [
    "还记得 Sklearn 里模型要求特征 X 是个两维变量么 (样本数×特征数)？但在本例中 X 是一维，因为我们用 np.newaxis 加一个维度，它做的事情就是把 [1, 2, 3] 转成 [[1],[2],[3]]。再把 X 和 y 丢进 fit() 函数来拟合线性模型的参数。"
   ]
  },
  {
   "cell_type": "code",
   "execution_count": 301,
   "metadata": {
    "ExecuteTime": {
     "end_time": "2021-10-13T12:41:43.681802Z",
     "start_time": "2021-10-13T12:41:43.666842Z"
    }
   },
   "outputs": [
    {
     "data": {
      "text/plain": [
       "LinearRegression(normalize=True)"
      ]
     },
     "execution_count": 301,
     "metadata": {},
     "output_type": "execute_result"
    }
   ],
   "source": [
    "X = x[:, np.newaxis]\n",
    "model.fit( X, y )"
   ]
  },
  {
   "cell_type": "markdown",
   "metadata": {},
   "source": [
    "拟合完后的估计器和创建完的样子看起来一样，但是已经用「model.param_」可以访问到学好的参数了，展示如下。"
   ]
  },
  {
   "cell_type": "code",
   "execution_count": 302,
   "metadata": {
    "ExecuteTime": {
     "end_time": "2021-10-13T12:41:43.697783Z",
     "start_time": "2021-10-13T12:41:43.682800Z"
    }
   },
   "outputs": [
    {
     "name": "stdout",
     "output_type": "stream",
     "text": [
      "[2.]\n",
      "1.0\n"
     ]
    }
   ],
   "source": [
    "print( model.coef_ )\n",
    "print( model.intercept_ )"
   ]
  },
  {
   "cell_type": "markdown",
   "metadata": {},
   "source": [
    "斜率为 2，截距为 1，没毛病。和访问超参数时不一样，注意访问参数要加一个下划线 _。\n",
    "\n",
    " \n",
    "\n",
    "K 均值\n",
    " \n",
    "首先从 sklearn 下的 cluster 中引入 KMeans，再创建估计器起名 model，设置超参数 n_cluster 为 3 (为了展示方便而我们知道用的 iris 数据集有 3 类，实际上应该选不同数量的 n_cluster，根据 elbow 图来决定，下帖细讲)。\n",
    "\n",
    " \n",
    "\n",
    "再者，iris 数据里是有标签 y 的，我们假装没有 y 才能无监督的聚类啊，要不然应该做有监督的分类的。"
   ]
  },
  {
   "cell_type": "code",
   "execution_count": 303,
   "metadata": {
    "ExecuteTime": {
     "end_time": "2021-10-13T12:41:43.713747Z",
     "start_time": "2021-10-13T12:41:43.698757Z"
    }
   },
   "outputs": [
    {
     "data": {
      "text/plain": [
       "KMeans(n_clusters=3)"
      ]
     },
     "execution_count": 303,
     "metadata": {},
     "output_type": "execute_result"
    }
   ],
   "source": [
    "from sklearn.cluster import KMeans\n",
    "model = KMeans( n_clusters=3 )\n",
    "model"
   ]
  },
  {
   "cell_type": "markdown",
   "metadata": {},
   "source": [
    "创建完后的估计器会显示所有的超参数，比如我们设置好的 n_cluster=3，其他没设置的都是去默认值，比如 max_iter=300 是最多迭代次数为 300，算法不收敛也停了。\n",
    "\n",
    " \n",
    "\n",
    "还记得 iris 里的特征有四个吗 (萼片长、萼片宽、花瓣长、花瓣宽)？四维特征很难可视化，因此我们只取两个特征 (萼片长、萼片宽) 来做聚类并且可视化结果。注意下面代码 X = iris.data[:,0:2]。"
   ]
  },
  {
   "cell_type": "code",
   "execution_count": 304,
   "metadata": {
    "ExecuteTime": {
     "end_time": "2021-10-13T12:41:43.745631Z",
     "start_time": "2021-10-13T12:41:43.714714Z"
    }
   },
   "outputs": [
    {
     "data": {
      "text/plain": [
       "KMeans(n_clusters=3)"
      ]
     },
     "execution_count": 304,
     "metadata": {},
     "output_type": "execute_result"
    }
   ],
   "source": [
    "X = iris.data[:,0:2]\n",
    "model.fit(X)"
   ]
  },
  {
   "cell_type": "markdown",
   "metadata": {},
   "source": [
    "拟合完后的估计器和创建完的样子看起来一样，但是已经用「model.param_」可以访问到学好的参数了，展示如下。"
   ]
  },
  {
   "cell_type": "code",
   "execution_count": 305,
   "metadata": {
    "ExecuteTime": {
     "end_time": "2021-10-13T12:41:43.761629Z",
     "start_time": "2021-10-13T12:41:43.746628Z"
    }
   },
   "outputs": [
    {
     "name": "stdout",
     "output_type": "stream",
     "text": [
      "[[6.81276596 3.07446809]\n",
      " [5.77358491 2.69245283]\n",
      " [5.006      3.428     ]] \n",
      "\n",
      "[2 2 2 2 2 2 2 2 2 2 2 2 2 2 2 2 2 2 2 2 2 2 2 2 2 2 2 2 2 2 2 2 2 2 2 2 2\n",
      " 2 2 2 2 2 2 2 2 2 2 2 2 2 0 0 0 1 0 1 0 1 0 1 1 1 1 1 1 0 1 1 1 1 1 1 1 1\n",
      " 0 0 0 0 1 1 1 1 1 1 1 1 0 1 1 1 1 1 1 1 1 1 1 1 1 1 0 1 0 0 0 0 1 0 0 0 0\n",
      " 0 0 1 1 0 0 0 0 1 0 1 0 1 0 0 1 1 0 0 0 0 0 1 1 0 0 0 1 0 0 0 1 0 0 0 1 0\n",
      " 0 1] \n",
      "\n",
      "37.0507021276596 \n",
      "\n",
      "[0 0 0 0 0 0 0 0 0 0 0 0 0 0 0 0 0 0 0 0 0 0 0 0 0 0 0 0 0 0 0 0 0 0 0 0 0\n",
      " 0 0 0 0 0 0 0 0 0 0 0 0 0 1 1 1 1 1 1 1 1 1 1 1 1 1 1 1 1 1 1 1 1 1 1 1 1\n",
      " 1 1 1 1 1 1 1 1 1 1 1 1 1 1 1 1 1 1 1 1 1 1 1 1 1 1 2 2 2 2 2 2 2 2 2 2 2\n",
      " 2 2 2 2 2 2 2 2 2 2 2 2 2 2 2 2 2 2 2 2 2 2 2 2 2 2 2 2 2 2 2 2 2 2 2 2 2\n",
      " 2 2]\n"
     ]
    }
   ],
   "source": [
    "print( model.cluster_centers_, '\\n')\n",
    "print( model.labels_, '\\n' )\n",
    "print( model.inertia_, '\\n')\n",
    "print( iris.target )"
   ]
  },
  {
   "cell_type": "markdown",
   "metadata": {},
   "source": [
    "有点乱，解释一下 KMeans 模型这几个参数：\n",
    "\n",
    " \n",
    "\n",
    "model.cluster_centers_：簇中心。三个簇那么有三个坐标。\n",
    "\n",
    "model.labels_：聚类后的标签\n",
    "\n",
    "model.inertia_：所有点到对应的簇中心的距离平方和 (越小越好)\n",
    "\n",
    " \n",
    "\n",
    "需要强调的是真实标签 iris.label 和聚类标签 model.labels_ 看起来差的很远。类别 0 都一致，但是类别 1 和 2 弄反了，这是因为在 KMeans 算法里标注的类别索引和真实类别索引不一样 (我现在也没找到什么方法能够让它们一致)。"
   ]
  },
  {
   "cell_type": "code",
   "execution_count": 306,
   "metadata": {
    "ExecuteTime": {
     "end_time": "2021-10-13T12:41:43.777545Z",
     "start_time": "2021-10-13T12:41:43.762586Z"
    }
   },
   "outputs": [
    {
     "data": {
      "text/html": [
       "<img src=\"https://img-blog.csdnimg.cn/img_convert/e16a7e151d72ec530fb98a025bc75be9.png\"/>"
      ],
      "text/plain": [
       "<IPython.core.display.Image object>"
      ]
     },
     "execution_count": 306,
     "metadata": {},
     "output_type": "execute_result"
    }
   ],
   "source": [
    "Image(url='https://img-blog.csdnimg.cn/img_convert/e16a7e151d72ec530fb98a025bc75be9.png')"
   ]
  },
  {
   "cell_type": "code",
   "execution_count": 307,
   "metadata": {
    "ExecuteTime": {
     "end_time": "2021-10-13T12:41:43.793543Z",
     "start_time": "2021-10-13T12:41:43.778543Z"
    }
   },
   "outputs": [
    {
     "data": {
      "text/html": [
       "<img src=\"https://img-blog.csdnimg.cn/img_convert/068345dfe6501b65cb48be217e153459.png\"/>"
      ],
      "text/plain": [
       "<IPython.core.display.Image object>"
      ]
     },
     "execution_count": 307,
     "metadata": {},
     "output_type": "execute_result"
    }
   ],
   "source": [
    "Image(url='https://img-blog.csdnimg.cn/img_convert/068345dfe6501b65cb48be217e153459.png')"
   ]
  },
  {
   "cell_type": "markdown",
   "metadata": {},
   "source": [
    "小结\n",
    " \n",
    "虽然上面以有监督学习的 LinearRegression 和无监督学习的 KMeans 举例，但实际上你可以将它们替换成其他别的模型，比如有监督学习的 LogisticRegression 和无监督学习的 DBSCAN。它们都是「估计器」，因此都有 fit() 方法。使用它们的通用伪代码如下："
   ]
  },
  {
   "cell_type": "code",
   "execution_count": 308,
   "metadata": {
    "ExecuteTime": {
     "end_time": "2021-10-13T12:41:43.809461Z",
     "start_time": "2021-10-13T12:41:43.794532Z"
    }
   },
   "outputs": [],
   "source": [
    "# # 有监督学习\n",
    "# from sklearn.xxx import SomeModel\n",
    "# # xxx 可以是 linear_model 或 ensemble 等\n",
    " \n",
    "# model = SomeModel( hyperparameter )\n",
    "# model.fit( X, y )"
   ]
  },
  {
   "cell_type": "code",
   "execution_count": 309,
   "metadata": {
    "ExecuteTime": {
     "end_time": "2021-10-13T12:41:43.825457Z",
     "start_time": "2021-10-13T12:41:43.810459Z"
    }
   },
   "outputs": [],
   "source": [
    "# # 无监督学习\n",
    "# from sklearn.xxx import SomeModel\n",
    "# # xxx 可以是 cluster 或 decomposition 等\n",
    "\n",
    "# model = SomeModel( hyperparameter )\n",
    "# model.fit( X )"
   ]
  },
  {
   "cell_type": "markdown",
   "metadata": {},
   "source": [
    "### 预测器"
   ]
  },
  {
   "cell_type": "markdown",
   "metadata": {},
   "source": [
    "定义：预测器在估计器上做了一个延展，延展出预测的功能。\n",
    "\n",
    " \n",
    "\n",
    "两个核心点：1. 基于学到的参数预测，2. 预测有很多指标。最常见的就是 predict() 函数：\n",
    "\n",
    " \n",
    "\n",
    "model.predict(X_test)：评估模型在新数据上的表现\n",
    "\n",
    "model.predict(X_train)：确认模型在老数据上的表现\n",
    "\n",
    " \n",
    "\n",
    "因为要做预测，首先将数据分成 80:20 的训练集 (X_train, y_train) 和测试集 (X_test, y_test)，在用从训练集上拟合 fit() 的模型在测试集上预测 predict()。"
   ]
  },
  {
   "cell_type": "code",
   "execution_count": 310,
   "metadata": {
    "ExecuteTime": {
     "end_time": "2021-10-13T12:41:43.841414Z",
     "start_time": "2021-10-13T12:41:43.826416Z"
    }
   },
   "outputs": [],
   "source": [
    "from sklearn.datasets import load_iris\n",
    "iris = load_iris()"
   ]
  },
  {
   "cell_type": "code",
   "execution_count": 311,
   "metadata": {
    "ExecuteTime": {
     "end_time": "2021-10-13T12:41:43.857371Z",
     "start_time": "2021-10-13T12:41:43.842373Z"
    }
   },
   "outputs": [
    {
     "name": "stdout",
     "output_type": "stream",
     "text": [
      "The size of X_train is  (120, 4)\n",
      "The size of y_train is  (120,)\n",
      "The size of X_test is  (30, 4)\n",
      "The size of y_test is  (30,)\n"
     ]
    }
   ],
   "source": [
    "from sklearn.model_selection import train_test_split\n",
    " \n",
    "X_train, X_test, y_train, y_test = train_test_split( iris['data'], \n",
    "                    iris['target'], \n",
    "                    test_size=0.2 )\n",
    " \n",
    "\n",
    "print( 'The size of X_train is ', X_train.shape )\n",
    "print( 'The size of y_train is ', y_train.shape )\n",
    "print( 'The size of X_test is ', X_test.shape )\n",
    "print( 'The size of y_test is ', y_test.shape )"
   ]
  },
  {
   "cell_type": "markdown",
   "metadata": {},
   "source": [
    "让我们来看个有监督学习的「对率回归」和继续上节无监督学习的「K 均值」的例子。\n",
    "\n",
    "##### 对率回归\n",
    " \n",
    "首先从 sklearn 下的 linear_model 中引入 LogisticRegression，再创建估计器起名 model，设置超参数 mutli_class 为 multinomial 因为有三种鸢尾花，是个多分类问题。\n",
    "\n",
    " \n",
    "\n",
    "接着再训练集上拟合参数，这时估计器 model 里面已经可以访问这些参数了。"
   ]
  },
  {
   "cell_type": "code",
   "execution_count": 312,
   "metadata": {
    "ExecuteTime": {
     "end_time": "2021-10-13T12:41:43.889278Z",
     "start_time": "2021-10-13T12:41:43.858331Z"
    }
   },
   "outputs": [
    {
     "data": {
      "text/plain": [
       "LogisticRegression(multi_class='multinomial')"
      ]
     },
     "execution_count": 312,
     "metadata": {},
     "output_type": "execute_result"
    }
   ],
   "source": [
    "from sklearn.linear_model import LogisticRegression\n",
    "model=LogisticRegression(solver='lbfgs',multi_class='multinomial')\n",
    "model.fit(X_train,y_train)"
   ]
  },
  {
   "cell_type": "markdown",
   "metadata": {},
   "source": [
    "##### predict & predict_proba\n",
    "\n",
    " \n",
    "\n",
    "对于分类问题，我们不仅想知道预测的类别是什么，有时还想知道预测该类别的信心如何。前者用 predict()，后者用 predict_proba()。\n",
    "\n",
    " \n",
    "\n",
    "代码如下，在测试集上比较预测标签 y_pred 和真实标签 y_test 发现它们完全吻合，准确率 100%"
   ]
  },
  {
   "cell_type": "code",
   "execution_count": 313,
   "metadata": {
    "ExecuteTime": {
     "end_time": "2021-10-13T12:41:43.905245Z",
     "start_time": "2021-10-13T12:41:43.894267Z"
    }
   },
   "outputs": [
    {
     "name": "stdout",
     "output_type": "stream",
     "text": [
      "[2 2 0 1 1 0 2 0 0 1 0 2 0 1 1 0 0 2 2 2 2 2 2 2 1 0 2 1 1 2] \n",
      "\n",
      "[2 1 0 1 1 0 2 0 0 1 0 2 0 1 1 0 0 1 2 2 2 2 1 2 1 0 2 1 1 2] \n",
      "\n",
      "[[4.82407711e-04 2.28258615e-01 7.71258977e-01]\n",
      " [8.17802080e-04 5.44771091e-01 4.54411107e-01]\n",
      " [9.66847761e-01 3.31520294e-02 2.09386400e-07]\n",
      " [1.85702590e-01 8.11015095e-01 3.28231414e-03]\n",
      " [1.46486695e-03 8.16834213e-01 1.81700920e-01]\n",
      " [9.85023367e-01 1.49766019e-02 3.08659577e-08]\n",
      " [4.81386897e-04 2.07959945e-01 7.91558668e-01]\n",
      " [9.85204349e-01 1.47956279e-02 2.33886079e-08]\n",
      " [9.41285575e-01 5.87142003e-02 2.25129838e-07]\n",
      " [1.56059599e-01 8.40621088e-01 3.31931311e-03]\n",
      " [9.50720009e-01 4.92797941e-02 1.96995708e-07]\n",
      " [4.12280768e-05 9.54332159e-02 9.04525556e-01]\n",
      " [9.88420414e-01 1.15795593e-02 2.70188731e-08]\n",
      " [1.09874929e-03 6.51833202e-01 3.47068049e-01]\n",
      " [1.04882689e-02 9.33962192e-01 5.55495388e-02]\n",
      " [9.81023258e-01 1.89766818e-02 5.97034992e-08]\n",
      " [9.95279379e-01 4.72061711e-03 4.07935667e-09]\n",
      " [7.01278726e-04 5.34209916e-01 4.65088806e-01]\n",
      " [8.27378265e-04 3.07733853e-01 6.91438769e-01]\n",
      " [4.75354134e-04 2.65685989e-01 7.33838657e-01]\n",
      " [1.88278795e-07 6.51807468e-03 9.93481737e-01]\n",
      " [1.45657499e-07 8.66386597e-03 9.91335988e-01]\n",
      " [1.61624793e-03 5.19029444e-01 4.79354308e-01]\n",
      " [2.38547441e-06 7.68804087e-03 9.92309574e-01]\n",
      " [3.86805980e-03 9.17350346e-01 7.87815946e-02]\n",
      " [9.74612650e-01 2.53872941e-02 5.59862151e-08]\n",
      " [3.03858321e-05 1.92258392e-01 8.07711222e-01]\n",
      " [3.13803087e-02 9.51695618e-01 1.69240731e-02]\n",
      " [3.86511400e-02 9.47373908e-01 1.39749518e-02]\n",
      " [2.40530148e-04 2.09002890e-01 7.90756580e-01]]\n"
     ]
    }
   ],
   "source": [
    "y_pred = model.predict( X_test )\n",
    "p_pred = model.predict_proba( X_test )\n",
    "print( y_test, '\\n' )\n",
    "print( y_pred, '\\n' )\n",
    "print( p_pred )"
   ]
  },
  {
   "cell_type": "markdown",
   "metadata": {},
   "source": [
    "解释一下 p_pred - 测试集里有 30 个数据，鸢尾花有 3 类，因此 predict_proba() 生成一个 30×3 的数组，每行的概率加起来为 1。\n",
    "\n",
    " \n",
    "\n",
    "为了验证我们的理解，我们看 Sklearn 是不是把「每行中最大概率值对应的那一类」作为预测结果。"
   ]
  },
  {
   "cell_type": "code",
   "execution_count": 314,
   "metadata": {
    "ExecuteTime": {
     "end_time": "2021-10-13T12:41:43.921201Z",
     "start_time": "2021-10-13T12:41:43.908222Z"
    }
   },
   "outputs": [
    {
     "data": {
      "text/html": [
       "<div>\n",
       "<style scoped>\n",
       "    .dataframe tbody tr th:only-of-type {\n",
       "        vertical-align: middle;\n",
       "    }\n",
       "\n",
       "    .dataframe tbody tr th {\n",
       "        vertical-align: top;\n",
       "    }\n",
       "\n",
       "    .dataframe thead th {\n",
       "        text-align: right;\n",
       "    }\n",
       "</style>\n",
       "<table border=\"1\" class=\"dataframe\">\n",
       "  <thead>\n",
       "    <tr style=\"text-align: right;\">\n",
       "      <th></th>\n",
       "      <th>Class 1 Prob</th>\n",
       "      <th>Class 2 Prob</th>\n",
       "      <th>Class 3 Prob</th>\n",
       "      <th>Predicted Class</th>\n",
       "    </tr>\n",
       "  </thead>\n",
       "  <tbody>\n",
       "    <tr>\n",
       "      <th>0</th>\n",
       "      <td>0.000482</td>\n",
       "      <td>0.228259</td>\n",
       "      <td>7.712590e-01</td>\n",
       "      <td>2</td>\n",
       "    </tr>\n",
       "    <tr>\n",
       "      <th>1</th>\n",
       "      <td>0.000818</td>\n",
       "      <td>0.544771</td>\n",
       "      <td>4.544111e-01</td>\n",
       "      <td>1</td>\n",
       "    </tr>\n",
       "    <tr>\n",
       "      <th>2</th>\n",
       "      <td>0.966848</td>\n",
       "      <td>0.033152</td>\n",
       "      <td>2.093864e-07</td>\n",
       "      <td>0</td>\n",
       "    </tr>\n",
       "    <tr>\n",
       "      <th>3</th>\n",
       "      <td>0.185703</td>\n",
       "      <td>0.811015</td>\n",
       "      <td>3.282314e-03</td>\n",
       "      <td>1</td>\n",
       "    </tr>\n",
       "    <tr>\n",
       "      <th>4</th>\n",
       "      <td>0.001465</td>\n",
       "      <td>0.816834</td>\n",
       "      <td>1.817009e-01</td>\n",
       "      <td>1</td>\n",
       "    </tr>\n",
       "  </tbody>\n",
       "</table>\n",
       "</div>"
      ],
      "text/plain": [
       "   Class 1 Prob  Class 2 Prob  Class 3 Prob  Predicted Class\n",
       "0      0.000482      0.228259  7.712590e-01                2\n",
       "1      0.000818      0.544771  4.544111e-01                1\n",
       "2      0.966848      0.033152  2.093864e-07                0\n",
       "3      0.185703      0.811015  3.282314e-03                1\n",
       "4      0.001465      0.816834  1.817009e-01                1"
      ]
     },
     "execution_count": 314,
     "metadata": {},
     "output_type": "execute_result"
    }
   ],
   "source": [
    "s = ['Class 1 Prob', 'Class 2 Prob', 'Class 3 Prob']\n",
    "prob_DF = pd.DataFrame( p_pred, columns=s )\n",
    "prob_DF['Predicted Class'] = y_pred\n",
    "prob_DF.head()"
   ]
  },
  {
   "cell_type": "markdown",
   "metadata": {},
   "source": [
    "是的！前三行 Class 1 Prob 最大，预测是第一类；第四行 Class 2 Prob 最大，预测是第二类；第四行 Class 3 Prob 最大，预测是第三类。"
   ]
  },
  {
   "cell_type": "markdown",
   "metadata": {},
   "source": [
    "##### score & decision_function\n",
    "\n",
    " \n",
    "\n",
    "预测器里还有额外的两个函数可以使用。在分类问题中\n",
    "\n",
    " \n",
    "\n",
    "score() 返回的是分类准确率\n",
    "\n",
    "decision_function() 返回的是每个样例在每个类下的分数值"
   ]
  },
  {
   "cell_type": "code",
   "execution_count": 315,
   "metadata": {
    "ExecuteTime": {
     "end_time": "2021-10-13T12:41:43.937158Z",
     "start_time": "2021-10-13T12:41:43.922159Z"
    }
   },
   "outputs": [
    {
     "name": "stdout",
     "output_type": "stream",
     "text": [
      "0.9\n",
      "0.9\n"
     ]
    }
   ],
   "source": [
    "print( model.score( X_test, y_test ) )\n",
    "print( np.sum(y_pred==y_test)/len(y_test) )"
   ]
  },
  {
   "cell_type": "code",
   "execution_count": 316,
   "metadata": {
    "ExecuteTime": {
     "end_time": "2021-10-13T12:41:43.953099Z",
     "start_time": "2021-10-13T12:41:43.938117Z"
    }
   },
   "outputs": [
    {
     "name": "stdout",
     "output_type": "stream",
     "text": [
      "[[ -4.51214493   1.64729999   2.86484494]\n",
      " [ -4.27387929   2.22762133   2.04625795]\n",
      " [  6.23943579   2.86649868  -9.10593447]\n",
      " [  0.85381916   2.3279594   -3.18177856]\n",
      " [ -3.71475645   2.60891528   1.10584117]\n",
      " [  7.15489943   2.96872318 -10.12362261]\n",
      " [ -4.49117248   1.57725698   2.91391549]\n",
      " [  7.25154264   3.05302529 -10.30456793]\n",
      " [  6.0068816    3.23231664  -9.23919824]\n",
      " [  0.72219236   2.40609539  -3.12828775]\n",
      " [  6.11641789   3.15671243  -9.27313032]\n",
      " [ -5.9143696    1.83269287   4.08167673]\n",
      " [  7.28731659   2.84044988 -10.12776647]\n",
      " [ -4.04698817   2.338628     1.70836017]\n",
      " [ -2.05206547   2.43711311  -0.38504764]\n",
      " [  6.8533671    2.90798189  -9.76134899]\n",
      " [  8.22122623   2.87014228 -11.09136851]\n",
      " [ -4.37757232   2.25806641   2.11950591]\n",
      " [ -4.21566549   1.7030631    2.5126024 ]\n",
      " [ -4.55599824   1.77001208   2.78598616]\n",
      " [ -8.64365607   1.80850971   6.83514635]\n",
      " [ -8.90890658   2.08450705   6.82439953]\n",
      " [ -3.82139529   1.95045795   1.87093734]\n",
      " [ -7.00547188   1.07255137   5.93292051]\n",
      " [ -2.82755426   2.64118216   0.1863721 ]\n",
      " [  6.77341215   3.12562086  -9.89903301]\n",
      " [ -6.31353417   2.43908492   3.87444925]\n",
      " [ -0.93154038   2.48052429  -1.54898391]\n",
      " [ -0.72726929   2.47184829  -1.74457899]\n",
      " [ -4.95505265   1.81220527   3.14284738]]\n"
     ]
    }
   ],
   "source": [
    "decision_score = model.decision_function( X_test )\n",
    "print( decision_score )"
   ]
  },
  {
   "cell_type": "markdown",
   "metadata": {},
   "source": [
    "为了验证我们的理解，我们看 Sklearn 是不是把「每行中最高得分值对应的那一类」作为预测结果。\n",
    "\n"
   ]
  },
  {
   "cell_type": "code",
   "execution_count": 317,
   "metadata": {
    "ExecuteTime": {
     "end_time": "2021-10-13T12:41:43.969065Z",
     "start_time": "2021-10-13T12:41:43.954073Z"
    }
   },
   "outputs": [
    {
     "data": {
      "text/html": [
       "<div>\n",
       "<style scoped>\n",
       "    .dataframe tbody tr th:only-of-type {\n",
       "        vertical-align: middle;\n",
       "    }\n",
       "\n",
       "    .dataframe tbody tr th {\n",
       "        vertical-align: top;\n",
       "    }\n",
       "\n",
       "    .dataframe thead th {\n",
       "        text-align: right;\n",
       "    }\n",
       "</style>\n",
       "<table border=\"1\" class=\"dataframe\">\n",
       "  <thead>\n",
       "    <tr style=\"text-align: right;\">\n",
       "      <th></th>\n",
       "      <th>Class 1 Score</th>\n",
       "      <th>Class 2 Score</th>\n",
       "      <th>Class 3 Score</th>\n",
       "      <th>Predicted Class</th>\n",
       "    </tr>\n",
       "  </thead>\n",
       "  <tbody>\n",
       "    <tr>\n",
       "      <th>25</th>\n",
       "      <td>6.773412</td>\n",
       "      <td>3.125621</td>\n",
       "      <td>-9.899033</td>\n",
       "      <td>0</td>\n",
       "    </tr>\n",
       "    <tr>\n",
       "      <th>26</th>\n",
       "      <td>-6.313534</td>\n",
       "      <td>2.439085</td>\n",
       "      <td>3.874449</td>\n",
       "      <td>2</td>\n",
       "    </tr>\n",
       "    <tr>\n",
       "      <th>27</th>\n",
       "      <td>-0.931540</td>\n",
       "      <td>2.480524</td>\n",
       "      <td>-1.548984</td>\n",
       "      <td>1</td>\n",
       "    </tr>\n",
       "    <tr>\n",
       "      <th>28</th>\n",
       "      <td>-0.727269</td>\n",
       "      <td>2.471848</td>\n",
       "      <td>-1.744579</td>\n",
       "      <td>1</td>\n",
       "    </tr>\n",
       "    <tr>\n",
       "      <th>29</th>\n",
       "      <td>-4.955053</td>\n",
       "      <td>1.812205</td>\n",
       "      <td>3.142847</td>\n",
       "      <td>2</td>\n",
       "    </tr>\n",
       "  </tbody>\n",
       "</table>\n",
       "</div>"
      ],
      "text/plain": [
       "    Class 1 Score  Class 2 Score  Class 3 Score  Predicted Class\n",
       "25       6.773412       3.125621      -9.899033                0\n",
       "26      -6.313534       2.439085       3.874449                2\n",
       "27      -0.931540       2.480524      -1.548984                1\n",
       "28      -0.727269       2.471848      -1.744579                1\n",
       "29      -4.955053       1.812205       3.142847                2"
      ]
     },
     "execution_count": 317,
     "metadata": {},
     "output_type": "execute_result"
    }
   ],
   "source": [
    "s = ['Class 1 Score', 'Class 2 Score', 'Class 3 Score']\n",
    "decision_DF = pd.DataFrame( decision_score, columns=s )\n",
    "decision_DF['Predicted Class'] = y_pred\n",
    "decision_DF.tail()"
   ]
  },
  {
   "cell_type": "markdown",
   "metadata": {},
   "source": [
    "是的！前两行 Class 3 Score 最大，预测是第三类；后三行 Class 1 Score 最大，预测是第一类。"
   ]
  },
  {
   "cell_type": "markdown",
   "metadata": {},
   "source": [
    "##### K 均值\n",
    " \n",
    "继续上一节的 KMeans 模型，首先用 fit() 训练。"
   ]
  },
  {
   "cell_type": "code",
   "execution_count": 318,
   "metadata": {
    "ExecuteTime": {
     "end_time": "2021-10-13T12:41:43.999995Z",
     "start_time": "2021-10-13T12:41:43.970031Z"
    }
   },
   "outputs": [
    {
     "data": {
      "text/plain": [
       "KMeans(n_clusters=3)"
      ]
     },
     "execution_count": 318,
     "metadata": {},
     "output_type": "execute_result"
    }
   ],
   "source": [
    "from sklearn.cluster import KMeans\n",
    "\n",
    "model=KMeans(n_clusters=3)\n",
    "model.fit(X_train[:,0:2])"
   ]
  },
  {
   "cell_type": "markdown",
   "metadata": {},
   "source": [
    "再用 predict() 在测试集上预测出类别 inx_pred，和真实标签 y_test 比对。再次强调，inx_pred 和 y_test 给三个类别的索引定义是不同的。"
   ]
  },
  {
   "cell_type": "code",
   "execution_count": 319,
   "metadata": {
    "ExecuteTime": {
     "end_time": "2021-10-13T12:41:44.014952Z",
     "start_time": "2021-10-13T12:41:44.000949Z"
    }
   },
   "outputs": [
    {
     "name": "stdout",
     "output_type": "stream",
     "text": [
      "[2 2 1 2 0 1 2 1 1 2 1 0 1 2 2 1 1 2 2 0 0 0 2 0 2 1 0 2 2 0]\n",
      "[2 2 0 1 1 0 2 0 0 1 0 2 0 1 1 0 0 2 2 2 2 2 2 2 1 0 2 1 1 2]\n"
     ]
    }
   ],
   "source": [
    "index_pred = model.predict( X_test[:,0:2] )\n",
    "print( index_pred )\n",
    "print( y_test )"
   ]
  },
  {
   "cell_type": "markdown",
   "metadata": {},
   "source": [
    "最后画出两幅图 (都是在测试集上)，左图是根据聚类预测的标签画出散点图，而右图是根据真实标签画出散点图，对比两幅图看很像，聚类的效果也不错。"
   ]
  },
  {
   "cell_type": "code",
   "execution_count": 320,
   "metadata": {
    "ExecuteTime": {
     "end_time": "2021-10-13T12:41:44.030869Z",
     "start_time": "2021-10-13T12:41:44.015909Z"
    }
   },
   "outputs": [
    {
     "data": {
      "text/html": [
       "<img src=\"https://img-blog.csdnimg.cn/img_convert/adb47f99715078f37c60198edc955428.png\"/>"
      ],
      "text/plain": [
       "<IPython.core.display.Image object>"
      ]
     },
     "execution_count": 320,
     "metadata": {},
     "output_type": "execute_result"
    }
   ],
   "source": [
    "Image(url='https://img-blog.csdnimg.cn/img_convert/adb47f99715078f37c60198edc955428.png')"
   ]
  },
  {
   "cell_type": "code",
   "execution_count": 321,
   "metadata": {
    "ExecuteTime": {
     "end_time": "2021-10-13T12:41:44.046825Z",
     "start_time": "2021-10-13T12:41:44.034857Z"
    }
   },
   "outputs": [
    {
     "data": {
      "text/html": [
       "<img src=\"https://img-blog.csdnimg.cn/img_convert/6f902382c558b2220904d86867046552.png\"/>"
      ],
      "text/plain": [
       "<IPython.core.display.Image object>"
      ]
     },
     "execution_count": 321,
     "metadata": {},
     "output_type": "execute_result"
    }
   ],
   "source": [
    "Image(url='https://img-blog.csdnimg.cn/img_convert/6f902382c558b2220904d86867046552.png')"
   ]
  },
  {
   "cell_type": "markdown",
   "metadata": {},
   "source": [
    "KMeans 模型里也有 score() 函数，输出是值是它要优化的目标函数的对数。"
   ]
  },
  {
   "cell_type": "code",
   "execution_count": 322,
   "metadata": {
    "ExecuteTime": {
     "end_time": "2021-10-13T12:41:44.062782Z",
     "start_time": "2021-10-13T12:41:44.047823Z"
    }
   },
   "outputs": [
    {
     "data": {
      "text/plain": [
       "-8.974160259764654"
      ]
     },
     "execution_count": 322,
     "metadata": {},
     "output_type": "execute_result"
    }
   ],
   "source": [
    "model.score( X_test[:,0:2] )"
   ]
  },
  {
   "cell_type": "markdown",
   "metadata": {},
   "source": [
    "小节\n",
    " \n",
    "估计器都有 fit() 方法，预测器都有 predict() 和 score() 方法，言外之意不是每个预测器都有 predict_proba() 和 decision_function() 方法，这个在用的时候查查官方文档就清楚了 (比如 RandomForestClassifier 就没有 decision_function() 方法)。\n",
    "\n",
    " \n",
    "\n",
    "使用它们的通用伪代码如下："
   ]
  },
  {
   "cell_type": "code",
   "execution_count": 323,
   "metadata": {
    "ExecuteTime": {
     "end_time": "2021-10-13T12:41:44.078740Z",
     "start_time": "2021-10-13T12:41:44.063780Z"
    }
   },
   "outputs": [],
   "source": [
    "# # 有监督学习\n",
    "# from sklearn.xxx import SomeModel\n",
    "# # xxx 可以是 linear_model 或 ensemble 等\t\n",
    " \n",
    "\n",
    "# model = SomeModel( hyperparameter )\n",
    "# model.fit( X, y )\n",
    "# y_pred = model.predict( X_new )\n",
    "# s = model.score( X_new )"
   ]
  },
  {
   "cell_type": "code",
   "execution_count": 324,
   "metadata": {
    "ExecuteTime": {
     "end_time": "2021-10-13T12:41:44.094697Z",
     "start_time": "2021-10-13T12:41:44.079737Z"
    }
   },
   "outputs": [],
   "source": [
    "# # 无监督学习\n",
    "# from sklearn.xxx import SomeModel\n",
    "# # xxx 可以是 cluster 或 decomposition 等\n",
    " \n",
    "\n",
    "# model = SomeModel( hyperparameter )\n",
    "# model.fit( X )\t\n",
    "# idx_pred = model.predict( X_new )\n",
    "# s = model.score( X_new )"
   ]
  },
  {
   "cell_type": "markdown",
   "metadata": {},
   "source": [
    "### 转换器"
   ]
  },
  {
   "cell_type": "markdown",
   "metadata": {},
   "source": [
    "定义：转换器也是一种估计器，两者都带拟合功能，但估计器做完拟合来预测，而转换器做完拟合来转换。\n",
    "\n",
    " \n",
    "\n",
    "核心点：估计器里 fit + predict，转换器里 fit + transform。\n",
    "\n",
    " \n",
    "\n",
    "本节介绍两大类转换器\n",
    "\n",
    " \n",
    "\n",
    "1、将分类型变量 (categorical) 编码成数值型变量 (numerical)\n",
    "\n",
    "2、规范化 (normalize) 或标准化 (standardize) 数值型变量\n",
    "\n",
    " \n",
    "\n",
    "分类型变量编码"
   ]
  },
  {
   "cell_type": "markdown",
   "metadata": {},
   "source": [
    "##### LabelEncoder & OrdinalEncoder\n",
    "\n",
    " \n",
    "\n",
    "LabelEncoder 和 OrdinalEncoder 都可以将字符转成数字，但是\n",
    "\n",
    " \n",
    "\n",
    "LabelEncoder  的输入是一维，比如 1d ndarray\n",
    "\n",
    "OrdinalEncoder  的输入是二维，比如 DataFrame\n",
    "\n",
    " \n",
    "\n",
    "首先给出要编码的列表 enc 和要解码的列表 dec。"
   ]
  },
  {
   "cell_type": "code",
   "execution_count": 325,
   "metadata": {
    "ExecuteTime": {
     "end_time": "2021-10-13T12:41:44.109657Z",
     "start_time": "2021-10-13T12:41:44.095695Z"
    }
   },
   "outputs": [],
   "source": [
    "enc = ['win','draw','lose','win']\n",
    "dec = ['draw','draw','win']"
   ]
  },
  {
   "cell_type": "markdown",
   "metadata": {},
   "source": [
    "从 sklearn 下的 preprocessing 中引入 LabelEncoder，再创建转换器起名 LE，不需要设置任何超参数。 "
   ]
  },
  {
   "cell_type": "code",
   "execution_count": 326,
   "metadata": {
    "ExecuteTime": {
     "end_time": "2021-10-13T12:41:44.125647Z",
     "start_time": "2021-10-13T12:41:44.110672Z"
    }
   },
   "outputs": [
    {
     "name": "stdout",
     "output_type": "stream",
     "text": [
      "LabelEncoder()\n",
      "['draw' 'lose' 'win']\n",
      "[0 0 2]\n"
     ]
    }
   ],
   "source": [
    "from sklearn.preprocessing import LabelEncoder\t\n",
    "LE = LabelEncoder()\n",
    " \n",
    "\n",
    "print( LE.fit(enc) )\n",
    "print( LE.classes_ )\n",
    "print( LE.transform(dec) )"
   ]
  },
  {
   "cell_type": "markdown",
   "metadata": {},
   "source": [
    "上面结果解释如下\n",
    "\n",
    " \n",
    "\n",
    "第 4 行转换器 fit 之后还是转换器，只不过从数据 enc 上学到了些东西\n",
    "\n",
    "第 5 行的 LE.classes_ 就是学到的东西之一，系统把 'draw', 'lose', 'win' 分别赋予 0, 1, 2\n",
    "\n",
    "第 6 行用学到的东西来解码 ['draw','draw','win'] 得到 [0 0 2]\n",
    "\n",
    " \n",
    "\n",
    " \n",
    "\n",
    "除了LabelEncoder 能编码，OrdinalEncoder 也可以。首先从 sklearn 下的 preprocessing 中引入 OrdinalEncoder，再创建转换器起名 OE，不需要设置任何超参数。 下面结果和上面类似，就不再多解释了。"
   ]
  },
  {
   "cell_type": "code",
   "execution_count": 327,
   "metadata": {
    "ExecuteTime": {
     "end_time": "2021-10-13T12:41:44.141572Z",
     "start_time": "2021-10-13T12:41:44.126648Z"
    }
   },
   "outputs": [
    {
     "name": "stdout",
     "output_type": "stream",
     "text": [
      "OrdinalEncoder()\n",
      "[array(['draw', 'lose', 'win'], dtype=object)]\n",
      "[[0.]\n",
      " [0.]\n",
      " [2.]]\n"
     ]
    }
   ],
   "source": [
    "from sklearn.preprocessing import OrdinalEncoder\n",
    "OE = OrdinalEncoder()\n",
    " \n",
    "\n",
    "enc_DF = pd.DataFrame(enc)\n",
    "dec_DF = pd.DataFrame(dec)\n",
    " \n",
    "\n",
    "print( OE.fit(enc_DF) )\n",
    "print( OE.categories_ )\n",
    "print( OE.transform(dec_DF) )"
   ]
  },
  {
   "cell_type": "markdown",
   "metadata": {},
   "source": [
    "上面这种编码的问题是，机器学习算法会认为两个临近的值比两个疏远的值要更相似。显然这样不对 (比如，0 和 1 比 0 和 2 距离更近，难道 draw 和 win 比 draw 和 lose更相似？)。\n",
    "\n",
    " \n",
    "\n",
    "要解决这个问题，一个常见的方法是给每个分类创建一个二元属性，即独热编码 (one-hot encoding)。如何用它看下段。"
   ]
  },
  {
   "cell_type": "markdown",
   "metadata": {},
   "source": [
    "##### OneHotEncoder\n",
    "\n",
    " \n",
    "\n",
    "独热编码其实就是把一个整数用向量的形式表现。下图就是对数字 0-9 做独热编码。"
   ]
  },
  {
   "cell_type": "code",
   "execution_count": 328,
   "metadata": {
    "ExecuteTime": {
     "end_time": "2021-10-13T12:41:44.157570Z",
     "start_time": "2021-10-13T12:41:44.143568Z"
    }
   },
   "outputs": [
    {
     "data": {
      "text/html": [
       "<img src=\"https://img-blog.csdnimg.cn/img_convert/cd53b3e17a3f125558512146c1f00183.png\"/>"
      ],
      "text/plain": [
       "<IPython.core.display.Image object>"
      ]
     },
     "execution_count": 328,
     "metadata": {},
     "output_type": "execute_result"
    }
   ],
   "source": [
    "Image(url='https://img-blog.csdnimg.cn/img_convert/cd53b3e17a3f125558512146c1f00183.png')"
   ]
  },
  {
   "cell_type": "markdown",
   "metadata": {},
   "source": [
    "转换器 OneHotEncoder 可以接受两种类型的输入：\n",
    "\n",
    " \n",
    "\n",
    "1、用 LabelEncoder 编码好的一维数组\n",
    "\n",
    "2、DataFrame "
   ]
  },
  {
   "cell_type": "markdown",
   "metadata": {},
   "source": [
    "一. 用 LabelEncoder 编码好的一维数组 (元素为整数)，重塑 (用 reshape(-1,1)) 成二维数组作为 OneHotEncoder 输入。"
   ]
  },
  {
   "cell_type": "code",
   "execution_count": 329,
   "metadata": {
    "ExecuteTime": {
     "end_time": "2021-10-13T12:41:44.173519Z",
     "start_time": "2021-10-13T12:41:44.158531Z"
    }
   },
   "outputs": [
    {
     "name": "stdout",
     "output_type": "stream",
     "text": [
      "[2 0 1 2]\n"
     ]
    },
    {
     "data": {
      "text/plain": [
       "<4x3 sparse matrix of type '<class 'numpy.float64'>'\n",
       "\twith 4 stored elements in Compressed Sparse Row format>"
      ]
     },
     "execution_count": 329,
     "metadata": {},
     "output_type": "execute_result"
    }
   ],
   "source": [
    "from sklearn.preprocessing import OneHotEncoder\n",
    "OHE = OneHotEncoder()\n",
    " \n",
    "\n",
    "num = LE.fit_transform( enc )\n",
    "print( num )\n",
    "OHE_y = OHE.fit_transform( num.reshape(-1,1) )\n",
    "OHE_y"
   ]
  },
  {
   "cell_type": "markdown",
   "metadata": {},
   "source": [
    "上面结果解释如下\n",
    "\n",
    " \n",
    "\n",
    "第 5 行打印出编码结果 [2 0 1 2]\n",
    "\n",
    "第 6 行将其转成独热形式，输出是一个「稀疏矩阵」形式，因为实操中通常类别很多，因此就一步到位用稀疏矩阵来节省内存\n",
    "\n",
    " \n",
    "\n",
    "想看该矩阵里具体内容，用 toarray() 函数。"
   ]
  },
  {
   "cell_type": "code",
   "execution_count": 330,
   "metadata": {
    "ExecuteTime": {
     "end_time": "2021-10-13T12:41:44.189444Z",
     "start_time": "2021-10-13T12:41:44.174484Z"
    }
   },
   "outputs": [
    {
     "data": {
      "text/plain": [
       "array([[0., 0., 1.],\n",
       "       [1., 0., 0.],\n",
       "       [0., 1., 0.],\n",
       "       [0., 0., 1.]])"
      ]
     },
     "execution_count": 330,
     "metadata": {},
     "output_type": "execute_result"
    }
   ],
   "source": [
    "OHE_y.toarray()"
   ]
  },
  {
   "cell_type": "markdown",
   "metadata": {},
   "source": [
    "二. 用 DataFrame作为 OneHotEncoder 输入。"
   ]
  },
  {
   "cell_type": "code",
   "execution_count": 331,
   "metadata": {
    "ExecuteTime": {
     "end_time": "2021-10-13T12:41:44.205401Z",
     "start_time": "2021-10-13T12:41:44.190441Z"
    }
   },
   "outputs": [
    {
     "data": {
      "text/plain": [
       "array([[0., 0., 1.],\n",
       "       [1., 0., 0.],\n",
       "       [0., 1., 0.],\n",
       "       [0., 0., 1.]])"
      ]
     },
     "execution_count": 331,
     "metadata": {},
     "output_type": "execute_result"
    }
   ],
   "source": [
    "OHE = OneHotEncoder()\n",
    "OHE.fit_transform( enc_DF ).toarray()"
   ]
  },
  {
   "cell_type": "markdown",
   "metadata": {},
   "source": [
    "##### 特征缩放\n",
    " \n",
    "数据要做的最重要的转换之一是特征缩放 (feature scaling)。当输入的数值的量刚不同时，机器学习算法的性能都不会好。\n",
    "\n",
    " \n",
    "\n",
    "具体来说，对于某个特征，我们有两种方法：\n",
    "\n",
    " \n",
    "\n",
    "标准化 (standardization)：每个维度的特征减去该特征均值，除以该维度的标准差。\n",
    "\n",
    " \n",
    "\n",
    "规范化 (normalization)：每个维度的特征减去该特征最小值，除以该特征的最大值与最小值之差。"
   ]
  },
  {
   "cell_type": "code",
   "execution_count": 332,
   "metadata": {
    "ExecuteTime": {
     "end_time": "2021-10-13T12:41:44.220590Z",
     "start_time": "2021-10-13T12:41:44.206398Z"
    }
   },
   "outputs": [
    {
     "data": {
      "text/html": [
       "<img src=\"https://img-blog.csdnimg.cn/img_convert/47106df74bef4cd2d43492149ea89e3f.png\"/>"
      ],
      "text/plain": [
       "<IPython.core.display.Image object>"
      ]
     },
     "execution_count": 332,
     "metadata": {},
     "output_type": "execute_result"
    }
   ],
   "source": [
    "Image(url='https://img-blog.csdnimg.cn/img_convert/47106df74bef4cd2d43492149ea89e3f.png')"
   ]
  },
  {
   "cell_type": "markdown",
   "metadata": {},
   "source": [
    "##### MinMaxScaler\n",
    "\n",
    " \n",
    "\n",
    "整套转换器「先创建再 fit 在 transform」的流程应该很清楚了。自己读下面代码看看是不是秒懂。唯一需要注意的就是输入 X 要求是两维。"
   ]
  },
  {
   "cell_type": "code",
   "execution_count": 333,
   "metadata": {
    "ExecuteTime": {
     "end_time": "2021-10-13T12:41:44.236548Z",
     "start_time": "2021-10-13T12:41:44.221588Z"
    }
   },
   "outputs": [
    {
     "data": {
      "text/plain": [
       "array([[0.   ],\n",
       "       [0.005],\n",
       "       [0.01 ],\n",
       "       [0.015],\n",
       "       [0.02 ],\n",
       "       [1.   ]])"
      ]
     },
     "execution_count": 333,
     "metadata": {},
     "output_type": "execute_result"
    }
   ],
   "source": [
    "from sklearn.preprocessing import MinMaxScaler\n",
    " \n",
    "\n",
    "X = np.array( [0, 0.5, 1, 1.5, 2, 100] )\n",
    " \n",
    "\n",
    "X_scale = MinMaxScaler().fit_transform( X.reshape(-1,1) )\n",
    "X_scale"
   ]
  },
  {
   "cell_type": "markdown",
   "metadata": {},
   "source": [
    "StandardScaler\n",
    "\n",
    " \n",
    "\n",
    "牢记转换器「先创建再 fit 在 transform」的流程就行了。"
   ]
  },
  {
   "cell_type": "code",
   "execution_count": 334,
   "metadata": {
    "ExecuteTime": {
     "end_time": "2021-10-13T12:41:44.251508Z",
     "start_time": "2021-10-13T12:41:44.237546Z"
    }
   },
   "outputs": [
    {
     "data": {
      "text/plain": [
       "array([[-0.47424487],\n",
       "       [-0.46069502],\n",
       "       [-0.44714517],\n",
       "       [-0.43359531],\n",
       "       [-0.42004546],\n",
       "       [ 2.23572584]])"
      ]
     },
     "execution_count": 334,
     "metadata": {},
     "output_type": "execute_result"
    }
   ],
   "source": [
    "from sklearn.preprocessing import StandardScaler\n",
    " \n",
    "\n",
    "X_scale = StandardScaler().fit_transform( X.reshape(-1,1) )\n",
    "X_scale"
   ]
  },
  {
   "cell_type": "markdown",
   "metadata": {},
   "source": [
    "警示： fit() 函数只能作用在训练集上，千万不要作用在测试集上，要不然你就犯了数据窥探的错误了！拿标准化举例，用训练集 fit 出来的均值和标准差参数，来对测试集做标准化。"
   ]
  },
  {
   "cell_type": "markdown",
   "metadata": {},
   "source": [
    "### 高级API"
   ]
  },
  {
   "cell_type": "markdown",
   "metadata": {},
   "source": [
    "Sklearn 里核心 API 接口是估计器，那高级 API 接口就是元估计器 (meta-estimator)，即由很多基估计器 (base estimator) 组合成的估计器。\n",
    "\n",
    " \n",
    "\n",
    " \n",
    "\n",
    "    meta_model( base_model )\n",
    "\n",
    " \n",
    "\n",
    "本节讨论五大元估计器，分别带集成功能的 ensemble，多分类和多标签的 multiclass，多输出的 multioutput，选择模型的 model_selection，和流水线的 pipeline。\n",
    "\n",
    " \n",
    "\n",
    "ensemble.BaggingClassifier\n",
    "\n",
    "ensemble.VotingClassifier\n",
    "\n",
    "multiclass.OneVsOneClassifier\n",
    "\n",
    "multiclass.OneVsRestClassifier\n",
    "\n",
    "multioutput.MultiOutputClassifier\n",
    "\n",
    "model_selection.GridSearchCV\n",
    "\n",
    "model_selection.RandomizedSearchCV\n",
    "\n",
    "pipeline.Pipeline\n",
    "\n",
    " \n",
    "\n",
    "在下面五节，我们会用的鸢尾花数据 iris 和数字数据 digits，还有一些自己创建的数据。"
   ]
  },
  {
   "cell_type": "markdown",
   "metadata": {},
   "source": [
    "#### Ensemble 估计器"
   ]
  },
  {
   "cell_type": "markdown",
   "metadata": {},
   "source": [
    "分类器统计每个子分类器的预测类别数，再用「多数投票」原则得到最终预测。\n",
    "\n",
    "回归器计算每个子回归器的预测平均值。\n",
    "\n",
    " \n",
    "\n",
    "最常用的 Ensemble 估计器排列如下：\n",
    "\n",
    " \n",
    "\n",
    "AdaBoostClassifier: 逐步提升分类器\n",
    "\n",
    "AdaBoostRegressor: 逐步提升回归器\n",
    "\n",
    "BaggingClassifier: 装袋分类器\n",
    "\n",
    "BaggingRegressor: 装袋回归器\n",
    "\n",
    "GradientBoostingClassifier: 梯度提升分类器\n",
    "\n",
    "GradientBoostingRegressor: 梯度提升回归器\n",
    "\n",
    "RandomForestClassifier: 随机森林分类器\n",
    "\n",
    "RandomForestRegressor: 随机森林回归器\n",
    "\n",
    "VotingClassifier: 投票分类器\n",
    "\n",
    "VotingRegressor: 投票回归器\n",
    "\n",
    " \n",
    "\n",
    "我们用鸢尾花数据 iris，拿\n",
    "\n",
    " \n",
    "\n",
    "含同质估计器 RandomForestClassifier \n",
    "\n",
    "含异质估计器 VotingClassifier \n",
    "\n",
    " \n",
    "\n",
    "来举例。首先将数据分成 80:20 的训练集和测试集，并引入 metrics 来计算各种性能指标。"
   ]
  },
  {
   "cell_type": "code",
   "execution_count": 335,
   "metadata": {
    "ExecuteTime": {
     "end_time": "2021-10-13T12:41:44.267465Z",
     "start_time": "2021-10-13T12:41:44.252506Z"
    }
   },
   "outputs": [],
   "source": [
    "from sklearn.datasets import load_iris\n",
    "iris = load_iris()"
   ]
  },
  {
   "cell_type": "code",
   "execution_count": 336,
   "metadata": {
    "ExecuteTime": {
     "end_time": "2021-10-13T12:41:44.283423Z",
     "start_time": "2021-10-13T12:41:44.268463Z"
    }
   },
   "outputs": [],
   "source": [
    "from sklearn.model_selection import train_test_split\t\n",
    "from sklearn import metrics\t\n",
    " \n",
    "\n",
    "X_train, X_test, y_train, y_test = train_test_split( iris['data'], \t\n",
    "                    iris['target'], \n",
    "                    test_size=0.2 )"
   ]
  },
  {
   "cell_type": "markdown",
   "metadata": {},
   "source": [
    "##### RandomForestClassifier\n",
    "RandomForestClassifier  通过控制 n_estimators 超参数来决定基估计器的个数，本例是 4 棵决策树 (森林由树组成)；此外每棵树的最大树深为 5 (max_depth=5)。"
   ]
  },
  {
   "cell_type": "code",
   "execution_count": 337,
   "metadata": {
    "ExecuteTime": {
     "end_time": "2021-10-13T12:41:44.299429Z",
     "start_time": "2021-10-13T12:41:44.284420Z"
    }
   },
   "outputs": [
    {
     "data": {
      "text/plain": [
       "RandomForestClassifier(max_depth=5, n_estimators=4)"
      ]
     },
     "execution_count": 337,
     "metadata": {},
     "output_type": "execute_result"
    }
   ],
   "source": [
    "from sklearn.ensemble import RandomForestClassifier\n",
    " \n",
    "RF = RandomForestClassifier( n_estimators=4, max_depth=5 )\n",
    "RF.fit( X_train, y_train )"
   ]
  },
  {
   "cell_type": "markdown",
   "metadata": {},
   "source": [
    "估计器有 fit()，元估计器当然也有 fit()。在估计器那一套又可以照搬到元估计器 (起名 RF) 上了。看看 RF 里包含的估计器个数和其本身。"
   ]
  },
  {
   "cell_type": "code",
   "execution_count": 338,
   "metadata": {
    "ExecuteTime": {
     "end_time": "2021-10-13T12:41:44.315377Z",
     "start_time": "2021-10-13T12:41:44.300411Z"
    }
   },
   "outputs": [
    {
     "name": "stdout",
     "output_type": "stream",
     "text": [
      "4\n"
     ]
    },
    {
     "data": {
      "text/plain": [
       "[DecisionTreeClassifier(max_depth=5, max_features='auto',\n",
       "                        random_state=2106075363),\n",
       " DecisionTreeClassifier(max_depth=5, max_features='auto',\n",
       "                        random_state=1874069445),\n",
       " DecisionTreeClassifier(max_depth=5, max_features='auto', random_state=19190725),\n",
       " DecisionTreeClassifier(max_depth=5, max_features='auto', random_state=609720065)]"
      ]
     },
     "execution_count": 338,
     "metadata": {},
     "output_type": "execute_result"
    }
   ],
   "source": [
    "print( RF.n_estimators )\n",
    "RF.estimators_"
   ]
  },
  {
   "cell_type": "markdown",
   "metadata": {},
   "source": [
    "拟合 RF 完再做预测，用 metrics  里面的 accuracy_score 来计算准确率。训练准确率 98.33%，测试准确率 100%。"
   ]
  },
  {
   "cell_type": "code",
   "execution_count": 339,
   "metadata": {
    "ExecuteTime": {
     "end_time": "2021-10-13T12:41:44.331295Z",
     "start_time": "2021-10-13T12:41:44.316336Z"
    }
   },
   "outputs": [
    {
     "name": "stdout",
     "output_type": "stream",
     "text": [
      "RF - Accuracy (Train):  0.9833\n",
      "RF - Accuracy (Test):  0.9667\n"
     ]
    }
   ],
   "source": [
    "print ( \"RF - Accuracy (Train):  %.4g\" %metrics.accuracy_score(y_train, RF.predict(X_train)) )\n",
    "print ( \"RF - Accuracy (Test):  %.4g\" %metrics.accuracy_score(y_test, RF.predict(X_test)) )"
   ]
  },
  {
   "cell_type": "markdown",
   "metadata": {},
   "source": [
    "##### VotingClassifier\n",
    "\n",
    " \n",
    "\n",
    "和随机森林由同质分类器「决策树」不同，投票分类器由若干个异质分类器组成。下例用 VotingClassifier 建立个含有对率回归 (LR)、随机森林 (RF) 和高斯朴素贝叶斯 (GNB) 三个分类器的集成模型。\n",
    "\n",
    " \n",
    "\n",
    "RandomForestClassifier  的基分类器只能是决策树，因此只用通过控制 n_estimators 超参数来决定树的个数，而 VotingClassifier 的基分类器要实实在在的输入其本身。"
   ]
  },
  {
   "cell_type": "code",
   "execution_count": 340,
   "metadata": {
    "ExecuteTime": {
     "end_time": "2021-10-13T12:41:44.379207Z",
     "start_time": "2021-10-13T12:41:44.332293Z"
    }
   },
   "outputs": [
    {
     "data": {
      "text/plain": [
       "VotingClassifier(estimators=[('lr',\n",
       "                              LogisticRegression(max_iter=1000,\n",
       "                                                 multi_class='multinomial')),\n",
       "                             ('rf', RandomForestClassifier(n_estimators=5)),\n",
       "                             ('gnb', GaussianNB())])"
      ]
     },
     "execution_count": 340,
     "metadata": {},
     "output_type": "execute_result"
    }
   ],
   "source": [
    "from sklearn.linear_model import LogisticRegression\n",
    "from sklearn.naive_bayes import GaussianNB\n",
    "from sklearn.ensemble import RandomForestClassifier\n",
    "from sklearn.ensemble import VotingClassifier\n",
    "\n",
    "LR=LogisticRegression(solver='lbfgs',multi_class='multinomial',max_iter=1000)\n",
    "RF=RandomForestClassifier(n_estimators=5)\n",
    "GNB=GaussianNB()\n",
    "\n",
    "Ensemble=VotingClassifier(estimators=[('lr',LR),('rf',RF),('gnb',GNB)],voting='hard')\n",
    "Ensemble.fit(X_train,y_train)"
   ]
  },
  {
   "cell_type": "markdown",
   "metadata": {},
   "source": [
    "看看 Ensemble 里包含的估计器个数和其本身。"
   ]
  },
  {
   "cell_type": "code",
   "execution_count": 341,
   "metadata": {
    "ExecuteTime": {
     "end_time": "2021-10-13T12:41:44.395155Z",
     "start_time": "2021-10-13T12:41:44.380164Z"
    }
   },
   "outputs": [
    {
     "name": "stdout",
     "output_type": "stream",
     "text": [
      "3\n"
     ]
    },
    {
     "data": {
      "text/plain": [
       "[LogisticRegression(max_iter=1000, multi_class='multinomial'),\n",
       " RandomForestClassifier(n_estimators=5),\n",
       " GaussianNB()]"
      ]
     },
     "execution_count": 341,
     "metadata": {},
     "output_type": "execute_result"
    }
   ],
   "source": [
    "print( len(Ensemble.estimators_) )\n",
    "Ensemble.estimators_"
   ]
  },
  {
   "cell_type": "markdown",
   "metadata": {},
   "source": [
    "比如元估计器和它三个组成元素的表现。还是集成后的 Ensemble 表现最好。"
   ]
  },
  {
   "cell_type": "code",
   "execution_count": 342,
   "metadata": {
    "ExecuteTime": {
     "end_time": "2021-10-13T12:41:44.442030Z",
     "start_time": "2021-10-13T12:41:44.396121Z"
    }
   },
   "outputs": [
    {
     "data": {
      "text/plain": [
       "GaussianNB()"
      ]
     },
     "execution_count": 342,
     "metadata": {},
     "output_type": "execute_result"
    }
   ],
   "source": [
    "LR.fit( X_train, y_train )\n",
    "RF.fit( X_train, y_train )\n",
    "GNB.fit( X_train, y_train )"
   ]
  },
  {
   "cell_type": "code",
   "execution_count": 343,
   "metadata": {
    "ExecuteTime": {
     "end_time": "2021-10-13T12:41:44.457956Z",
     "start_time": "2021-10-13T12:41:44.442996Z"
    }
   },
   "outputs": [
    {
     "name": "stdout",
     "output_type": "stream",
     "text": [
      "LR - Accuracy (Train):  0.9667\n",
      "RF - Accuracy (Train):  1\n",
      "GNB - Accuracy (Train):  0.9417\n",
      "Ensemble - Accuracy (Train):  0.9667\n",
      "\n",
      "\n",
      "LR - Accuracy (Test):  1\n",
      "RF - Accuracy (Test):  1\n",
      "GNB - Accuracy (Test):  1\n",
      "Ensemble - Accuracy (Test):  1\n"
     ]
    }
   ],
   "source": [
    "print ( \"LR - Accuracy (Train):  %.4g\" %metrics.accuracy_score(y_train, LR.predict(X_train)) )\n",
    "print ( \"RF - Accuracy (Train):  %.4g\" %metrics.accuracy_score(y_train, RF.predict(X_train)) )\n",
    "print ( \"GNB - Accuracy (Train):  %.4g\" %metrics.accuracy_score(y_train, GNB.predict(X_train)) )\n",
    "print ( \"Ensemble - Accuracy (Train):  %.4g\" %metrics.accuracy_score(y_train, Ensemble.predict(X_train)) )\n",
    "print('\\n')\n",
    "print ( \"LR - Accuracy (Test):  %.4g\" %metrics.accuracy_score(y_test, LR.predict(X_test)) )\n",
    "print ( \"RF - Accuracy (Test):  %.4g\" %metrics.accuracy_score(y_test, RF.predict(X_test)) )\n",
    "print ( \"GNB - Accuracy (Test):  %.4g\" %metrics.accuracy_score(y_test, GNB.predict(X_test)) )\n",
    "print ( \"Ensemble - Accuracy (Test):  %.4g\" %metrics.accuracy_score(y_test, Ensemble.predict(X_test)) )"
   ]
  },
  {
   "cell_type": "markdown",
   "metadata": {},
   "source": [
    "#### Multiclass 估计器"
   ]
  },
  {
   "cell_type": "markdown",
   "metadata": {},
   "source": [
    "sklearn.multiclass 可以处理多类别 (multi-class) 的多标签 (multi-label) 的分类问题。\n",
    "\n",
    " \n",
    "\n",
    "从小节 4.2 到 4.4，我们都会使用数字数据集 digits。首先将数据分成 80:20 的训练集和测试集。"
   ]
  },
  {
   "cell_type": "code",
   "execution_count": 344,
   "metadata": {
    "ExecuteTime": {
     "end_time": "2021-10-13T12:41:44.553742Z",
     "start_time": "2021-10-13T12:41:44.458953Z"
    }
   },
   "outputs": [
    {
     "data": {
      "text/plain": [
       "dict_keys(['data', 'target', 'frame', 'feature_names', 'target_names', 'images', 'DESCR'])"
      ]
     },
     "execution_count": 344,
     "metadata": {},
     "output_type": "execute_result"
    }
   ],
   "source": [
    "from sklearn.datasets import load_digits\n",
    " \n",
    "\n",
    "digits = load_digits()\n",
    "digits.keys()"
   ]
  },
  {
   "cell_type": "code",
   "execution_count": 345,
   "metadata": {
    "ExecuteTime": {
     "end_time": "2021-10-13T12:41:44.569697Z",
     "start_time": "2021-10-13T12:41:44.554697Z"
    }
   },
   "outputs": [
    {
     "name": "stdout",
     "output_type": "stream",
     "text": [
      "The size of X_train is  (1437, 64)\n",
      "The size of y_train is  (1437,)\n",
      "The size of X_test is  (360, 64)\n",
      "The size of y_test is  (360,)\n"
     ]
    }
   ],
   "source": [
    "X_train, X_test, y_train, y_test = train_test_split( digits['data'],\n",
    "                    digits['target'],\n",
    "                    test_size=0.2 )\n",
    " \n",
    "\n",
    "print( 'The size of X_train is ', X_train.shape )\n",
    "print( 'The size of y_train is ', y_train.shape )\n",
    "print( 'The size of X_test is ', X_test.shape )\n",
    "print( 'The size of y_test is ', y_test.shape )"
   ]
  },
  {
   "cell_type": "markdown",
   "metadata": {},
   "source": [
    "训练集和测试集分别有 1437 和 360 张图像。每张照片是包含 8×8 的像素，将其打平 (flatten) 把 2 维的 8×8 重塑成 1 维的 64。\n",
    "\n",
    " \n",
    "\n",
    "看看训练集中前 100 张图片和对应的标签 (左下角蓝色小字)。像素很低 (为了我们跑模型快些)，但基本上还是能看清。"
   ]
  },
  {
   "cell_type": "code",
   "execution_count": 346,
   "metadata": {
    "ExecuteTime": {
     "end_time": "2021-10-13T12:41:47.191854Z",
     "start_time": "2021-10-13T12:41:44.570655Z"
    }
   },
   "outputs": [
    {
     "data": {
      "image/png": "[encoded data removed]",
      "text/plain": [
       "<Figure size 576x576 with 100 Axes>"
      ]
     },
     "metadata": {},
     "output_type": "display_data"
    }
   ],
   "source": [
    "fig,axes=plt.subplots(10,10,figsize=(8,8))\n",
    "fig.subplots_adjust(hspace=0.1,wspace=0.1)\n",
    "\n",
    "for i,ax in enumerate(axes.flat):\n",
    "    ax.imshow(X_train[i,:].reshape(8,8),cmap='binary',interpolation='nearest')\n",
    "    ax.text(0.05,0.05,str(y_train[i]),\n",
    "            transform=ax.transAxes,color='blue')\n",
    "    ax.set_xticks([])\n",
    "    ax.set_yticks([])  "
   ]
  },
  {
   "cell_type": "markdown",
   "metadata": {},
   "source": [
    "多类别分类\n",
    " \n",
    "手写数字有 0-9 十类，但手头上只有两分类估计器 (比如像支撑向量机) 怎么用呢？我们可以采取下面三种常见策略：\n",
    "\n",
    " \n",
    "\n",
    "一对一 (One vs One, OvO)：一个分类器用来处理数字 0 和数字 1，一个用来处理数字 0 和数字 2，一个用来处理数字 1 和 2，以此类推。N 个类需要 N(N-1)/2 个分类器。\n",
    "\n",
    " \n",
    "\n",
    "一对其他 (One vs All, OvA)：训练 10 个二分类器，每一个对应一个数字，第一个分类 1 和「非1」，第二个分类 2 和「非2」，以此类推。N 个类需要 N 个分类器。"
   ]
  },
  {
   "cell_type": "markdown",
   "metadata": {},
   "source": [
    "##### OneVsOneClassifier\n",
    "\n",
    " \n",
    "\n",
    "考虑一个具体天气多分类问题，天气可以是晴天、阴天和雨天，在 OvO 中，三个分类器为 f1 , f2 和 f3 。\n",
    "\n",
    " \n",
    "\n",
    "f1 负责分类三角形和正方形\n",
    "\n",
    "f2 负责分类三角形和圆形\n",
    "\n",
    "f3 负责分类圆形和正方形\n",
    "\n",
    " \n",
    "\n",
    "结果如下\n",
    "\n",
    " \n",
    "\n",
    "f1 预测 ▲\n",
    "\n",
    "f2 预测 ▲ \n",
    "\n",
    "f3 预测 ●\n",
    "\n",
    " \n",
    "\n",
    "根据多数原则得到的结合预测为 ●，如下图所示。"
   ]
  },
  {
   "cell_type": "code",
   "execution_count": 347,
   "metadata": {
    "ExecuteTime": {
     "end_time": "2021-10-13T12:41:47.207772Z",
     "start_time": "2021-10-13T12:41:47.192812Z"
    }
   },
   "outputs": [
    {
     "data": {
      "text/html": [
       "<img src=\"https://img-blog.csdnimg.cn/img_convert/027f29d41fbc97a9a8fd381bfb9f7fec.png\"/>"
      ],
      "text/plain": [
       "<IPython.core.display.Image object>"
      ]
     },
     "execution_count": 347,
     "metadata": {},
     "output_type": "execute_result"
    }
   ],
   "source": [
    "Image(url='https://img-blog.csdnimg.cn/img_convert/027f29d41fbc97a9a8fd381bfb9f7fec.png')"
   ]
  },
  {
   "cell_type": "markdown",
   "metadata": {},
   "source": [
    "回到数字分类问题上，代码如下："
   ]
  },
  {
   "cell_type": "code",
   "execution_count": 348,
   "metadata": {
    "ExecuteTime": {
     "end_time": "2021-10-13T12:41:48.190114Z",
     "start_time": "2021-10-13T12:41:47.208785Z"
    }
   },
   "outputs": [
    {
     "data": {
      "text/plain": [
       "OneVsOneClassifier(estimator=LogisticRegression(max_iter=200))"
      ]
     },
     "execution_count": 348,
     "metadata": {},
     "output_type": "execute_result"
    }
   ],
   "source": [
    "from sklearn.multiclass import OneVsOneClassifier\n",
    "from sklearn.linear_model import LogisticRegression\n",
    "\n",
    "ovo_lr=OneVsOneClassifier(LogisticRegression(solver='lbfgs',max_iter=200))\n",
    "ovo_lr.fit(X_train,y_train)"
   ]
  },
  {
   "cell_type": "markdown",
   "metadata": {},
   "source": [
    "10 类 45 个 OvO 分类器，没错，10*9/2 = 45。"
   ]
  },
  {
   "cell_type": "code",
   "execution_count": 349,
   "metadata": {
    "ExecuteTime": {
     "end_time": "2021-10-13T12:41:48.206073Z",
     "start_time": "2021-10-13T12:41:48.191112Z"
    }
   },
   "outputs": [
    {
     "name": "stdout",
     "output_type": "stream",
     "text": [
      "45\n"
     ]
    },
    {
     "data": {
      "text/plain": [
       "(LogisticRegression(max_iter=200),\n",
       " LogisticRegression(max_iter=200),\n",
       " LogisticRegression(max_iter=200),\n",
       " LogisticRegression(max_iter=200),\n",
       " LogisticRegression(max_iter=200),\n",
       " LogisticRegression(max_iter=200),\n",
       " LogisticRegression(max_iter=200),\n",
       " LogisticRegression(max_iter=200),\n",
       " LogisticRegression(max_iter=200),\n",
       " LogisticRegression(max_iter=200),\n",
       " LogisticRegression(max_iter=200),\n",
       " LogisticRegression(max_iter=200),\n",
       " LogisticRegression(max_iter=200),\n",
       " LogisticRegression(max_iter=200),\n",
       " LogisticRegression(max_iter=200),\n",
       " LogisticRegression(max_iter=200),\n",
       " LogisticRegression(max_iter=200),\n",
       " LogisticRegression(max_iter=200),\n",
       " LogisticRegression(max_iter=200),\n",
       " LogisticRegression(max_iter=200),\n",
       " LogisticRegression(max_iter=200),\n",
       " LogisticRegression(max_iter=200),\n",
       " LogisticRegression(max_iter=200),\n",
       " LogisticRegression(max_iter=200),\n",
       " LogisticRegression(max_iter=200),\n",
       " LogisticRegression(max_iter=200),\n",
       " LogisticRegression(max_iter=200),\n",
       " LogisticRegression(max_iter=200),\n",
       " LogisticRegression(max_iter=200),\n",
       " LogisticRegression(max_iter=200),\n",
       " LogisticRegression(max_iter=200),\n",
       " LogisticRegression(max_iter=200),\n",
       " LogisticRegression(max_iter=200),\n",
       " LogisticRegression(max_iter=200),\n",
       " LogisticRegression(max_iter=200),\n",
       " LogisticRegression(max_iter=200),\n",
       " LogisticRegression(max_iter=200),\n",
       " LogisticRegression(max_iter=200),\n",
       " LogisticRegression(max_iter=200),\n",
       " LogisticRegression(max_iter=200),\n",
       " LogisticRegression(max_iter=200),\n",
       " LogisticRegression(max_iter=200),\n",
       " LogisticRegression(max_iter=200),\n",
       " LogisticRegression(max_iter=200),\n",
       " LogisticRegression(max_iter=200))"
      ]
     },
     "execution_count": 349,
     "metadata": {},
     "output_type": "execute_result"
    }
   ],
   "source": [
    "print( len(ovo_lr.estimators_) )\n",
    "ovo_lr.estimators_"
   ]
  },
  {
   "cell_type": "markdown",
   "metadata": {},
   "source": [
    "训练集分类全对，测试集准确率 98%。"
   ]
  },
  {
   "cell_type": "code",
   "execution_count": 350,
   "metadata": {
    "ExecuteTime": {
     "end_time": "2021-10-13T12:41:48.253945Z",
     "start_time": "2021-10-13T12:41:48.207070Z"
    }
   },
   "outputs": [
    {
     "name": "stdout",
     "output_type": "stream",
     "text": [
      "OvO LR - Accuracy (Train):  1\n",
      "OvO LR - Accuracy (Test):  0.9806\n"
     ]
    }
   ],
   "source": [
    "print ( \"OvO LR - Accuracy (Train):  %.4g\" %metrics.accuracy_score(y_train, ovo_lr.predict(X_train)) )\n",
    "print ( \"OvO LR - Accuracy (Test):  %.4g\" %metrics.accuracy_score(y_test, ovo_lr.predict(X_test)) )"
   ]
  },
  {
   "cell_type": "markdown",
   "metadata": {},
   "source": [
    "##### OneVsRestClassifier\n",
    "\n",
    " \n",
    "\n",
    "在 OvA 中，把数据分成“某个”和“其他”\n",
    "\n",
    " \n",
    "\n",
    "图一，某个 = 三角形，其他 = 正方形和圆形\n",
    "\n",
    "图二，某个 = 正方形，其他 = 三角形和圆形\n",
    "\n",
    "图三，某个 = 圆形，其他 = 三角形和正方形\n",
    "\n",
    " \n",
    "\n",
    "三分类分解成三个二分类，对应的分类器为 f1 , f2 和 f3 。\n",
    "\n",
    " \n",
    "\n",
    "f1 预测负类，即预测 ● 和 ◼\n",
    "\n",
    "f2 预测负类，即预测 ▲ 和 ●\n",
    "\n",
    "f3 预测正类，即预测 ●\n",
    "\n",
    " \n",
    "\n",
    "三个分类器都预测了 ●，根据多数原则得到的预测是 ●。"
   ]
  },
  {
   "cell_type": "code",
   "execution_count": 351,
   "metadata": {
    "ExecuteTime": {
     "end_time": "2021-10-13T12:41:48.269901Z",
     "start_time": "2021-10-13T12:41:48.254942Z"
    }
   },
   "outputs": [
    {
     "data": {
      "text/html": [
       "<img src=\"https://img-blog.csdnimg.cn/img_convert/48ced3261bbd1e2cf0f6486579a37ca3.png\"/>"
      ],
      "text/plain": [
       "<IPython.core.display.Image object>"
      ]
     },
     "execution_count": 351,
     "metadata": {},
     "output_type": "execute_result"
    }
   ],
   "source": [
    "Image(url='https://img-blog.csdnimg.cn/img_convert/48ced3261bbd1e2cf0f6486579a37ca3.png')"
   ]
  },
  {
   "cell_type": "markdown",
   "metadata": {},
   "source": [
    "回到数字分类问题上，代码如下："
   ]
  },
  {
   "cell_type": "code",
   "execution_count": 352,
   "metadata": {
    "ExecuteTime": {
     "end_time": "2021-10-13T12:41:49.425298Z",
     "start_time": "2021-10-13T12:41:48.271897Z"
    }
   },
   "outputs": [
    {
     "data": {
      "text/plain": [
       "OneVsRestClassifier(estimator=LogisticRegression(max_iter=1000))"
      ]
     },
     "execution_count": 352,
     "metadata": {},
     "output_type": "execute_result"
    }
   ],
   "source": [
    "from sklearn.multiclass import OneVsRestClassifier\n",
    "\n",
    "ova_lr=OneVsRestClassifier(LogisticRegression(solver='lbfgs',max_iter=1000))\n",
    "ova_lr.fit(X_train,y_train)"
   ]
  },
  {
   "cell_type": "markdown",
   "metadata": {},
   "source": [
    "10 类 45 个 OvA 分类器，没错。"
   ]
  },
  {
   "cell_type": "code",
   "execution_count": 353,
   "metadata": {
    "ExecuteTime": {
     "end_time": "2021-10-13T12:41:49.441226Z",
     "start_time": "2021-10-13T12:41:49.427262Z"
    }
   },
   "outputs": [
    {
     "name": "stdout",
     "output_type": "stream",
     "text": [
      "10\n"
     ]
    },
    {
     "data": {
      "text/plain": [
       "[LogisticRegression(max_iter=1000),\n",
       " LogisticRegression(max_iter=1000),\n",
       " LogisticRegression(max_iter=1000),\n",
       " LogisticRegression(max_iter=1000),\n",
       " LogisticRegression(max_iter=1000),\n",
       " LogisticRegression(max_iter=1000),\n",
       " LogisticRegression(max_iter=1000),\n",
       " LogisticRegression(max_iter=1000),\n",
       " LogisticRegression(max_iter=1000),\n",
       " LogisticRegression(max_iter=1000)]"
      ]
     },
     "execution_count": 353,
     "metadata": {},
     "output_type": "execute_result"
    }
   ],
   "source": [
    "print( len(ova_lr.estimators_) )\n",
    "ova_lr.estimators_"
   ]
  },
  {
   "cell_type": "markdown",
   "metadata": {},
   "source": [
    "训练集准确率几乎 100%，测试集准确率 96%。"
   ]
  },
  {
   "cell_type": "code",
   "execution_count": 354,
   "metadata": {
    "ExecuteTime": {
     "end_time": "2021-10-13T12:41:49.456184Z",
     "start_time": "2021-10-13T12:41:49.442221Z"
    }
   },
   "outputs": [
    {
     "name": "stdout",
     "output_type": "stream",
     "text": [
      "OvA LR - Accuracy (Train):  0.9979\n",
      "OvA LR - Accuracy (Test):  0.9583\n"
     ]
    }
   ],
   "source": [
    "print ( \"OvA LR - Accuracy (Train):  %.4g\" %metrics.accuracy_score(y_train, ova_lr.predict(X_train)) )\n",
    "print ( \"OvA LR - Accuracy (Test):  %.4g\" %metrics.accuracy_score(y_test, ova_lr.predict(X_test)) )"
   ]
  },
  {
   "cell_type": "markdown",
   "metadata": {},
   "source": [
    "多标签分类\n",
    " \n",
    "到目前为止，所有的样例都总是被分配到仅一个类。有些情况下，你也许想让分类器给一个样例输出多个类别。在无人驾驶的应用中，在下图识别出有车和指示牌，没有交通灯和人。"
   ]
  },
  {
   "cell_type": "code",
   "execution_count": 355,
   "metadata": {
    "ExecuteTime": {
     "end_time": "2021-10-13T12:41:49.471144Z",
     "start_time": "2021-10-13T12:41:49.457182Z"
    }
   },
   "outputs": [
    {
     "data": {
      "text/html": [
       "<img src=\"https://img-blog.csdnimg.cn/img_convert/2db11455293bb57507d82cfef8b025c1.png\"/>"
      ],
      "text/plain": [
       "<IPython.core.display.Image object>"
      ]
     },
     "execution_count": 355,
     "metadata": {},
     "output_type": "execute_result"
    }
   ],
   "source": [
    "Image(url='https://img-blog.csdnimg.cn/img_convert/2db11455293bb57507d82cfef8b025c1.png')"
   ]
  },
  {
   "cell_type": "markdown",
   "metadata": {},
   "source": [
    "我们不打算深入物体识别。先看一个简单点的例子，仅仅是为了阐明「多标签分类」的原理。在手写数字的例子上，我们特意为每个数字设计了多标签：\n",
    "\n",
    " \n",
    "\n",
    "标签 1 - 奇数、偶数\n",
    "\n",
    "标签 2 - 小于等于 4，大于 4\n",
    "\n",
    " \n",
    "\n",
    "再建立多标签 y_train_multilabel，代码如下 (OneVsRestClassifier 也可以用来做多标签分类)："
   ]
  },
  {
   "cell_type": "code",
   "execution_count": 356,
   "metadata": {
    "ExecuteTime": {
     "end_time": "2021-10-13T12:41:49.487102Z",
     "start_time": "2021-10-13T12:41:49.472142Z"
    }
   },
   "outputs": [
    {
     "name": "stdout",
     "output_type": "stream",
     "text": [
      "[[False  True]\n",
      " [False False]\n",
      " [ True False]\n",
      " ...\n",
      " [False False]\n",
      " [False  True]\n",
      " [ True  True]]\n"
     ]
    }
   ],
   "source": [
    "from sklearn.multiclass import OneVsRestClassifier\n",
    " \n",
    "y_train_multilabel = np.c_[ y_train%2==0, y_train<=4 ]\n",
    "print(y_train_multilabel)"
   ]
  },
  {
   "cell_type": "markdown",
   "metadata": {},
   "source": [
    "看下图训练集第 2 和 3 个图片是数字 4 和 5，对应上面两标签当然是\n",
    "\n",
    " \n",
    "\n",
    "[True True]：4 是偶数，小于等于 4\n",
    "\n",
    "[False False]：5 不是偶数，大于 4"
   ]
  },
  {
   "cell_type": "code",
   "execution_count": 357,
   "metadata": {
    "ExecuteTime": {
     "end_time": "2021-10-13T12:41:49.502061Z",
     "start_time": "2021-10-13T12:41:49.489099Z"
    }
   },
   "outputs": [
    {
     "data": {
      "image/png": "[encoded data removed]",
      "text/plain": [
       "<IPython.core.display.Image object>"
      ]
     },
     "execution_count": 357,
     "metadata": {},
     "output_type": "execute_result"
    }
   ],
   "source": [
    "Image(filename='dit100.png')"
   ]
  },
  {
   "cell_type": "markdown",
   "metadata": {},
   "source": [
    "训练模型，只不过这时用的是 y_train_multilabel。"
   ]
  },
  {
   "cell_type": "code",
   "execution_count": 358,
   "metadata": {
    "ExecuteTime": {
     "end_time": "2021-10-13T12:41:49.865220Z",
     "start_time": "2021-10-13T12:41:49.503060Z"
    }
   },
   "outputs": [
    {
     "data": {
      "text/plain": [
       "OneVsRestClassifier(estimator=LogisticRegression(max_iter=800))"
      ]
     },
     "execution_count": 358,
     "metadata": {},
     "output_type": "execute_result"
    }
   ],
   "source": [
    "ova_ml=OneVsRestClassifier(LogisticRegression(solver='lbfgs',max_iter=800))\n",
    "ova_ml.fit(X_train,y_train_multilabel)"
   ]
  },
  {
   "cell_type": "markdown",
   "metadata": {},
   "source": [
    "有两个估计器，每个对应一个标签。"
   ]
  },
  {
   "cell_type": "code",
   "execution_count": 359,
   "metadata": {
    "ExecuteTime": {
     "end_time": "2021-10-13T12:41:49.880180Z",
     "start_time": "2021-10-13T12:41:49.866218Z"
    }
   },
   "outputs": [
    {
     "name": "stdout",
     "output_type": "stream",
     "text": [
      "2\n"
     ]
    },
    {
     "data": {
      "text/plain": [
       "[LogisticRegression(max_iter=800), LogisticRegression(max_iter=800)]"
      ]
     },
     "execution_count": 359,
     "metadata": {},
     "output_type": "execute_result"
    }
   ],
   "source": [
    "print( len(ova_ml.estimators_) )\n",
    "ova_ml.estimators_"
   ]
  },
  {
   "cell_type": "markdown",
   "metadata": {},
   "source": [
    "展示一下测试集上 100 张图片。"
   ]
  },
  {
   "cell_type": "code",
   "execution_count": 360,
   "metadata": {
    "ExecuteTime": {
     "end_time": "2021-10-13T12:41:49.896138Z",
     "start_time": "2021-10-13T12:41:49.882175Z"
    }
   },
   "outputs": [
    {
     "data": {
      "image/png": "[encoded data removed]",
      "text/plain": [
       "<IPython.core.display.Image object>"
      ]
     },
     "execution_count": 360,
     "metadata": {},
     "output_type": "execute_result"
    }
   ],
   "source": [
    "Image(filename='dit100.png')"
   ]
  },
  {
   "cell_type": "code",
   "execution_count": 361,
   "metadata": {
    "ExecuteTime": {
     "end_time": "2021-10-13T12:41:49.911098Z",
     "start_time": "2021-10-13T12:41:49.897135Z"
    }
   },
   "outputs": [
    {
     "name": "stdout",
     "output_type": "stream",
     "text": [
      "[3]\n",
      "[[0 0]]\n"
     ]
    }
   ],
   "source": [
    "print( y_test[:1] )\n",
    "print( ova_ml.predict(X_test[:1]) )"
   ]
  },
  {
   "cell_type": "markdown",
   "metadata": {},
   "source": [
    "#### Multioutput 估计器"
   ]
  },
  {
   "cell_type": "markdown",
   "metadata": {},
   "source": [
    "sklearn.multioutput 可以处理多输出 (multi-output) 的分类问题。\n",
    "\n",
    " \n",
    "\n",
    "多输出分类是多标签分类的泛化，在这里每一个标签可以是多类别 (大于两个类别) 的。一个例子就是预测图片每一个像素(标签) 的像素值是多少 (从 0 到 255 的 256 个类别)。"
   ]
  },
  {
   "cell_type": "code",
   "execution_count": 362,
   "metadata": {
    "ExecuteTime": {
     "end_time": "2021-10-13T12:41:49.927054Z",
     "start_time": "2021-10-13T12:41:49.913093Z"
    }
   },
   "outputs": [
    {
     "data": {
      "text/html": [
       "<img src=\"https://img-blog.csdnimg.cn/img_convert/cafcecdac8c300151025ca6c239aff14.png\"/>"
      ],
      "text/plain": [
       "<IPython.core.display.Image object>"
      ]
     },
     "execution_count": 362,
     "metadata": {},
     "output_type": "execute_result"
    }
   ],
   "source": [
    "Image(url='https://img-blog.csdnimg.cn/img_convert/cafcecdac8c300151025ca6c239aff14.png')"
   ]
  },
  {
   "cell_type": "markdown",
   "metadata": {},
   "source": [
    "Multioutput 估计器有两个：\n",
    "\n",
    " \n",
    "\n",
    "MultiOutputRegressor: 多输出回归   \n",
    "\n",
    "MultiOutputClassifier: 多输出分类\n",
    "\n",
    " \n",
    "\n",
    "本节只关注多输出分类。"
   ]
  },
  {
   "cell_type": "markdown",
   "metadata": {},
   "source": [
    "##### MultiOutputClassifier\n",
    "\n",
    " \n",
    "\n",
    "首先引入 MultiOutputClassifier 和 RandomForestClassifier。你看，这两个都是元估计器，因此在 Sklearn 里面估计器可以随意组合。"
   ]
  },
  {
   "cell_type": "code",
   "execution_count": 363,
   "metadata": {
    "ExecuteTime": {
     "end_time": "2021-10-13T12:41:49.942014Z",
     "start_time": "2021-10-13T12:41:49.928053Z"
    }
   },
   "outputs": [],
   "source": [
    "from sklearn.multioutput import MultiOutputClassifier\n",
    "from sklearn.ensemble import RandomForestClassifier"
   ]
  },
  {
   "cell_type": "markdown",
   "metadata": {},
   "source": [
    "在手写数字的例子上，我们也为特意每个数字设计了多标签而且每个标签的类别都大于二。\n",
    "\n",
    " \n",
    "\n",
    "标签 1 - 小于等于 4，4 和 7 之间，大于等于 7 (三类)\n",
    "\n",
    "标签 2 - 数字本身 (十类)\n",
    "\n",
    " \n",
    "\n",
    "代码如下："
   ]
  },
  {
   "cell_type": "code",
   "execution_count": 364,
   "metadata": {
    "ExecuteTime": {
     "end_time": "2021-10-13T12:41:49.957972Z",
     "start_time": "2021-10-13T12:41:49.943012Z"
    }
   },
   "outputs": [
    {
     "data": {
      "text/plain": [
       "array([[0, 1],\n",
       "       [2, 7],\n",
       "       [1, 6],\n",
       "       ...,\n",
       "       [2, 9],\n",
       "       [0, 3],\n",
       "       [0, 4]])"
      ]
     },
     "execution_count": 364,
     "metadata": {},
     "output_type": "execute_result"
    }
   ],
   "source": [
    "y_train_1st=y_train.copy()\n",
    "y_train_1st[y_train<=4]=0\n",
    "y_train_1st[np.logical_and(y_train>4,y_train<7)]=1\n",
    "y_train_1st[y_train>=7]=2\n",
    "\n",
    "y_train_multioutput=np.c_[y_train_1st,y_train]\n",
    "y_train_multioutput"
   ]
  },
  {
   "cell_type": "markdown",
   "metadata": {},
   "source": [
    "用含有 100 棵决策树的随机森林来解决这个多输入分类问题。"
   ]
  },
  {
   "cell_type": "code",
   "execution_count": 365,
   "metadata": {
    "ExecuteTime": {
     "end_time": "2021-10-13T12:41:50.465655Z",
     "start_time": "2021-10-13T12:41:49.958969Z"
    }
   },
   "outputs": [
    {
     "data": {
      "text/plain": [
       "MultiOutputClassifier(estimator=RandomForestClassifier())"
      ]
     },
     "execution_count": 365,
     "metadata": {},
     "output_type": "execute_result"
    }
   ],
   "source": [
    "MO=MultiOutputClassifier(RandomForestClassifier(n_estimators=100))\n",
    "MO.fit(X_train,y_train_multioutput)"
   ]
  },
  {
   "cell_type": "markdown",
   "metadata": {},
   "source": [
    "看看这个模型在测试集前五张照片上的预测。"
   ]
  },
  {
   "cell_type": "code",
   "execution_count": 366,
   "metadata": {
    "ExecuteTime": {
     "end_time": "2021-10-13T12:41:50.497529Z",
     "start_time": "2021-10-13T12:41:50.466611Z"
    }
   },
   "outputs": [
    {
     "data": {
      "text/plain": [
       "array([[0, 3],\n",
       "       [2, 8],\n",
       "       [2, 8],\n",
       "       [1, 6],\n",
       "       [2, 9]])"
      ]
     },
     "execution_count": 366,
     "metadata": {},
     "output_type": "execute_result"
    }
   ],
   "source": [
    "MO.predict( X_test[:5] )"
   ]
  },
  {
   "cell_type": "markdown",
   "metadata": {},
   "source": [
    "#### Model Selection 估计器"
   ]
  },
  {
   "cell_type": "markdown",
   "metadata": {},
   "source": [
    "模型选择 (Model Selction) 在机器学习非常重要，它主要用于评估模型表现，常见的 Model Selection 估计器有以下几个：\n",
    "\n",
    " \n",
    "\n",
    "cross_validate: 评估交叉验证的表现。\n",
    "\n",
    "learning_curve: 建立学习曲线。   \n",
    "\n",
    "GridSearchCV: 用交叉验证从网格中一组超参数搜索出最佳超参数。\n",
    "\n",
    "RandomizedSearchCV: 用交叉验证从一组随机超参数搜索出最佳超参数。\n",
    "\n",
    " \n",
    "\n",
    "本小节关注调节超参数的两个估计器，即上面列出的最后两个。它们都要用到交叉验证，先来了解一下这个知识点。\n",
    "\n",
    " \n",
    "\n",
    " \n",
    " \n",
    " \n",
    "##### 交叉验证\n",
    " \n",
    "K-折交叉验证集 (K-fold cross validation set)，就是把整个数据集平均但随机分成 K 份，每份大概包含 m/K 个数据 (m 是总数据数)。\n",
    " \n",
    "在这 K 份，每次选 1 份作为训练集在拟合参数 wλ，把参数用在剩下 K-1 份验证集上计算误差。由于遍历了这 K 份数据，因此该操作称为交叉验证。\n",
    " \n",
    "如何通过选择交叉验证误差来选择模型描述如下。"
   ]
  },
  {
   "cell_type": "code",
   "execution_count": 367,
   "metadata": {
    "ExecuteTime": {
     "end_time": "2021-10-13T12:41:50.513486Z",
     "start_time": "2021-10-13T12:41:50.498534Z"
    }
   },
   "outputs": [
    {
     "data": {
      "text/html": [
       "<img src=\"https://img-blog.csdnimg.cn/img_convert/6bf818c11ea2aee696bad03e7c67502c.png\"/>"
      ],
      "text/plain": [
       "<IPython.core.display.Image object>"
      ]
     },
     "execution_count": 367,
     "metadata": {},
     "output_type": "execute_result"
    }
   ],
   "source": [
    "Image(url='https://img-blog.csdnimg.cn/img_convert/6bf818c11ea2aee696bad03e7c67502c.png')"
   ]
  },
  {
   "cell_type": "markdown",
   "metadata": {},
   "source": [
    "接下来我们来看这两个调参的估计器，网格追踪和随机追踪。"
   ]
  },
  {
   "cell_type": "code",
   "execution_count": 368,
   "metadata": {
    "ExecuteTime": {
     "end_time": "2021-10-13T12:41:50.529443Z",
     "start_time": "2021-10-13T12:41:50.514484Z"
    }
   },
   "outputs": [
    {
     "data": {
      "text/html": [
       "<img src=\"https://img-blog.csdnimg.cn/img_convert/5cc3e54babdd849fe44ae7d1a0b32dda.png\"/>"
      ],
      "text/plain": [
       "<IPython.core.display.Image object>"
      ]
     },
     "execution_count": 368,
     "metadata": {},
     "output_type": "execute_result"
    }
   ],
   "source": [
    "Image(url='https://img-blog.csdnimg.cn/img_convert/5cc3e54babdd849fe44ae7d1a0b32dda.png')"
   ]
  },
  {
   "cell_type": "markdown",
   "metadata": {},
   "source": [
    "网格追踪：参数 1 在 [1, 10, 100, 1000] 中取值，参数 2 在 [0.01, 0.1, 1 10] 中取值，注意并不是等间距取值。模型在所有 16 个组合跑，选取一对对应最小交叉验证误差的参数。\n",
    "\n",
    " \n",
    "\n",
    "随机追踪：根据指定分布随机搜索，可以选择独立于参数个数，比如 log(参数 1) 服从 0 到 3 的均匀分布， log(参数 2) 服从 -2 到 1 的均匀分布。此外，会设定一个预算参数。\n",
    "\n",
    " \n",
    "\n",
    "原理讲清楚了，看代码吧。"
   ]
  },
  {
   "cell_type": "code",
   "execution_count": 369,
   "metadata": {
    "ExecuteTime": {
     "end_time": "2021-10-13T12:41:50.545402Z",
     "start_time": "2021-10-13T12:41:50.530441Z"
    }
   },
   "outputs": [
    {
     "data": {
      "text/html": [
       "<img src=\"https://img-blog.csdnimg.cn/img_convert/d6647fe6db575279b366d23327c9cdb8.png\"/>"
      ],
      "text/plain": [
       "<IPython.core.display.Image object>"
      ]
     },
     "execution_count": 369,
     "metadata": {},
     "output_type": "execute_result"
    }
   ],
   "source": [
    "Image(url='https://img-blog.csdnimg.cn/img_convert/d6647fe6db575279b366d23327c9cdb8.png')"
   ]
  },
  {
   "cell_type": "code",
   "execution_count": 370,
   "metadata": {
    "ExecuteTime": {
     "end_time": "2021-10-13T12:41:50.561358Z",
     "start_time": "2021-10-13T12:41:50.546432Z"
    }
   },
   "outputs": [
    {
     "data": {
      "text/html": [
       "<img src=\"https://img-blog.csdnimg.cn/img_convert/5dcdcc07c9b439a58bf29dfcdcafe609.png\"/>"
      ],
      "text/plain": [
       "<IPython.core.display.Image object>"
      ]
     },
     "execution_count": 370,
     "metadata": {},
     "output_type": "execute_result"
    }
   ],
   "source": [
    "Image(url='https://img-blog.csdnimg.cn/img_convert/5dcdcc07c9b439a58bf29dfcdcafe609.png')"
   ]
  },
  {
   "cell_type": "markdown",
   "metadata": {},
   "source": [
    "解释一下代码：\n",
    "\n",
    " \n",
    "\n",
    "前 10 行就是引入各种包，并准备好 X 和 y，创建一个含 20 个决策树的随机森林模型，那么它有超参数最大树深、最多特征数、最小可分裂样本数、和分裂标准。\n",
    "\n",
    " \n",
    "\n",
    "第 12-27 行是运行随机追踪，关键点是建立了一个参数分布 (param_dist)，而且还预先设定了个迭代组数 n_iter_search=20。\n",
    "\n",
    " \n",
    "\n",
    "第 22-42 行是运行网格追踪，关键点是建立了一个参数网格 (param_grid)。\n",
    "\n",
    " \n",
    "\n",
    "解释一下运行结果：\n",
    "\n",
    " \n",
    "\n",
    "第一行输出每种追踪法运行的多少次和花的时间。\n",
    "\n",
    "第二行输出最佳超参数的组合。\n",
    "\n",
    "第三行输出最高得分。\n",
    "\n",
    " \n",
    "\n",
    "由上面结果可知，随机追踪比网格追踪用更短时间内找到一组超参数，获得了更高的得分。"
   ]
  },
  {
   "cell_type": "markdown",
   "metadata": {},
   "source": [
    "#### Pipeline 估计器"
   ]
  },
  {
   "cell_type": "markdown",
   "metadata": {},
   "source": [
    "Pipeline 估计器又叫流水线，把各种估计器串联 (Pipeline) 或并联 (FeatureUnion) 的方式组成一条龙服务。用好了它真的能大大提高效率。"
   ]
  },
  {
   "cell_type": "markdown",
   "metadata": {},
   "source": [
    "##### Pipeline\n",
    "\n",
    " \n",
    "\n",
    "Pipeline 将若干个估计器按顺序连在一起，比如\n",
    "\n",
    " \n",
    "\n",
    "    特征提取 -> 降维 -> 拟合 -> 预测\n",
    "\n",
    " \n",
    "\n",
    "在整个 Pipeline 中，它的属性永远和最后一个估计器属性一样\n",
    "\n",
    " \n",
    "\n",
    "如果最后一个估计器是预测器，那么 Pipeline 是预测器\n",
    "\n",
    "如果最后一个估计器是转换器，那么 Pipeline 是转换器\n",
    "\n",
    " \n",
    "\n",
    "下面用一个简单例子来说明如果用 Pipeline 来做「先填补缺失值-再标准化」这两步的。先生成含缺失值 NaN 的数据 X。"
   ]
  },
  {
   "cell_type": "code",
   "execution_count": 371,
   "metadata": {
    "ExecuteTime": {
     "end_time": "2021-10-13T12:41:50.577356Z",
     "start_time": "2021-10-13T12:41:50.562356Z"
    }
   },
   "outputs": [
    {
     "data": {
      "text/html": [
       "<img src=\"https://img-blog.csdnimg.cn/img_convert/75a9dca7812a02e785a0adad839c8395.png\"/>"
      ],
      "text/plain": [
       "<IPython.core.display.Image object>"
      ]
     },
     "execution_count": 371,
     "metadata": {},
     "output_type": "execute_result"
    }
   ],
   "source": [
    "Image(url='https://img-blog.csdnimg.cn/img_convert/75a9dca7812a02e785a0adad839c8395.png')"
   ]
  },
  {
   "cell_type": "markdown",
   "metadata": {},
   "source": [
    "首先引入 Pipeline，再引入\n",
    "\n",
    " \n",
    "\n",
    "处理缺失值的转换器 SimpleImputer\n",
    "\n",
    "做规划化的转换器 MinMaxScaler"
   ]
  },
  {
   "cell_type": "code",
   "execution_count": 372,
   "metadata": {
    "ExecuteTime": {
     "end_time": "2021-10-13T12:41:50.593308Z",
     "start_time": "2021-10-13T12:41:50.578313Z"
    }
   },
   "outputs": [
    {
     "data": {
      "text/html": [
       "<img src=\"https://img-blog.csdnimg.cn/img_convert/719620d524bc51c74619168bec24017d.png\"/>"
      ],
      "text/plain": [
       "<IPython.core.display.Image object>"
      ]
     },
     "execution_count": 372,
     "metadata": {},
     "output_type": "execute_result"
    }
   ],
   "source": [
    "Image(url='https://img-blog.csdnimg.cn/img_convert/719620d524bc51c74619168bec24017d.png')"
   ]
  },
  {
   "cell_type": "markdown",
   "metadata": {},
   "source": [
    "第 4-7 行创建了流水线，范式非常简单，就在 Pipeline() 里一个输入「含名称的估计器的列表」。SimpleImputer 起名叫 impute，MinMaxScaler起名叫 normalize。\n",
    "\n",
    " \n",
    "\n",
    "由于最后一个估计器是转换器，因此 pipe 也是个转换器。写好了就可以那它来做「先填补缺失值-再标准化」的重复工作了。\n",
    "\n",
    " \n",
    "\n",
    "看看运行结果，值都被填满了，而且两列也被标准化了。"
   ]
  },
  {
   "cell_type": "code",
   "execution_count": 373,
   "metadata": {
    "ExecuteTime": {
     "end_time": "2021-10-13T12:41:50.609262Z",
     "start_time": "2021-10-13T12:41:50.594271Z"
    }
   },
   "outputs": [
    {
     "data": {
      "text/html": [
       "<img src=\"https://img-blog.csdnimg.cn/img_convert/57d9695e1dc1d522abc4f0092a659810.png\"/>"
      ],
      "text/plain": [
       "<IPython.core.display.Image object>"
      ]
     },
     "execution_count": 373,
     "metadata": {},
     "output_type": "execute_result"
    }
   ],
   "source": [
    "Image(url='https://img-blog.csdnimg.cn/img_convert/57d9695e1dc1d522abc4f0092a659810.png')"
   ]
  },
  {
   "cell_type": "markdown",
   "metadata": {},
   "source": [
    "来验证上面流水线的参数，我们可以按顺序来运行这两个转换器，结果是一样的。"
   ]
  },
  {
   "cell_type": "code",
   "execution_count": 374,
   "metadata": {
    "ExecuteTime": {
     "end_time": "2021-10-13T12:41:50.625218Z",
     "start_time": "2021-10-13T12:41:50.610264Z"
    }
   },
   "outputs": [
    {
     "data": {
      "text/html": [
       "<img src=\"https://img-blog.csdnimg.cn/img_convert/7054ab1249e34ec9de570184a50f6587.png\"/>"
      ],
      "text/plain": [
       "<IPython.core.display.Image object>"
      ]
     },
     "execution_count": 374,
     "metadata": {},
     "output_type": "execute_result"
    }
   ],
   "source": [
    "Image(url='https://img-blog.csdnimg.cn/img_convert/7054ab1249e34ec9de570184a50f6587.png')"
   ]
  },
  {
   "cell_type": "code",
   "execution_count": 375,
   "metadata": {
    "ExecuteTime": {
     "end_time": "2021-10-13T12:41:50.641184Z",
     "start_time": "2021-10-13T12:41:50.626184Z"
    }
   },
   "outputs": [
    {
     "data": {
      "text/html": [
       "<img src=\"https://img-blog.csdnimg.cn/img_convert/cd806b1c62285c922890eb2b383e6e00.png\"/>"
      ],
      "text/plain": [
       "<IPython.core.display.Image object>"
      ]
     },
     "execution_count": 375,
     "metadata": {},
     "output_type": "execute_result"
    }
   ],
   "source": [
    "Image(url='https://img-blog.csdnimg.cn/img_convert/cd806b1c62285c922890eb2b383e6e00.png')"
   ]
  },
  {
   "cell_type": "markdown",
   "metadata": {},
   "source": [
    "##### FeatureUnion\n",
    "\n",
    " \n",
    "\n",
    "如果我们想在一个节点同时运行几个估计器，我们可用 FeatureUnion。下例首先建立一个 DataFrame，\n",
    "\n",
    " \n",
    "\n",
    "前两列智力 IQ 和脾气 temper 都是分类型变量\n",
    "\n",
    "后两列收入 income 和身高 height 都是数值型变量\n",
    "\n",
    "每列中都有缺失值"
   ]
  },
  {
   "cell_type": "code",
   "execution_count": 376,
   "metadata": {
    "ExecuteTime": {
     "end_time": "2021-10-13T12:41:50.657102Z",
     "start_time": "2021-10-13T12:41:50.642174Z"
    }
   },
   "outputs": [
    {
     "data": {
      "text/html": [
       "<img src=\"https://img-blog.csdnimg.cn/img_convert/dbaee5faed62dffd0d548c5d6c6f9ab3.png\"/>"
      ],
      "text/plain": [
       "<IPython.core.display.Image object>"
      ]
     },
     "execution_count": 376,
     "metadata": {},
     "output_type": "execute_result"
    }
   ],
   "source": [
    "Image(url='https://img-blog.csdnimg.cn/img_convert/dbaee5faed62dffd0d548c5d6c6f9ab3.png')"
   ]
  },
  {
   "cell_type": "code",
   "execution_count": 377,
   "metadata": {
    "ExecuteTime": {
     "end_time": "2021-10-13T12:41:50.673099Z",
     "start_time": "2021-10-13T12:41:50.658100Z"
    }
   },
   "outputs": [
    {
     "data": {
      "text/html": [
       "<img src=\"https://img-blog.csdnimg.cn/img_convert/8648e46b80c26f24039442fe364741d0.png\"/>"
      ],
      "text/plain": [
       "<IPython.core.display.Image object>"
      ]
     },
     "execution_count": 377,
     "metadata": {},
     "output_type": "execute_result"
    }
   ],
   "source": [
    "Image(url='https://img-blog.csdnimg.cn/img_convert/8648e46b80c26f24039442fe364741d0.png')"
   ]
  },
  {
   "cell_type": "markdown",
   "metadata": {},
   "source": [
    "我们现在按下列步骤来清洗数据。\n",
    "\n",
    " \n",
    "\n",
    "对分类型变量：获取 -> 中位数填充 -> 独热编码\n",
    "\n",
    "对数值型变量：获取 -> 均值填充 -> 标准化\n",
    "\n",
    " \n",
    "\n",
    "上面两步是平行进行的。\n",
    "\n",
    " \n",
    "\n",
    "首先我们自己定义一个从 DataFrame 里面获取每列的类，起名叫 DataFrameSelector。\n"
   ]
  },
  {
   "cell_type": "markdown",
   "metadata": {},
   "source": [
    "##### 知识点"
   ]
  },
  {
   "cell_type": "code",
   "execution_count": 378,
   "metadata": {
    "ExecuteTime": {
     "end_time": "2021-10-13T12:41:50.689016Z",
     "start_time": "2021-10-13T12:41:50.674056Z"
    },
    "scrolled": true
   },
   "outputs": [
    {
     "data": {
      "text/html": [
       "<img src=\"https://img-blog.csdnimg.cn/img_convert/609dc0b16d577938dc593d0213e77e7c.png\"/>"
      ],
      "text/plain": [
       "<IPython.core.display.Image object>"
      ]
     },
     "execution_count": 378,
     "metadata": {},
     "output_type": "execute_result"
    }
   ],
   "source": [
    "Image(url='https://img-blog.csdnimg.cn/img_convert/609dc0b16d577938dc593d0213e77e7c.png')"
   ]
  },
  {
   "cell_type": "markdown",
   "metadata": {},
   "source": [
    "代码不难，主要就是 transform 函数中，将输入的 DataFrame X 根据属性名称来获取其值。\n",
    " \n",
    " \n",
    " \n",
    "\n",
    " \n",
    "\n",
    "接下来建立一个流水线 full_pipe，它并联着两个流水线\n",
    "\n",
    " \n",
    "\n",
    "categorical_pipe 处理分类型变量\n",
    "\n",
    " \n",
    "\n",
    "DataFrameSelector 用来获取\n",
    "\n",
    "SimpleImputer 用出现最多的值来填充 None\n",
    "\n",
    "OneHotEncoder 来编码返回非稀疏矩阵\n",
    "\n",
    " \n",
    "\n",
    "numeric_pipe 处理数值型变量\n",
    "\n",
    " \n",
    "\n",
    "DataFrameSelector 用来获取\n",
    "\n",
    "SimpleImputer 用均值来填充 NaN\n",
    "\n",
    "normalize 来规范化数值\n",
    "\n",
    " \n",
    "\n",
    "下面代码非常漂亮。"
   ]
  },
  {
   "cell_type": "code",
   "execution_count": 379,
   "metadata": {
    "ExecuteTime": {
     "end_time": "2021-10-13T12:41:50.704973Z",
     "start_time": "2021-10-13T12:41:50.690014Z"
    }
   },
   "outputs": [
    {
     "data": {
      "text/html": [
       "<img src=\"https://img-blog.csdnimg.cn/img_convert/67b29149818cc09f614a2ef7833e07f0.png\"/>"
      ],
      "text/plain": [
       "<IPython.core.display.Image object>"
      ]
     },
     "execution_count": 379,
     "metadata": {},
     "output_type": "execute_result"
    }
   ],
   "source": [
    "Image(url='https://img-blog.csdnimg.cn/img_convert/67b29149818cc09f614a2ef7833e07f0.png')"
   ]
  },
  {
   "cell_type": "markdown",
   "metadata": {},
   "source": [
    "将结果打印出来，齐活！   \n",
    "\n",
    "\n",
    "X_proc = full_pipe.fit_transform( X )\t\n",
    "print( X_proc )\n"
   ]
  },
  {
   "cell_type": "markdown",
   "metadata": {},
   "source": [
    "## 总结"
   ]
  },
  {
   "cell_type": "markdown",
   "metadata": {},
   "source": [
    "##### Sklearn 里面设计 API 遵循五大原则。\n",
    "\n",
    "1、一致性\n",
    " \n",
    "所有对象的接口一致且简单，在「估计器」中\n",
    "\n",
    " \n",
    "\n",
    "创建：model = Constructor(hyperparam)\n",
    "\n",
    "拟参：\n",
    "\n",
    "有监督学习 - model.fit(X_train, y_train)\n",
    "\n",
    "无监督学习 - model.fit(X_train)\n",
    "\n",
    " \n",
    "\n",
    "在「预测器」中\n",
    "\n",
    " \n",
    "\n",
    "有监督学习里预测标签：y_pred = model.predict(X_test)\n",
    "\n",
    "无监督学习里识别模式：idx_pred = model.predict( Xtest)\n",
    "\n",
    " \n",
    "\n",
    "在「转换器」中\n",
    "\n",
    " \n",
    "\n",
    "创建：trm = Constructor(hyperparam)\n",
    "\n",
    "获参：trm.fit(X_train)\n",
    "\n",
    "转换：X_trm = trm.transform(X_train)\n",
    "\n",
    " \n",
    "\n",
    "2、可检验\n",
    " \n",
    "所有估计器里设置的超参数和学到的参数都可以通过实例的变量直接访问来检验其值，区别是超参数的名称最后没有下划线 _，而参数的名称最后有下划线 _。举例如下：\n",
    "\n",
    " \n",
    "\n",
    "通例：model.hyperparameter\n",
    "\n",
    "特例：SVC.kernel\n",
    "\n",
    "通例：model.parameter_\n",
    "\n",
    "特例：SVC.support_vectors_\n",
    "\n",
    " \n",
    "\n",
    "3、标准类\n",
    " \n",
    "Sklearn 模型接受的数据集的格式只能是「Numpy 数组」和「Scipy 稀疏矩阵」。超参数的格式只能是「字符」和「数值」。\n",
    "\n",
    " \n",
    "\n",
    "不接受其他的类！\n",
    "\n",
    " \n",
    "\n",
    "4、可组成\n",
    " \n",
    "模块都能重复「连在一起」或「并在一起」使用，比如两种形式流水线 (pipeline)\n",
    "\n",
    " \n",
    "\n",
    "5、任意转换器序列 \n",
    "\n",
    "任意转换器序列 + 估计器\n",
    "\n",
    " \n",
    "\n",
    "6、有默认\n",
    " \n",
    "Sklearn 给大多超参数提供了合理的默认值，大大降低了建模的难度。"
   ]
  },
  {
   "cell_type": "markdown",
   "metadata": {},
   "source": [
    "##### 结合本帖讲的总结一套机器学习的初级框架：\n",
    "\n",
    " \n",
    "\n",
    "确定任务：是「有监督」的分类或回归？还是「无监督」的聚类或降维？确定好后基本就能知道用 Sklearn 里哪些模型了。\n",
    "\n",
    " \n",
    "\n",
    "数据预处理：这步最繁琐，要处理缺失值、异常值；要编码分类型变量；要正规化或标准化数值型变量，等等。但是有了 Pipeline 神器一切变得简单高效。\n",
    "\n",
    " \n",
    "\n",
    "训练和评估：这步最简单，训练用估计器 fit() 先拟合，评估用预测器 predict() 来评估。\n",
    "\n",
    " \n",
    "\n",
    "选择模型：启动 Model Selection 估计器里的 GridSearchCV 和 RandomizedSearchCV，选择得分最高的那组超参数 (即模型)。"
   ]
  }
 ],
 "metadata": {
  "kernelspec": {
   "display_name": "Python 3",
   "language": "python",
   "name": "python3"
  },
  "language_info": {
   "codemirror_mode": {
    "name": "ipython",
    "version": 3
   },
   "file_extension": ".py",
   "mimetype": "text/x-python",
   "name": "python",
   "nbconvert_exporter": "python",
   "pygments_lexer": "ipython3",
   "version": "3.8.5"
  },
  "toc": {
   "base_numbering": 1,
   "nav_menu": {},
   "number_sections": true,
   "sideBar": true,
   "skip_h1_title": false,
   "title_cell": "Table of Contents",
   "title_sidebar": "Contents",
   "toc_cell": true,
   "toc_position": {
    "height": "calc(100% - 180px)",
    "left": "10px",
    "top": "150px",
    "width": "338px"
   },
   "toc_section_display": true,
   "toc_window_display": true
  },
  "varInspector": {
   "cols": {
    "lenName": 16,
    "lenType": 16,
    "lenVar": 40
   },
   "kernels_config": {
    "python": {
     "delete_cmd_postfix": "",
     "delete_cmd_prefix": "del ",
     "library": "var_list.py",
     "varRefreshCmd": "print(var_dic_list())"
    },
    "r": {
     "delete_cmd_postfix": ") ",
     "delete_cmd_prefix": "rm(",
     "library": "var_list.r",
     "varRefreshCmd": "cat(var_dic_list()) "
    }
   },
   "types_to_exclude": [
    "module",
    "function",
    "builtin_function_or_method",
    "instance",
    "_Feature"
   ],
   "window_display": false
  }
 },
 "nbformat": 4,
 "nbformat_minor": 4
}
